{
 "cells": [
  {
   "cell_type": "markdown",
   "metadata": {},
   "source": [
    "# Notebook for used UK-Cars"
   ]
  },
  {
   "cell_type": "markdown",
   "metadata": {},
   "source": [
    " In this notebook we will use the data from kaggle only for 4 manufacturer in Germany: Audi, Mercedes, VW and BMW. "
   ]
  },
  {
   "cell_type": "markdown",
   "metadata": {},
   "source": [
    "# Import all libraries. "
   ]
  },
  {
   "cell_type": "code",
   "execution_count": 1,
   "metadata": {
    "tags": []
   },
   "outputs": [],
   "source": [
    "# import pandas, numpy, datetime module\n",
    "import warnings\n",
    "warnings.filterwarnings(\"ignore\")\n",
    "\n",
    "import pandas as pd\n",
    "import numpy as np\n",
    "from datetime import datetime, date, time, timedelta\n",
    "\n",
    "import datetime\n",
    "import time\n",
    "import re\n",
    "\n",
    "#import statsmodels.api as sm\n",
    "\n",
    "import matplotlib.pyplot as plt\n",
    "import seaborn as snss\n",
    "\n",
    "%matplotlib inline\n",
    "\n",
    "\n",
    "#import ML modules\n",
    "from sklearn.ensemble import RandomForestClassifier\n",
    "from sklearn.tree import DecisionTreeClassifier\n",
    "from sklearn.neighbors import KNeighborsClassifier\n",
    "from sklearn.linear_model import LinearRegression, SGDClassifier\n",
    "\n",
    "from sklearn.model_selection import train_test_split, cross_val_score\n",
    "from sklearn.model_selection import GridSearchCV, RandomizedSearchCV\n",
    "\n",
    "from pprint import pprint # Look at parameters used by our current forest\n",
    "\n",
    "from sklearn.preprocessing import StandardScaler, MinMaxScaler\n",
    "from sklearn.model_selection import StratifiedKFold\n",
    "\n",
    "# import plotting modules\n",
    "import matplotlib.pyplot as plt\n",
    "import seaborn as sns\n",
    "%matplotlib inline\n",
    "\n",
    "# import formattings\n",
    "from matplotlib.ticker import PercentFormatter\n",
    "plt.rcParams.update({ \"figure.figsize\" : (8, 5),\"axes.facecolor\" : \"white\", \"axes.edgecolor\":  \"black\"})\n",
    "plt.rcParams[\"figure.facecolor\"]= \"w\"\n",
    "pd.plotting.register_matplotlib_converters()\n",
    "pd.set_option('display.float_format', lambda x: '%.2f' % x)\n",
    "pd.set_option('display.max_columns', None)\n",
    "\n",
    "RSEED = 3\n",
    "\n",
    "# Setting plt style\n",
    "plt.style.use('fivethirtyeight')\n",
    "\n",
    "# set color theme\n",
    "sns_colors = [\"#FF6D43\", \"#00135D\", '#00135D', '#00135D']\n",
    "sns.set_palette(sns.color_palette(sns_colors))\n",
    "\n",
    "primary = '#FF6D43'\n",
    "secondary = '#00135D'"
   ]
  },
  {
   "cell_type": "markdown",
   "metadata": {},
   "source": [
    "# Data understanding"
   ]
  },
  {
   "cell_type": "markdown",
   "metadata": {},
   "source": [
    "# Audi data"
   ]
  },
  {
   "cell_type": "code",
   "execution_count": 2,
   "metadata": {
    "tags": []
   },
   "outputs": [],
   "source": [
    "#import the data\n",
    "df_audi = pd.read_csv('../data/csv_uk/audi.csv')"
   ]
  },
  {
   "cell_type": "code",
   "execution_count": 3,
   "metadata": {},
   "outputs": [],
   "source": [
    "# add a columns for make\n",
    "df_audi['make'] = 'Audi'"
   ]
  },
  {
   "cell_type": "code",
   "execution_count": 4,
   "metadata": {
    "tags": []
   },
   "outputs": [
    {
     "data": {
      "text/plain": [
       "(10668, 10)"
      ]
     },
     "execution_count": 4,
     "metadata": {},
     "output_type": "execute_result"
    }
   ],
   "source": [
    "df_audi.shape"
   ]
  },
  {
   "cell_type": "code",
   "execution_count": 5,
   "metadata": {
    "tags": []
   },
   "outputs": [
    {
     "data": {
      "text/plain": [
       "False    10565\n",
       "True       103\n",
       "dtype: int64"
      ]
     },
     "execution_count": 5,
     "metadata": {},
     "output_type": "execute_result"
    }
   ],
   "source": [
    "df_audi.duplicated().value_counts()"
   ]
  },
  {
   "cell_type": "code",
   "execution_count": 6,
   "metadata": {
    "tags": []
   },
   "outputs": [
    {
     "data": {
      "text/html": [
       "<div>\n",
       "<style scoped>\n",
       "    .dataframe tbody tr th:only-of-type {\n",
       "        vertical-align: middle;\n",
       "    }\n",
       "\n",
       "    .dataframe tbody tr th {\n",
       "        vertical-align: top;\n",
       "    }\n",
       "\n",
       "    .dataframe thead th {\n",
       "        text-align: right;\n",
       "    }\n",
       "</style>\n",
       "<table border=\"1\" class=\"dataframe\">\n",
       "  <thead>\n",
       "    <tr style=\"text-align: right;\">\n",
       "      <th></th>\n",
       "      <th>model</th>\n",
       "      <th>year</th>\n",
       "      <th>price</th>\n",
       "      <th>transmission</th>\n",
       "      <th>mileage</th>\n",
       "      <th>fuelType</th>\n",
       "      <th>tax</th>\n",
       "      <th>mpg</th>\n",
       "      <th>engineSize</th>\n",
       "      <th>make</th>\n",
       "    </tr>\n",
       "  </thead>\n",
       "  <tbody>\n",
       "    <tr>\n",
       "      <th>0</th>\n",
       "      <td>A1</td>\n",
       "      <td>2017</td>\n",
       "      <td>12500</td>\n",
       "      <td>Manual</td>\n",
       "      <td>15735</td>\n",
       "      <td>Petrol</td>\n",
       "      <td>150</td>\n",
       "      <td>55.40</td>\n",
       "      <td>1.40</td>\n",
       "      <td>Audi</td>\n",
       "    </tr>\n",
       "    <tr>\n",
       "      <th>1</th>\n",
       "      <td>A6</td>\n",
       "      <td>2016</td>\n",
       "      <td>16500</td>\n",
       "      <td>Automatic</td>\n",
       "      <td>36203</td>\n",
       "      <td>Diesel</td>\n",
       "      <td>20</td>\n",
       "      <td>64.20</td>\n",
       "      <td>2.00</td>\n",
       "      <td>Audi</td>\n",
       "    </tr>\n",
       "    <tr>\n",
       "      <th>2</th>\n",
       "      <td>A1</td>\n",
       "      <td>2016</td>\n",
       "      <td>11000</td>\n",
       "      <td>Manual</td>\n",
       "      <td>29946</td>\n",
       "      <td>Petrol</td>\n",
       "      <td>30</td>\n",
       "      <td>55.40</td>\n",
       "      <td>1.40</td>\n",
       "      <td>Audi</td>\n",
       "    </tr>\n",
       "    <tr>\n",
       "      <th>3</th>\n",
       "      <td>A4</td>\n",
       "      <td>2017</td>\n",
       "      <td>16800</td>\n",
       "      <td>Automatic</td>\n",
       "      <td>25952</td>\n",
       "      <td>Diesel</td>\n",
       "      <td>145</td>\n",
       "      <td>67.30</td>\n",
       "      <td>2.00</td>\n",
       "      <td>Audi</td>\n",
       "    </tr>\n",
       "    <tr>\n",
       "      <th>4</th>\n",
       "      <td>A3</td>\n",
       "      <td>2019</td>\n",
       "      <td>17300</td>\n",
       "      <td>Manual</td>\n",
       "      <td>1998</td>\n",
       "      <td>Petrol</td>\n",
       "      <td>145</td>\n",
       "      <td>49.60</td>\n",
       "      <td>1.00</td>\n",
       "      <td>Audi</td>\n",
       "    </tr>\n",
       "  </tbody>\n",
       "</table>\n",
       "</div>"
      ],
      "text/plain": [
       "  model  year  price transmission  mileage fuelType  tax   mpg  engineSize  \\\n",
       "0    A1  2017  12500       Manual    15735   Petrol  150 55.40        1.40   \n",
       "1    A6  2016  16500    Automatic    36203   Diesel   20 64.20        2.00   \n",
       "2    A1  2016  11000       Manual    29946   Petrol   30 55.40        1.40   \n",
       "3    A4  2017  16800    Automatic    25952   Diesel  145 67.30        2.00   \n",
       "4    A3  2019  17300       Manual     1998   Petrol  145 49.60        1.00   \n",
       "\n",
       "   make  \n",
       "0  Audi  \n",
       "1  Audi  \n",
       "2  Audi  \n",
       "3  Audi  \n",
       "4  Audi  "
      ]
     },
     "execution_count": 6,
     "metadata": {},
     "output_type": "execute_result"
    }
   ],
   "source": [
    "df_audi.head()"
   ]
  },
  {
   "cell_type": "code",
   "execution_count": 7,
   "metadata": {
    "tags": []
   },
   "outputs": [
    {
     "name": "stdout",
     "output_type": "stream",
     "text": [
      "<class 'pandas.core.frame.DataFrame'>\n",
      "RangeIndex: 10668 entries, 0 to 10667\n",
      "Data columns (total 10 columns):\n",
      " #   Column        Non-Null Count  Dtype  \n",
      "---  ------        --------------  -----  \n",
      " 0   model         10668 non-null  object \n",
      " 1   year          10668 non-null  int64  \n",
      " 2   price         10668 non-null  int64  \n",
      " 3   transmission  10668 non-null  object \n",
      " 4   mileage       10668 non-null  int64  \n",
      " 5   fuelType      10668 non-null  object \n",
      " 6   tax           10668 non-null  int64  \n",
      " 7   mpg           10668 non-null  float64\n",
      " 8   engineSize    10668 non-null  float64\n",
      " 9   make          10668 non-null  object \n",
      "dtypes: float64(2), int64(4), object(4)\n",
      "memory usage: 833.6+ KB\n"
     ]
    }
   ],
   "source": [
    "df_audi.info()"
   ]
  },
  {
   "cell_type": "code",
   "execution_count": 8,
   "metadata": {
    "tags": []
   },
   "outputs": [
    {
     "data": {
      "text/plain": [
       "model           0\n",
       "year            0\n",
       "price           0\n",
       "transmission    0\n",
       "mileage         0\n",
       "fuelType        0\n",
       "tax             0\n",
       "mpg             0\n",
       "engineSize      0\n",
       "make            0\n",
       "dtype: int64"
      ]
     },
     "execution_count": 8,
     "metadata": {},
     "output_type": "execute_result"
    }
   ],
   "source": [
    "# Count NULL values\n",
    "df_audi.isnull().sum()"
   ]
  },
  {
   "cell_type": "code",
   "execution_count": 9,
   "metadata": {
    "tags": []
   },
   "outputs": [
    {
     "data": {
      "text/plain": [
       "Index(['model', 'year', 'price', 'transmission', 'mileage', 'fuelType', 'tax',\n",
       "       'mpg', 'engineSize', 'make'],\n",
       "      dtype='object')"
      ]
     },
     "execution_count": 9,
     "metadata": {},
     "output_type": "execute_result"
    }
   ],
   "source": [
    "df_audi.columns"
   ]
  },
  {
   "cell_type": "code",
   "execution_count": 10,
   "metadata": {
    "tags": []
   },
   "outputs": [
    {
     "data": {
      "text/plain": [
       "array([' A1', ' A6', ' A4', ' A3', ' Q3', ' Q5', ' A5', ' S4', ' Q2',\n",
       "       ' A7', ' TT', ' Q7', ' RS6', ' RS3', ' A8', ' Q8', ' RS4', ' RS5',\n",
       "       ' R8', ' SQ5', ' S8', ' SQ7', ' S3', ' S5', ' A2', ' RS7'],\n",
       "      dtype=object)"
      ]
     },
     "execution_count": 10,
     "metadata": {},
     "output_type": "execute_result"
    }
   ],
   "source": [
    "# find out which models the table have\n",
    "df_audi['model'].unique()"
   ]
  },
  {
   "cell_type": "markdown",
   "metadata": {},
   "source": [
    "# VW Data"
   ]
  },
  {
   "cell_type": "code",
   "execution_count": 11,
   "metadata": {},
   "outputs": [],
   "source": [
    "df_vw = pd.read_csv('../data/csv_uk/vw.csv')"
   ]
  },
  {
   "cell_type": "code",
   "execution_count": 12,
   "metadata": {},
   "outputs": [],
   "source": [
    "# add a columns for make\n",
    "df_vw['make'] = 'Volkswagen'"
   ]
  },
  {
   "cell_type": "code",
   "execution_count": 13,
   "metadata": {},
   "outputs": [
    {
     "data": {
      "text/html": [
       "<div>\n",
       "<style scoped>\n",
       "    .dataframe tbody tr th:only-of-type {\n",
       "        vertical-align: middle;\n",
       "    }\n",
       "\n",
       "    .dataframe tbody tr th {\n",
       "        vertical-align: top;\n",
       "    }\n",
       "\n",
       "    .dataframe thead th {\n",
       "        text-align: right;\n",
       "    }\n",
       "</style>\n",
       "<table border=\"1\" class=\"dataframe\">\n",
       "  <thead>\n",
       "    <tr style=\"text-align: right;\">\n",
       "      <th></th>\n",
       "      <th>model</th>\n",
       "      <th>year</th>\n",
       "      <th>price</th>\n",
       "      <th>transmission</th>\n",
       "      <th>mileage</th>\n",
       "      <th>fuelType</th>\n",
       "      <th>tax</th>\n",
       "      <th>mpg</th>\n",
       "      <th>engineSize</th>\n",
       "      <th>make</th>\n",
       "    </tr>\n",
       "  </thead>\n",
       "  <tbody>\n",
       "    <tr>\n",
       "      <th>0</th>\n",
       "      <td>T-Roc</td>\n",
       "      <td>2019</td>\n",
       "      <td>25000</td>\n",
       "      <td>Automatic</td>\n",
       "      <td>13904</td>\n",
       "      <td>Diesel</td>\n",
       "      <td>145</td>\n",
       "      <td>49.60</td>\n",
       "      <td>2.00</td>\n",
       "      <td>Volkswagen</td>\n",
       "    </tr>\n",
       "    <tr>\n",
       "      <th>1</th>\n",
       "      <td>T-Roc</td>\n",
       "      <td>2019</td>\n",
       "      <td>26883</td>\n",
       "      <td>Automatic</td>\n",
       "      <td>4562</td>\n",
       "      <td>Diesel</td>\n",
       "      <td>145</td>\n",
       "      <td>49.60</td>\n",
       "      <td>2.00</td>\n",
       "      <td>Volkswagen</td>\n",
       "    </tr>\n",
       "    <tr>\n",
       "      <th>2</th>\n",
       "      <td>T-Roc</td>\n",
       "      <td>2019</td>\n",
       "      <td>20000</td>\n",
       "      <td>Manual</td>\n",
       "      <td>7414</td>\n",
       "      <td>Diesel</td>\n",
       "      <td>145</td>\n",
       "      <td>50.40</td>\n",
       "      <td>2.00</td>\n",
       "      <td>Volkswagen</td>\n",
       "    </tr>\n",
       "    <tr>\n",
       "      <th>3</th>\n",
       "      <td>T-Roc</td>\n",
       "      <td>2019</td>\n",
       "      <td>33492</td>\n",
       "      <td>Automatic</td>\n",
       "      <td>4825</td>\n",
       "      <td>Petrol</td>\n",
       "      <td>145</td>\n",
       "      <td>32.50</td>\n",
       "      <td>2.00</td>\n",
       "      <td>Volkswagen</td>\n",
       "    </tr>\n",
       "    <tr>\n",
       "      <th>4</th>\n",
       "      <td>T-Roc</td>\n",
       "      <td>2019</td>\n",
       "      <td>22900</td>\n",
       "      <td>Semi-Auto</td>\n",
       "      <td>6500</td>\n",
       "      <td>Petrol</td>\n",
       "      <td>150</td>\n",
       "      <td>39.80</td>\n",
       "      <td>1.50</td>\n",
       "      <td>Volkswagen</td>\n",
       "    </tr>\n",
       "  </tbody>\n",
       "</table>\n",
       "</div>"
      ],
      "text/plain": [
       "    model  year  price transmission  mileage fuelType  tax   mpg  engineSize  \\\n",
       "0   T-Roc  2019  25000    Automatic    13904   Diesel  145 49.60        2.00   \n",
       "1   T-Roc  2019  26883    Automatic     4562   Diesel  145 49.60        2.00   \n",
       "2   T-Roc  2019  20000       Manual     7414   Diesel  145 50.40        2.00   \n",
       "3   T-Roc  2019  33492    Automatic     4825   Petrol  145 32.50        2.00   \n",
       "4   T-Roc  2019  22900    Semi-Auto     6500   Petrol  150 39.80        1.50   \n",
       "\n",
       "         make  \n",
       "0  Volkswagen  \n",
       "1  Volkswagen  \n",
       "2  Volkswagen  \n",
       "3  Volkswagen  \n",
       "4  Volkswagen  "
      ]
     },
     "execution_count": 13,
     "metadata": {},
     "output_type": "execute_result"
    }
   ],
   "source": [
    "df_vw.head()"
   ]
  },
  {
   "cell_type": "code",
   "execution_count": 14,
   "metadata": {},
   "outputs": [
    {
     "data": {
      "text/plain": [
       "(15157, 10)"
      ]
     },
     "execution_count": 14,
     "metadata": {},
     "output_type": "execute_result"
    }
   ],
   "source": [
    "df_vw.shape"
   ]
  },
  {
   "cell_type": "code",
   "execution_count": 15,
   "metadata": {},
   "outputs": [
    {
     "data": {
      "text/plain": [
       "False    14893\n",
       "True       264\n",
       "dtype: int64"
      ]
     },
     "execution_count": 15,
     "metadata": {},
     "output_type": "execute_result"
    }
   ],
   "source": [
    "df_vw.duplicated().value_counts()"
   ]
  },
  {
   "cell_type": "code",
   "execution_count": 16,
   "metadata": {},
   "outputs": [
    {
     "name": "stdout",
     "output_type": "stream",
     "text": [
      "<class 'pandas.core.frame.DataFrame'>\n",
      "RangeIndex: 15157 entries, 0 to 15156\n",
      "Data columns (total 10 columns):\n",
      " #   Column        Non-Null Count  Dtype  \n",
      "---  ------        --------------  -----  \n",
      " 0   model         15157 non-null  object \n",
      " 1   year          15157 non-null  int64  \n",
      " 2   price         15157 non-null  int64  \n",
      " 3   transmission  15157 non-null  object \n",
      " 4   mileage       15157 non-null  int64  \n",
      " 5   fuelType      15157 non-null  object \n",
      " 6   tax           15157 non-null  int64  \n",
      " 7   mpg           15157 non-null  float64\n",
      " 8   engineSize    15157 non-null  float64\n",
      " 9   make          15157 non-null  object \n",
      "dtypes: float64(2), int64(4), object(4)\n",
      "memory usage: 1.2+ MB\n"
     ]
    }
   ],
   "source": [
    "df_vw.info()"
   ]
  },
  {
   "cell_type": "code",
   "execution_count": 17,
   "metadata": {},
   "outputs": [
    {
     "data": {
      "text/plain": [
       "model           0\n",
       "year            0\n",
       "price           0\n",
       "transmission    0\n",
       "mileage         0\n",
       "fuelType        0\n",
       "tax             0\n",
       "mpg             0\n",
       "engineSize      0\n",
       "make            0\n",
       "dtype: int64"
      ]
     },
     "execution_count": 17,
     "metadata": {},
     "output_type": "execute_result"
    }
   ],
   "source": [
    "df_vw.isnull().sum()"
   ]
  },
  {
   "cell_type": "code",
   "execution_count": 18,
   "metadata": {},
   "outputs": [
    {
     "data": {
      "text/plain": [
       "Index(['model', 'year', 'price', 'transmission', 'mileage', 'fuelType', 'tax',\n",
       "       'mpg', 'engineSize', 'make'],\n",
       "      dtype='object')"
      ]
     },
     "execution_count": 18,
     "metadata": {},
     "output_type": "execute_result"
    }
   ],
   "source": [
    "df_vw.columns"
   ]
  },
  {
   "cell_type": "code",
   "execution_count": 19,
   "metadata": {},
   "outputs": [
    {
     "data": {
      "text/plain": [
       "array([' T-Roc', ' Golf', ' Passat', ' T-Cross', ' Polo', ' Tiguan',\n",
       "       ' Sharan', ' Up', ' Scirocco', ' Beetle', ' Caddy Maxi Life',\n",
       "       ' Caravelle', ' Touareg', ' Arteon', ' Touran', ' Golf SV',\n",
       "       ' Amarok', ' Tiguan Allspace', ' Shuttle', ' Jetta', ' CC',\n",
       "       ' California', ' Caddy Life', ' Caddy', ' Caddy Maxi', ' Eos',\n",
       "       ' Fox'], dtype=object)"
      ]
     },
     "execution_count": 19,
     "metadata": {},
     "output_type": "execute_result"
    }
   ],
   "source": [
    "df_vw['model'].unique()"
   ]
  },
  {
   "cell_type": "markdown",
   "metadata": {},
   "source": [
    "# BMW Data"
   ]
  },
  {
   "cell_type": "code",
   "execution_count": 20,
   "metadata": {},
   "outputs": [],
   "source": [
    "df_bmw = pd.read_csv('../data/csv_uk/bmw.csv')"
   ]
  },
  {
   "cell_type": "code",
   "execution_count": 21,
   "metadata": {},
   "outputs": [],
   "source": [
    "# add a columns for make\n",
    "df_bmw['make'] = 'BMW'"
   ]
  },
  {
   "cell_type": "code",
   "execution_count": 22,
   "metadata": {},
   "outputs": [
    {
     "data": {
      "text/html": [
       "<div>\n",
       "<style scoped>\n",
       "    .dataframe tbody tr th:only-of-type {\n",
       "        vertical-align: middle;\n",
       "    }\n",
       "\n",
       "    .dataframe tbody tr th {\n",
       "        vertical-align: top;\n",
       "    }\n",
       "\n",
       "    .dataframe thead th {\n",
       "        text-align: right;\n",
       "    }\n",
       "</style>\n",
       "<table border=\"1\" class=\"dataframe\">\n",
       "  <thead>\n",
       "    <tr style=\"text-align: right;\">\n",
       "      <th></th>\n",
       "      <th>model</th>\n",
       "      <th>year</th>\n",
       "      <th>price</th>\n",
       "      <th>transmission</th>\n",
       "      <th>mileage</th>\n",
       "      <th>fuelType</th>\n",
       "      <th>tax</th>\n",
       "      <th>mpg</th>\n",
       "      <th>engineSize</th>\n",
       "      <th>make</th>\n",
       "    </tr>\n",
       "  </thead>\n",
       "  <tbody>\n",
       "    <tr>\n",
       "      <th>0</th>\n",
       "      <td>5 Series</td>\n",
       "      <td>2014</td>\n",
       "      <td>11200</td>\n",
       "      <td>Automatic</td>\n",
       "      <td>67068</td>\n",
       "      <td>Diesel</td>\n",
       "      <td>125</td>\n",
       "      <td>57.60</td>\n",
       "      <td>2.00</td>\n",
       "      <td>BMW</td>\n",
       "    </tr>\n",
       "    <tr>\n",
       "      <th>1</th>\n",
       "      <td>6 Series</td>\n",
       "      <td>2018</td>\n",
       "      <td>27000</td>\n",
       "      <td>Automatic</td>\n",
       "      <td>14827</td>\n",
       "      <td>Petrol</td>\n",
       "      <td>145</td>\n",
       "      <td>42.80</td>\n",
       "      <td>2.00</td>\n",
       "      <td>BMW</td>\n",
       "    </tr>\n",
       "    <tr>\n",
       "      <th>2</th>\n",
       "      <td>5 Series</td>\n",
       "      <td>2016</td>\n",
       "      <td>16000</td>\n",
       "      <td>Automatic</td>\n",
       "      <td>62794</td>\n",
       "      <td>Diesel</td>\n",
       "      <td>160</td>\n",
       "      <td>51.40</td>\n",
       "      <td>3.00</td>\n",
       "      <td>BMW</td>\n",
       "    </tr>\n",
       "    <tr>\n",
       "      <th>3</th>\n",
       "      <td>1 Series</td>\n",
       "      <td>2017</td>\n",
       "      <td>12750</td>\n",
       "      <td>Automatic</td>\n",
       "      <td>26676</td>\n",
       "      <td>Diesel</td>\n",
       "      <td>145</td>\n",
       "      <td>72.40</td>\n",
       "      <td>1.50</td>\n",
       "      <td>BMW</td>\n",
       "    </tr>\n",
       "    <tr>\n",
       "      <th>4</th>\n",
       "      <td>7 Series</td>\n",
       "      <td>2014</td>\n",
       "      <td>14500</td>\n",
       "      <td>Automatic</td>\n",
       "      <td>39554</td>\n",
       "      <td>Diesel</td>\n",
       "      <td>160</td>\n",
       "      <td>50.40</td>\n",
       "      <td>3.00</td>\n",
       "      <td>BMW</td>\n",
       "    </tr>\n",
       "  </tbody>\n",
       "</table>\n",
       "</div>"
      ],
      "text/plain": [
       "       model  year  price transmission  mileage fuelType  tax   mpg  \\\n",
       "0   5 Series  2014  11200    Automatic    67068   Diesel  125 57.60   \n",
       "1   6 Series  2018  27000    Automatic    14827   Petrol  145 42.80   \n",
       "2   5 Series  2016  16000    Automatic    62794   Diesel  160 51.40   \n",
       "3   1 Series  2017  12750    Automatic    26676   Diesel  145 72.40   \n",
       "4   7 Series  2014  14500    Automatic    39554   Diesel  160 50.40   \n",
       "\n",
       "   engineSize make  \n",
       "0        2.00  BMW  \n",
       "1        2.00  BMW  \n",
       "2        3.00  BMW  \n",
       "3        1.50  BMW  \n",
       "4        3.00  BMW  "
      ]
     },
     "execution_count": 22,
     "metadata": {},
     "output_type": "execute_result"
    }
   ],
   "source": [
    "df_bmw.head()"
   ]
  },
  {
   "cell_type": "code",
   "execution_count": 23,
   "metadata": {},
   "outputs": [
    {
     "data": {
      "text/plain": [
       "(10781, 10)"
      ]
     },
     "execution_count": 23,
     "metadata": {},
     "output_type": "execute_result"
    }
   ],
   "source": [
    "df_bmw.shape"
   ]
  },
  {
   "cell_type": "code",
   "execution_count": 24,
   "metadata": {},
   "outputs": [
    {
     "data": {
      "text/plain": [
       "False    10664\n",
       "True       117\n",
       "dtype: int64"
      ]
     },
     "execution_count": 24,
     "metadata": {},
     "output_type": "execute_result"
    }
   ],
   "source": [
    "df_bmw.duplicated().value_counts()"
   ]
  },
  {
   "cell_type": "code",
   "execution_count": 25,
   "metadata": {},
   "outputs": [
    {
     "name": "stdout",
     "output_type": "stream",
     "text": [
      "<class 'pandas.core.frame.DataFrame'>\n",
      "RangeIndex: 10781 entries, 0 to 10780\n",
      "Data columns (total 10 columns):\n",
      " #   Column        Non-Null Count  Dtype  \n",
      "---  ------        --------------  -----  \n",
      " 0   model         10781 non-null  object \n",
      " 1   year          10781 non-null  int64  \n",
      " 2   price         10781 non-null  int64  \n",
      " 3   transmission  10781 non-null  object \n",
      " 4   mileage       10781 non-null  int64  \n",
      " 5   fuelType      10781 non-null  object \n",
      " 6   tax           10781 non-null  int64  \n",
      " 7   mpg           10781 non-null  float64\n",
      " 8   engineSize    10781 non-null  float64\n",
      " 9   make          10781 non-null  object \n",
      "dtypes: float64(2), int64(4), object(4)\n",
      "memory usage: 842.4+ KB\n"
     ]
    }
   ],
   "source": [
    "df_bmw.info()"
   ]
  },
  {
   "cell_type": "code",
   "execution_count": 26,
   "metadata": {},
   "outputs": [
    {
     "data": {
      "text/plain": [
       "model           0\n",
       "year            0\n",
       "price           0\n",
       "transmission    0\n",
       "mileage         0\n",
       "fuelType        0\n",
       "tax             0\n",
       "mpg             0\n",
       "engineSize      0\n",
       "make            0\n",
       "dtype: int64"
      ]
     },
     "execution_count": 26,
     "metadata": {},
     "output_type": "execute_result"
    }
   ],
   "source": [
    "df_bmw.isnull().sum()"
   ]
  },
  {
   "cell_type": "code",
   "execution_count": 27,
   "metadata": {},
   "outputs": [
    {
     "data": {
      "text/plain": [
       "Index(['model', 'year', 'price', 'transmission', 'mileage', 'fuelType', 'tax',\n",
       "       'mpg', 'engineSize', 'make'],\n",
       "      dtype='object')"
      ]
     },
     "execution_count": 27,
     "metadata": {},
     "output_type": "execute_result"
    }
   ],
   "source": [
    "df_bmw.columns"
   ]
  },
  {
   "cell_type": "code",
   "execution_count": 28,
   "metadata": {},
   "outputs": [
    {
     "data": {
      "text/plain": [
       "array([' 5 Series', ' 6 Series', ' 1 Series', ' 7 Series', ' 2 Series',\n",
       "       ' 4 Series', ' X3', ' 3 Series', ' X5', ' X4', ' i3', ' X1', ' M4',\n",
       "       ' X2', ' X6', ' 8 Series', ' Z4', ' X7', ' M5', ' i8', ' M2',\n",
       "       ' M3', ' M6', ' Z3'], dtype=object)"
      ]
     },
     "execution_count": 28,
     "metadata": {},
     "output_type": "execute_result"
    }
   ],
   "source": [
    "df_bmw['model'].unique()"
   ]
  },
  {
   "cell_type": "markdown",
   "metadata": {},
   "source": [
    "# Mercedes Data"
   ]
  },
  {
   "cell_type": "code",
   "execution_count": 29,
   "metadata": {},
   "outputs": [],
   "source": [
    "df_merc = pd.read_csv('../data/csv_uk/merc.csv')"
   ]
  },
  {
   "cell_type": "code",
   "execution_count": 30,
   "metadata": {},
   "outputs": [],
   "source": [
    "# add a columns for make\n",
    "df_merc['make'] = 'Mercedes-Benz'"
   ]
  },
  {
   "cell_type": "code",
   "execution_count": 31,
   "metadata": {},
   "outputs": [
    {
     "data": {
      "text/html": [
       "<div>\n",
       "<style scoped>\n",
       "    .dataframe tbody tr th:only-of-type {\n",
       "        vertical-align: middle;\n",
       "    }\n",
       "\n",
       "    .dataframe tbody tr th {\n",
       "        vertical-align: top;\n",
       "    }\n",
       "\n",
       "    .dataframe thead th {\n",
       "        text-align: right;\n",
       "    }\n",
       "</style>\n",
       "<table border=\"1\" class=\"dataframe\">\n",
       "  <thead>\n",
       "    <tr style=\"text-align: right;\">\n",
       "      <th></th>\n",
       "      <th>model</th>\n",
       "      <th>year</th>\n",
       "      <th>price</th>\n",
       "      <th>transmission</th>\n",
       "      <th>mileage</th>\n",
       "      <th>fuelType</th>\n",
       "      <th>tax</th>\n",
       "      <th>mpg</th>\n",
       "      <th>engineSize</th>\n",
       "      <th>make</th>\n",
       "    </tr>\n",
       "  </thead>\n",
       "  <tbody>\n",
       "    <tr>\n",
       "      <th>0</th>\n",
       "      <td>SLK</td>\n",
       "      <td>2005</td>\n",
       "      <td>5200</td>\n",
       "      <td>Automatic</td>\n",
       "      <td>63000</td>\n",
       "      <td>Petrol</td>\n",
       "      <td>325</td>\n",
       "      <td>32.10</td>\n",
       "      <td>1.80</td>\n",
       "      <td>Mercedes-Benz</td>\n",
       "    </tr>\n",
       "    <tr>\n",
       "      <th>1</th>\n",
       "      <td>S Class</td>\n",
       "      <td>2017</td>\n",
       "      <td>34948</td>\n",
       "      <td>Automatic</td>\n",
       "      <td>27000</td>\n",
       "      <td>Hybrid</td>\n",
       "      <td>20</td>\n",
       "      <td>61.40</td>\n",
       "      <td>2.10</td>\n",
       "      <td>Mercedes-Benz</td>\n",
       "    </tr>\n",
       "    <tr>\n",
       "      <th>2</th>\n",
       "      <td>SL CLASS</td>\n",
       "      <td>2016</td>\n",
       "      <td>49948</td>\n",
       "      <td>Automatic</td>\n",
       "      <td>6200</td>\n",
       "      <td>Petrol</td>\n",
       "      <td>555</td>\n",
       "      <td>28.00</td>\n",
       "      <td>5.50</td>\n",
       "      <td>Mercedes-Benz</td>\n",
       "    </tr>\n",
       "    <tr>\n",
       "      <th>3</th>\n",
       "      <td>G Class</td>\n",
       "      <td>2016</td>\n",
       "      <td>61948</td>\n",
       "      <td>Automatic</td>\n",
       "      <td>16000</td>\n",
       "      <td>Petrol</td>\n",
       "      <td>325</td>\n",
       "      <td>30.40</td>\n",
       "      <td>4.00</td>\n",
       "      <td>Mercedes-Benz</td>\n",
       "    </tr>\n",
       "    <tr>\n",
       "      <th>4</th>\n",
       "      <td>G Class</td>\n",
       "      <td>2016</td>\n",
       "      <td>73948</td>\n",
       "      <td>Automatic</td>\n",
       "      <td>4000</td>\n",
       "      <td>Petrol</td>\n",
       "      <td>325</td>\n",
       "      <td>30.10</td>\n",
       "      <td>4.00</td>\n",
       "      <td>Mercedes-Benz</td>\n",
       "    </tr>\n",
       "  </tbody>\n",
       "</table>\n",
       "</div>"
      ],
      "text/plain": [
       "       model  year  price transmission  mileage fuelType  tax   mpg  \\\n",
       "0        SLK  2005   5200    Automatic    63000   Petrol  325 32.10   \n",
       "1    S Class  2017  34948    Automatic    27000   Hybrid   20 61.40   \n",
       "2   SL CLASS  2016  49948    Automatic     6200   Petrol  555 28.00   \n",
       "3    G Class  2016  61948    Automatic    16000   Petrol  325 30.40   \n",
       "4    G Class  2016  73948    Automatic     4000   Petrol  325 30.10   \n",
       "\n",
       "   engineSize           make  \n",
       "0        1.80  Mercedes-Benz  \n",
       "1        2.10  Mercedes-Benz  \n",
       "2        5.50  Mercedes-Benz  \n",
       "3        4.00  Mercedes-Benz  \n",
       "4        4.00  Mercedes-Benz  "
      ]
     },
     "execution_count": 31,
     "metadata": {},
     "output_type": "execute_result"
    }
   ],
   "source": [
    "df_merc.head()"
   ]
  },
  {
   "cell_type": "code",
   "execution_count": 32,
   "metadata": {},
   "outputs": [
    {
     "data": {
      "text/plain": [
       "(13119, 10)"
      ]
     },
     "execution_count": 32,
     "metadata": {},
     "output_type": "execute_result"
    }
   ],
   "source": [
    "df_merc.shape"
   ]
  },
  {
   "cell_type": "code",
   "execution_count": 33,
   "metadata": {},
   "outputs": [
    {
     "data": {
      "text/plain": [
       "False    12860\n",
       "True       259\n",
       "dtype: int64"
      ]
     },
     "execution_count": 33,
     "metadata": {},
     "output_type": "execute_result"
    }
   ],
   "source": [
    "df_merc.duplicated().value_counts()"
   ]
  },
  {
   "cell_type": "code",
   "execution_count": 34,
   "metadata": {},
   "outputs": [
    {
     "name": "stdout",
     "output_type": "stream",
     "text": [
      "<class 'pandas.core.frame.DataFrame'>\n",
      "RangeIndex: 13119 entries, 0 to 13118\n",
      "Data columns (total 10 columns):\n",
      " #   Column        Non-Null Count  Dtype  \n",
      "---  ------        --------------  -----  \n",
      " 0   model         13119 non-null  object \n",
      " 1   year          13119 non-null  int64  \n",
      " 2   price         13119 non-null  int64  \n",
      " 3   transmission  13119 non-null  object \n",
      " 4   mileage       13119 non-null  int64  \n",
      " 5   fuelType      13119 non-null  object \n",
      " 6   tax           13119 non-null  int64  \n",
      " 7   mpg           13119 non-null  float64\n",
      " 8   engineSize    13119 non-null  float64\n",
      " 9   make          13119 non-null  object \n",
      "dtypes: float64(2), int64(4), object(4)\n",
      "memory usage: 1.0+ MB\n"
     ]
    }
   ],
   "source": [
    "df_merc.info()"
   ]
  },
  {
   "cell_type": "code",
   "execution_count": 35,
   "metadata": {},
   "outputs": [
    {
     "data": {
      "text/plain": [
       "model           0\n",
       "year            0\n",
       "price           0\n",
       "transmission    0\n",
       "mileage         0\n",
       "fuelType        0\n",
       "tax             0\n",
       "mpg             0\n",
       "engineSize      0\n",
       "make            0\n",
       "dtype: int64"
      ]
     },
     "execution_count": 35,
     "metadata": {},
     "output_type": "execute_result"
    }
   ],
   "source": [
    "df_merc.isnull().sum()"
   ]
  },
  {
   "cell_type": "code",
   "execution_count": 36,
   "metadata": {},
   "outputs": [
    {
     "data": {
      "text/plain": [
       "Index(['model', 'year', 'price', 'transmission', 'mileage', 'fuelType', 'tax',\n",
       "       'mpg', 'engineSize', 'make'],\n",
       "      dtype='object')"
      ]
     },
     "execution_count": 36,
     "metadata": {},
     "output_type": "execute_result"
    }
   ],
   "source": [
    "df_merc.columns"
   ]
  },
  {
   "cell_type": "code",
   "execution_count": 37,
   "metadata": {},
   "outputs": [
    {
     "data": {
      "text/plain": [
       "array([' SLK', ' S Class', ' SL CLASS', ' G Class', ' GLE Class',\n",
       "       ' GLA Class', ' A Class', ' B Class', ' GLC Class', ' C Class',\n",
       "       ' E Class', ' GL Class', ' CLS Class', ' CLC Class', ' CLA Class',\n",
       "       ' V Class', ' M Class', ' CL Class', ' GLS Class', ' GLB Class',\n",
       "       ' X-CLASS', '180', ' CLK', ' R Class', '230', '220', '200'],\n",
       "      dtype=object)"
      ]
     },
     "execution_count": 37,
     "metadata": {},
     "output_type": "execute_result"
    }
   ],
   "source": [
    "df_merc['model'].unique()"
   ]
  },
  {
   "cell_type": "markdown",
   "metadata": {},
   "source": [
    "# The merge of all dataframes "
   ]
  },
  {
   "cell_type": "code",
   "execution_count": 38,
   "metadata": {
    "tags": []
   },
   "outputs": [
    {
     "data": {
      "text/html": [
       "<div>\n",
       "<style scoped>\n",
       "    .dataframe tbody tr th:only-of-type {\n",
       "        vertical-align: middle;\n",
       "    }\n",
       "\n",
       "    .dataframe tbody tr th {\n",
       "        vertical-align: top;\n",
       "    }\n",
       "\n",
       "    .dataframe thead th {\n",
       "        text-align: right;\n",
       "    }\n",
       "</style>\n",
       "<table border=\"1\" class=\"dataframe\">\n",
       "  <thead>\n",
       "    <tr style=\"text-align: right;\">\n",
       "      <th></th>\n",
       "      <th>model</th>\n",
       "      <th>year</th>\n",
       "      <th>price</th>\n",
       "      <th>transmission</th>\n",
       "      <th>mileage</th>\n",
       "      <th>fuelType</th>\n",
       "      <th>tax</th>\n",
       "      <th>mpg</th>\n",
       "      <th>engineSize</th>\n",
       "      <th>make</th>\n",
       "    </tr>\n",
       "  </thead>\n",
       "  <tbody>\n",
       "    <tr>\n",
       "      <th>0</th>\n",
       "      <td>A1</td>\n",
       "      <td>2017</td>\n",
       "      <td>12500</td>\n",
       "      <td>Manual</td>\n",
       "      <td>15735</td>\n",
       "      <td>Petrol</td>\n",
       "      <td>150</td>\n",
       "      <td>55.40</td>\n",
       "      <td>1.40</td>\n",
       "      <td>Audi</td>\n",
       "    </tr>\n",
       "    <tr>\n",
       "      <th>1</th>\n",
       "      <td>A6</td>\n",
       "      <td>2016</td>\n",
       "      <td>16500</td>\n",
       "      <td>Automatic</td>\n",
       "      <td>36203</td>\n",
       "      <td>Diesel</td>\n",
       "      <td>20</td>\n",
       "      <td>64.20</td>\n",
       "      <td>2.00</td>\n",
       "      <td>Audi</td>\n",
       "    </tr>\n",
       "    <tr>\n",
       "      <th>2</th>\n",
       "      <td>A1</td>\n",
       "      <td>2016</td>\n",
       "      <td>11000</td>\n",
       "      <td>Manual</td>\n",
       "      <td>29946</td>\n",
       "      <td>Petrol</td>\n",
       "      <td>30</td>\n",
       "      <td>55.40</td>\n",
       "      <td>1.40</td>\n",
       "      <td>Audi</td>\n",
       "    </tr>\n",
       "    <tr>\n",
       "      <th>3</th>\n",
       "      <td>A4</td>\n",
       "      <td>2017</td>\n",
       "      <td>16800</td>\n",
       "      <td>Automatic</td>\n",
       "      <td>25952</td>\n",
       "      <td>Diesel</td>\n",
       "      <td>145</td>\n",
       "      <td>67.30</td>\n",
       "      <td>2.00</td>\n",
       "      <td>Audi</td>\n",
       "    </tr>\n",
       "    <tr>\n",
       "      <th>4</th>\n",
       "      <td>A3</td>\n",
       "      <td>2019</td>\n",
       "      <td>17300</td>\n",
       "      <td>Manual</td>\n",
       "      <td>1998</td>\n",
       "      <td>Petrol</td>\n",
       "      <td>145</td>\n",
       "      <td>49.60</td>\n",
       "      <td>1.00</td>\n",
       "      <td>Audi</td>\n",
       "    </tr>\n",
       "    <tr>\n",
       "      <th>...</th>\n",
       "      <td>...</td>\n",
       "      <td>...</td>\n",
       "      <td>...</td>\n",
       "      <td>...</td>\n",
       "      <td>...</td>\n",
       "      <td>...</td>\n",
       "      <td>...</td>\n",
       "      <td>...</td>\n",
       "      <td>...</td>\n",
       "      <td>...</td>\n",
       "    </tr>\n",
       "    <tr>\n",
       "      <th>13114</th>\n",
       "      <td>C Class</td>\n",
       "      <td>2020</td>\n",
       "      <td>35999</td>\n",
       "      <td>Automatic</td>\n",
       "      <td>500</td>\n",
       "      <td>Diesel</td>\n",
       "      <td>145</td>\n",
       "      <td>55.40</td>\n",
       "      <td>2.00</td>\n",
       "      <td>Mercedes-Benz</td>\n",
       "    </tr>\n",
       "    <tr>\n",
       "      <th>13115</th>\n",
       "      <td>B Class</td>\n",
       "      <td>2020</td>\n",
       "      <td>24699</td>\n",
       "      <td>Automatic</td>\n",
       "      <td>2500</td>\n",
       "      <td>Diesel</td>\n",
       "      <td>145</td>\n",
       "      <td>55.40</td>\n",
       "      <td>2.00</td>\n",
       "      <td>Mercedes-Benz</td>\n",
       "    </tr>\n",
       "    <tr>\n",
       "      <th>13116</th>\n",
       "      <td>GLC Class</td>\n",
       "      <td>2019</td>\n",
       "      <td>30999</td>\n",
       "      <td>Automatic</td>\n",
       "      <td>11612</td>\n",
       "      <td>Diesel</td>\n",
       "      <td>145</td>\n",
       "      <td>41.50</td>\n",
       "      <td>2.10</td>\n",
       "      <td>Mercedes-Benz</td>\n",
       "    </tr>\n",
       "    <tr>\n",
       "      <th>13117</th>\n",
       "      <td>CLS Class</td>\n",
       "      <td>2019</td>\n",
       "      <td>37990</td>\n",
       "      <td>Automatic</td>\n",
       "      <td>2426</td>\n",
       "      <td>Diesel</td>\n",
       "      <td>145</td>\n",
       "      <td>45.60</td>\n",
       "      <td>2.00</td>\n",
       "      <td>Mercedes-Benz</td>\n",
       "    </tr>\n",
       "    <tr>\n",
       "      <th>13118</th>\n",
       "      <td>S Class</td>\n",
       "      <td>2019</td>\n",
       "      <td>54999</td>\n",
       "      <td>Automatic</td>\n",
       "      <td>2075</td>\n",
       "      <td>Diesel</td>\n",
       "      <td>145</td>\n",
       "      <td>52.30</td>\n",
       "      <td>2.90</td>\n",
       "      <td>Mercedes-Benz</td>\n",
       "    </tr>\n",
       "  </tbody>\n",
       "</table>\n",
       "<p>49725 rows × 10 columns</p>\n",
       "</div>"
      ],
      "text/plain": [
       "            model  year  price transmission  mileage fuelType  tax   mpg  \\\n",
       "0              A1  2017  12500       Manual    15735   Petrol  150 55.40   \n",
       "1              A6  2016  16500    Automatic    36203   Diesel   20 64.20   \n",
       "2              A1  2016  11000       Manual    29946   Petrol   30 55.40   \n",
       "3              A4  2017  16800    Automatic    25952   Diesel  145 67.30   \n",
       "4              A3  2019  17300       Manual     1998   Petrol  145 49.60   \n",
       "...           ...   ...    ...          ...      ...      ...  ...   ...   \n",
       "13114     C Class  2020  35999    Automatic      500   Diesel  145 55.40   \n",
       "13115     B Class  2020  24699    Automatic     2500   Diesel  145 55.40   \n",
       "13116   GLC Class  2019  30999    Automatic    11612   Diesel  145 41.50   \n",
       "13117   CLS Class  2019  37990    Automatic     2426   Diesel  145 45.60   \n",
       "13118     S Class  2019  54999    Automatic     2075   Diesel  145 52.30   \n",
       "\n",
       "       engineSize           make  \n",
       "0            1.40           Audi  \n",
       "1            2.00           Audi  \n",
       "2            1.40           Audi  \n",
       "3            2.00           Audi  \n",
       "4            1.00           Audi  \n",
       "...           ...            ...  \n",
       "13114        2.00  Mercedes-Benz  \n",
       "13115        2.00  Mercedes-Benz  \n",
       "13116        2.10  Mercedes-Benz  \n",
       "13117        2.00  Mercedes-Benz  \n",
       "13118        2.90  Mercedes-Benz  \n",
       "\n",
       "[49725 rows x 10 columns]"
      ]
     },
     "execution_count": 38,
     "metadata": {},
     "output_type": "execute_result"
    }
   ],
   "source": [
    "allcars_df = pd.concat([df_audi, df_vw, df_bmw, df_merc], axis=0)\n",
    "\n",
    "allcars_df"
   ]
  },
  {
   "cell_type": "markdown",
   "metadata": {},
   "source": [
    "# Cleaning the data"
   ]
  },
  {
   "cell_type": "markdown",
   "metadata": {},
   "source": [
    "### duplicated data"
   ]
  },
  {
   "cell_type": "code",
   "execution_count": 39,
   "metadata": {
    "tags": []
   },
   "outputs": [
    {
     "data": {
      "text/plain": [
       "False    48982\n",
       "True       743\n",
       "dtype: int64"
      ]
     },
     "execution_count": 39,
     "metadata": {},
     "output_type": "execute_result"
    }
   ],
   "source": [
    "#counting of the duplicated data\n",
    "allcars_df.duplicated().value_counts()"
   ]
  },
  {
   "cell_type": "code",
   "execution_count": 40,
   "metadata": {
    "tags": []
   },
   "outputs": [],
   "source": [
    "# delete of duplicated data\n",
    "allcars_new = allcars_df.drop_duplicates()"
   ]
  },
  {
   "cell_type": "code",
   "execution_count": 41,
   "metadata": {
    "tags": []
   },
   "outputs": [
    {
     "data": {
      "text/plain": [
       "False    48982\n",
       "dtype: int64"
      ]
     },
     "execution_count": 41,
     "metadata": {},
     "output_type": "execute_result"
    }
   ],
   "source": [
    "allcars_new.duplicated().value_counts()"
   ]
  },
  {
   "cell_type": "code",
   "execution_count": 42,
   "metadata": {
    "tags": []
   },
   "outputs": [
    {
     "data": {
      "text/plain": [
       "make        model           \n",
       "Audi         A1                 1337\n",
       "             A2                    1\n",
       "             A3                 1917\n",
       "             A4                 1375\n",
       "             A5                  874\n",
       "                                ... \n",
       "Volkswagen   Tiguan             1743\n",
       "             Tiguan Allspace      91\n",
       "             Touareg             347\n",
       "             Touran              349\n",
       "             Up                  846\n",
       "Name: price, Length: 104, dtype: int64"
      ]
     },
     "execution_count": 42,
     "metadata": {},
     "output_type": "execute_result"
    }
   ],
   "source": [
    "allcars_new.groupby(['make', 'model']).count()['price']"
   ]
  },
  {
   "cell_type": "markdown",
   "metadata": {},
   "source": [
    "### delete the data below 2010"
   ]
  },
  {
   "cell_type": "code",
   "execution_count": 43,
   "metadata": {},
   "outputs": [],
   "source": [
    "allcars_new = allcars_new[allcars_new['year']>2011]"
   ]
  },
  {
   "cell_type": "markdown",
   "metadata": {},
   "source": [
    "## Strip white spaces"
   ]
  },
  {
   "cell_type": "code",
   "execution_count": 44,
   "metadata": {
    "tags": []
   },
   "outputs": [],
   "source": [
    "# strip white spaces\n",
    "for col in allcars_new.columns:\n",
    "    if allcars_new[col].dtypes == object:\n",
    "        allcars_new[col] = allcars_new[col].str.strip()"
   ]
  },
  {
   "cell_type": "markdown",
   "metadata": {},
   "source": [
    "### the creating of query for the correct models, that we need"
   ]
  },
  {
   "cell_type": "code",
   "execution_count": 45,
   "metadata": {
    "tags": []
   },
   "outputs": [],
   "source": [
    "df_uk = allcars_new.query('model == \"A1\" | model == \"A3\" | model == \"A5\" | model == \"Q3\" | model == \"1 Series\" | model == \"3 Series\" | model == \"X1\" | model == \"i3\" | model == \"smart\" | model == \"A Class\" | model == \"C Class\" | model == \"G Class\" | model == \"Golf\" | model == \"Passat\" | model == \"Polo\" | model == \"Tiguan\"')"
   ]
  },
  {
   "cell_type": "code",
   "execution_count": 46,
   "metadata": {},
   "outputs": [
    {
     "data": {
      "text/html": [
       "<div>\n",
       "<style scoped>\n",
       "    .dataframe tbody tr th:only-of-type {\n",
       "        vertical-align: middle;\n",
       "    }\n",
       "\n",
       "    .dataframe tbody tr th {\n",
       "        vertical-align: top;\n",
       "    }\n",
       "\n",
       "    .dataframe thead th {\n",
       "        text-align: right;\n",
       "    }\n",
       "</style>\n",
       "<table border=\"1\" class=\"dataframe\">\n",
       "  <thead>\n",
       "    <tr style=\"text-align: right;\">\n",
       "      <th></th>\n",
       "      <th>model</th>\n",
       "      <th>year</th>\n",
       "      <th>price</th>\n",
       "      <th>transmission</th>\n",
       "      <th>mileage</th>\n",
       "      <th>fuelType</th>\n",
       "      <th>tax</th>\n",
       "      <th>mpg</th>\n",
       "      <th>engineSize</th>\n",
       "      <th>make</th>\n",
       "    </tr>\n",
       "  </thead>\n",
       "  <tbody>\n",
       "    <tr>\n",
       "      <th>0</th>\n",
       "      <td>A1</td>\n",
       "      <td>2017</td>\n",
       "      <td>12500</td>\n",
       "      <td>Manual</td>\n",
       "      <td>15735</td>\n",
       "      <td>Petrol</td>\n",
       "      <td>150</td>\n",
       "      <td>55.40</td>\n",
       "      <td>1.40</td>\n",
       "      <td>Audi</td>\n",
       "    </tr>\n",
       "    <tr>\n",
       "      <th>2</th>\n",
       "      <td>A1</td>\n",
       "      <td>2016</td>\n",
       "      <td>11000</td>\n",
       "      <td>Manual</td>\n",
       "      <td>29946</td>\n",
       "      <td>Petrol</td>\n",
       "      <td>30</td>\n",
       "      <td>55.40</td>\n",
       "      <td>1.40</td>\n",
       "      <td>Audi</td>\n",
       "    </tr>\n",
       "    <tr>\n",
       "      <th>4</th>\n",
       "      <td>A3</td>\n",
       "      <td>2019</td>\n",
       "      <td>17300</td>\n",
       "      <td>Manual</td>\n",
       "      <td>1998</td>\n",
       "      <td>Petrol</td>\n",
       "      <td>145</td>\n",
       "      <td>49.60</td>\n",
       "      <td>1.00</td>\n",
       "      <td>Audi</td>\n",
       "    </tr>\n",
       "    <tr>\n",
       "      <th>5</th>\n",
       "      <td>A1</td>\n",
       "      <td>2016</td>\n",
       "      <td>13900</td>\n",
       "      <td>Automatic</td>\n",
       "      <td>32260</td>\n",
       "      <td>Petrol</td>\n",
       "      <td>30</td>\n",
       "      <td>58.90</td>\n",
       "      <td>1.40</td>\n",
       "      <td>Audi</td>\n",
       "    </tr>\n",
       "    <tr>\n",
       "      <th>8</th>\n",
       "      <td>A3</td>\n",
       "      <td>2015</td>\n",
       "      <td>10200</td>\n",
       "      <td>Manual</td>\n",
       "      <td>46112</td>\n",
       "      <td>Petrol</td>\n",
       "      <td>20</td>\n",
       "      <td>60.10</td>\n",
       "      <td>1.40</td>\n",
       "      <td>Audi</td>\n",
       "    </tr>\n",
       "    <tr>\n",
       "      <th>...</th>\n",
       "      <td>...</td>\n",
       "      <td>...</td>\n",
       "      <td>...</td>\n",
       "      <td>...</td>\n",
       "      <td>...</td>\n",
       "      <td>...</td>\n",
       "      <td>...</td>\n",
       "      <td>...</td>\n",
       "      <td>...</td>\n",
       "      <td>...</td>\n",
       "    </tr>\n",
       "    <tr>\n",
       "      <th>13107</th>\n",
       "      <td>C Class</td>\n",
       "      <td>2019</td>\n",
       "      <td>24999</td>\n",
       "      <td>Automatic</td>\n",
       "      <td>6064</td>\n",
       "      <td>Diesel</td>\n",
       "      <td>145</td>\n",
       "      <td>61.40</td>\n",
       "      <td>2.00</td>\n",
       "      <td>Mercedes-Benz</td>\n",
       "    </tr>\n",
       "    <tr>\n",
       "      <th>13109</th>\n",
       "      <td>A Class</td>\n",
       "      <td>2017</td>\n",
       "      <td>16499</td>\n",
       "      <td>Automatic</td>\n",
       "      <td>20477</td>\n",
       "      <td>Diesel</td>\n",
       "      <td>145</td>\n",
       "      <td>68.90</td>\n",
       "      <td>2.10</td>\n",
       "      <td>Mercedes-Benz</td>\n",
       "    </tr>\n",
       "    <tr>\n",
       "      <th>13112</th>\n",
       "      <td>C Class</td>\n",
       "      <td>2019</td>\n",
       "      <td>30399</td>\n",
       "      <td>Automatic</td>\n",
       "      <td>5000</td>\n",
       "      <td>Diesel</td>\n",
       "      <td>145</td>\n",
       "      <td>61.40</td>\n",
       "      <td>2.00</td>\n",
       "      <td>Mercedes-Benz</td>\n",
       "    </tr>\n",
       "    <tr>\n",
       "      <th>13113</th>\n",
       "      <td>C Class</td>\n",
       "      <td>2020</td>\n",
       "      <td>30999</td>\n",
       "      <td>Automatic</td>\n",
       "      <td>1000</td>\n",
       "      <td>Diesel</td>\n",
       "      <td>145</td>\n",
       "      <td>64.20</td>\n",
       "      <td>2.00</td>\n",
       "      <td>Mercedes-Benz</td>\n",
       "    </tr>\n",
       "    <tr>\n",
       "      <th>13114</th>\n",
       "      <td>C Class</td>\n",
       "      <td>2020</td>\n",
       "      <td>35999</td>\n",
       "      <td>Automatic</td>\n",
       "      <td>500</td>\n",
       "      <td>Diesel</td>\n",
       "      <td>145</td>\n",
       "      <td>55.40</td>\n",
       "      <td>2.00</td>\n",
       "      <td>Mercedes-Benz</td>\n",
       "    </tr>\n",
       "  </tbody>\n",
       "</table>\n",
       "<p>27188 rows × 10 columns</p>\n",
       "</div>"
      ],
      "text/plain": [
       "         model  year  price transmission  mileage fuelType  tax   mpg  \\\n",
       "0           A1  2017  12500       Manual    15735   Petrol  150 55.40   \n",
       "2           A1  2016  11000       Manual    29946   Petrol   30 55.40   \n",
       "4           A3  2019  17300       Manual     1998   Petrol  145 49.60   \n",
       "5           A1  2016  13900    Automatic    32260   Petrol   30 58.90   \n",
       "8           A3  2015  10200       Manual    46112   Petrol   20 60.10   \n",
       "...        ...   ...    ...          ...      ...      ...  ...   ...   \n",
       "13107  C Class  2019  24999    Automatic     6064   Diesel  145 61.40   \n",
       "13109  A Class  2017  16499    Automatic    20477   Diesel  145 68.90   \n",
       "13112  C Class  2019  30399    Automatic     5000   Diesel  145 61.40   \n",
       "13113  C Class  2020  30999    Automatic     1000   Diesel  145 64.20   \n",
       "13114  C Class  2020  35999    Automatic      500   Diesel  145 55.40   \n",
       "\n",
       "       engineSize           make  \n",
       "0            1.40           Audi  \n",
       "2            1.40           Audi  \n",
       "4            1.00           Audi  \n",
       "5            1.40           Audi  \n",
       "8            1.40           Audi  \n",
       "...           ...            ...  \n",
       "13107        2.00  Mercedes-Benz  \n",
       "13109        2.10  Mercedes-Benz  \n",
       "13112        2.00  Mercedes-Benz  \n",
       "13113        2.00  Mercedes-Benz  \n",
       "13114        2.00  Mercedes-Benz  \n",
       "\n",
       "[27188 rows x 10 columns]"
      ]
     },
     "execution_count": 46,
     "metadata": {},
     "output_type": "execute_result"
    }
   ],
   "source": [
    "df_uk"
   ]
  },
  {
   "cell_type": "markdown",
   "metadata": {},
   "source": [
    "# Addition of the new columns"
   ]
  },
  {
   "cell_type": "markdown",
   "metadata": {
    "tags": []
   },
   "source": [
    "### Add following columns: age, price in euro, mileage in km, mpg (miles per gallon) in liter pro km."
   ]
  },
  {
   "cell_type": "code",
   "execution_count": 47,
   "metadata": {
    "tags": []
   },
   "outputs": [
    {
     "data": {
      "text/html": [
       "<div>\n",
       "<style scoped>\n",
       "    .dataframe tbody tr th:only-of-type {\n",
       "        vertical-align: middle;\n",
       "    }\n",
       "\n",
       "    .dataframe tbody tr th {\n",
       "        vertical-align: top;\n",
       "    }\n",
       "\n",
       "    .dataframe thead th {\n",
       "        text-align: right;\n",
       "    }\n",
       "</style>\n",
       "<table border=\"1\" class=\"dataframe\">\n",
       "  <thead>\n",
       "    <tr style=\"text-align: right;\">\n",
       "      <th></th>\n",
       "      <th>model</th>\n",
       "      <th>year</th>\n",
       "      <th>price</th>\n",
       "      <th>transmission</th>\n",
       "      <th>mileage</th>\n",
       "      <th>fuelType</th>\n",
       "      <th>tax</th>\n",
       "      <th>mpg</th>\n",
       "      <th>engineSize</th>\n",
       "      <th>make</th>\n",
       "      <th>age</th>\n",
       "    </tr>\n",
       "  </thead>\n",
       "  <tbody>\n",
       "    <tr>\n",
       "      <th>0</th>\n",
       "      <td>A1</td>\n",
       "      <td>2017</td>\n",
       "      <td>12500</td>\n",
       "      <td>Manual</td>\n",
       "      <td>15735</td>\n",
       "      <td>Petrol</td>\n",
       "      <td>150</td>\n",
       "      <td>55.40</td>\n",
       "      <td>1.40</td>\n",
       "      <td>Audi</td>\n",
       "      <td>6</td>\n",
       "    </tr>\n",
       "    <tr>\n",
       "      <th>2</th>\n",
       "      <td>A1</td>\n",
       "      <td>2016</td>\n",
       "      <td>11000</td>\n",
       "      <td>Manual</td>\n",
       "      <td>29946</td>\n",
       "      <td>Petrol</td>\n",
       "      <td>30</td>\n",
       "      <td>55.40</td>\n",
       "      <td>1.40</td>\n",
       "      <td>Audi</td>\n",
       "      <td>7</td>\n",
       "    </tr>\n",
       "    <tr>\n",
       "      <th>4</th>\n",
       "      <td>A3</td>\n",
       "      <td>2019</td>\n",
       "      <td>17300</td>\n",
       "      <td>Manual</td>\n",
       "      <td>1998</td>\n",
       "      <td>Petrol</td>\n",
       "      <td>145</td>\n",
       "      <td>49.60</td>\n",
       "      <td>1.00</td>\n",
       "      <td>Audi</td>\n",
       "      <td>4</td>\n",
       "    </tr>\n",
       "    <tr>\n",
       "      <th>5</th>\n",
       "      <td>A1</td>\n",
       "      <td>2016</td>\n",
       "      <td>13900</td>\n",
       "      <td>Automatic</td>\n",
       "      <td>32260</td>\n",
       "      <td>Petrol</td>\n",
       "      <td>30</td>\n",
       "      <td>58.90</td>\n",
       "      <td>1.40</td>\n",
       "      <td>Audi</td>\n",
       "      <td>7</td>\n",
       "    </tr>\n",
       "    <tr>\n",
       "      <th>8</th>\n",
       "      <td>A3</td>\n",
       "      <td>2015</td>\n",
       "      <td>10200</td>\n",
       "      <td>Manual</td>\n",
       "      <td>46112</td>\n",
       "      <td>Petrol</td>\n",
       "      <td>20</td>\n",
       "      <td>60.10</td>\n",
       "      <td>1.40</td>\n",
       "      <td>Audi</td>\n",
       "      <td>8</td>\n",
       "    </tr>\n",
       "  </tbody>\n",
       "</table>\n",
       "</div>"
      ],
      "text/plain": [
       "  model  year  price transmission  mileage fuelType  tax   mpg  engineSize  \\\n",
       "0    A1  2017  12500       Manual    15735   Petrol  150 55.40        1.40   \n",
       "2    A1  2016  11000       Manual    29946   Petrol   30 55.40        1.40   \n",
       "4    A3  2019  17300       Manual     1998   Petrol  145 49.60        1.00   \n",
       "5    A1  2016  13900    Automatic    32260   Petrol   30 58.90        1.40   \n",
       "8    A3  2015  10200       Manual    46112   Petrol   20 60.10        1.40   \n",
       "\n",
       "   make  age  \n",
       "0  Audi    6  \n",
       "2  Audi    7  \n",
       "4  Audi    4  \n",
       "5  Audi    7  \n",
       "8  Audi    8  "
      ]
     },
     "execution_count": 47,
     "metadata": {},
     "output_type": "execute_result"
    }
   ],
   "source": [
    "# add the column age\n",
    "df_uk.eval('age = 2023 - year', inplace = True)\n",
    "df_uk.head()"
   ]
  },
  {
   "cell_type": "code",
   "execution_count": 48,
   "metadata": {
    "tags": []
   },
   "outputs": [
    {
     "data": {
      "text/html": [
       "<div>\n",
       "<style scoped>\n",
       "    .dataframe tbody tr th:only-of-type {\n",
       "        vertical-align: middle;\n",
       "    }\n",
       "\n",
       "    .dataframe tbody tr th {\n",
       "        vertical-align: top;\n",
       "    }\n",
       "\n",
       "    .dataframe thead th {\n",
       "        text-align: right;\n",
       "    }\n",
       "</style>\n",
       "<table border=\"1\" class=\"dataframe\">\n",
       "  <thead>\n",
       "    <tr style=\"text-align: right;\">\n",
       "      <th></th>\n",
       "      <th>model</th>\n",
       "      <th>year</th>\n",
       "      <th>price</th>\n",
       "      <th>transmission</th>\n",
       "      <th>mileage</th>\n",
       "      <th>fuelType</th>\n",
       "      <th>tax</th>\n",
       "      <th>mpg</th>\n",
       "      <th>engineSize</th>\n",
       "      <th>make</th>\n",
       "      <th>age</th>\n",
       "      <th>europrice</th>\n",
       "    </tr>\n",
       "  </thead>\n",
       "  <tbody>\n",
       "    <tr>\n",
       "      <th>0</th>\n",
       "      <td>A1</td>\n",
       "      <td>2017</td>\n",
       "      <td>12500</td>\n",
       "      <td>Manual</td>\n",
       "      <td>15735</td>\n",
       "      <td>Petrol</td>\n",
       "      <td>150</td>\n",
       "      <td>55.40</td>\n",
       "      <td>1.40</td>\n",
       "      <td>Audi</td>\n",
       "      <td>6</td>\n",
       "      <td>14250.00</td>\n",
       "    </tr>\n",
       "    <tr>\n",
       "      <th>2</th>\n",
       "      <td>A1</td>\n",
       "      <td>2016</td>\n",
       "      <td>11000</td>\n",
       "      <td>Manual</td>\n",
       "      <td>29946</td>\n",
       "      <td>Petrol</td>\n",
       "      <td>30</td>\n",
       "      <td>55.40</td>\n",
       "      <td>1.40</td>\n",
       "      <td>Audi</td>\n",
       "      <td>7</td>\n",
       "      <td>12540.00</td>\n",
       "    </tr>\n",
       "    <tr>\n",
       "      <th>4</th>\n",
       "      <td>A3</td>\n",
       "      <td>2019</td>\n",
       "      <td>17300</td>\n",
       "      <td>Manual</td>\n",
       "      <td>1998</td>\n",
       "      <td>Petrol</td>\n",
       "      <td>145</td>\n",
       "      <td>49.60</td>\n",
       "      <td>1.00</td>\n",
       "      <td>Audi</td>\n",
       "      <td>4</td>\n",
       "      <td>19722.00</td>\n",
       "    </tr>\n",
       "    <tr>\n",
       "      <th>5</th>\n",
       "      <td>A1</td>\n",
       "      <td>2016</td>\n",
       "      <td>13900</td>\n",
       "      <td>Automatic</td>\n",
       "      <td>32260</td>\n",
       "      <td>Petrol</td>\n",
       "      <td>30</td>\n",
       "      <td>58.90</td>\n",
       "      <td>1.40</td>\n",
       "      <td>Audi</td>\n",
       "      <td>7</td>\n",
       "      <td>15846.00</td>\n",
       "    </tr>\n",
       "    <tr>\n",
       "      <th>8</th>\n",
       "      <td>A3</td>\n",
       "      <td>2015</td>\n",
       "      <td>10200</td>\n",
       "      <td>Manual</td>\n",
       "      <td>46112</td>\n",
       "      <td>Petrol</td>\n",
       "      <td>20</td>\n",
       "      <td>60.10</td>\n",
       "      <td>1.40</td>\n",
       "      <td>Audi</td>\n",
       "      <td>8</td>\n",
       "      <td>11628.00</td>\n",
       "    </tr>\n",
       "  </tbody>\n",
       "</table>\n",
       "</div>"
      ],
      "text/plain": [
       "  model  year  price transmission  mileage fuelType  tax   mpg  engineSize  \\\n",
       "0    A1  2017  12500       Manual    15735   Petrol  150 55.40        1.40   \n",
       "2    A1  2016  11000       Manual    29946   Petrol   30 55.40        1.40   \n",
       "4    A3  2019  17300       Manual     1998   Petrol  145 49.60        1.00   \n",
       "5    A1  2016  13900    Automatic    32260   Petrol   30 58.90        1.40   \n",
       "8    A3  2015  10200       Manual    46112   Petrol   20 60.10        1.40   \n",
       "\n",
       "   make  age  europrice  \n",
       "0  Audi    6   14250.00  \n",
       "2  Audi    7   12540.00  \n",
       "4  Audi    4   19722.00  \n",
       "5  Audi    7   15846.00  \n",
       "8  Audi    8   11628.00  "
      ]
     },
     "execution_count": 48,
     "metadata": {},
     "output_type": "execute_result"
    }
   ],
   "source": [
    "#add the column price in euro\n",
    "df_uk.eval('europrice = price * 1.14', inplace = True)\n",
    "df_uk.head()"
   ]
  },
  {
   "cell_type": "code",
   "execution_count": 49,
   "metadata": {
    "tags": []
   },
   "outputs": [
    {
     "data": {
      "text/html": [
       "<div>\n",
       "<style scoped>\n",
       "    .dataframe tbody tr th:only-of-type {\n",
       "        vertical-align: middle;\n",
       "    }\n",
       "\n",
       "    .dataframe tbody tr th {\n",
       "        vertical-align: top;\n",
       "    }\n",
       "\n",
       "    .dataframe thead th {\n",
       "        text-align: right;\n",
       "    }\n",
       "</style>\n",
       "<table border=\"1\" class=\"dataframe\">\n",
       "  <thead>\n",
       "    <tr style=\"text-align: right;\">\n",
       "      <th></th>\n",
       "      <th>model</th>\n",
       "      <th>year</th>\n",
       "      <th>price</th>\n",
       "      <th>transmission</th>\n",
       "      <th>mileage</th>\n",
       "      <th>fuelType</th>\n",
       "      <th>tax</th>\n",
       "      <th>mpg</th>\n",
       "      <th>engineSize</th>\n",
       "      <th>make</th>\n",
       "      <th>age</th>\n",
       "      <th>europrice</th>\n",
       "      <th>km</th>\n",
       "    </tr>\n",
       "  </thead>\n",
       "  <tbody>\n",
       "    <tr>\n",
       "      <th>0</th>\n",
       "      <td>A1</td>\n",
       "      <td>2017</td>\n",
       "      <td>12500</td>\n",
       "      <td>Manual</td>\n",
       "      <td>15735</td>\n",
       "      <td>Petrol</td>\n",
       "      <td>150</td>\n",
       "      <td>55.40</td>\n",
       "      <td>1.40</td>\n",
       "      <td>Audi</td>\n",
       "      <td>6</td>\n",
       "      <td>14250.00</td>\n",
       "      <td>25317.61</td>\n",
       "    </tr>\n",
       "    <tr>\n",
       "      <th>2</th>\n",
       "      <td>A1</td>\n",
       "      <td>2016</td>\n",
       "      <td>11000</td>\n",
       "      <td>Manual</td>\n",
       "      <td>29946</td>\n",
       "      <td>Petrol</td>\n",
       "      <td>30</td>\n",
       "      <td>55.40</td>\n",
       "      <td>1.40</td>\n",
       "      <td>Audi</td>\n",
       "      <td>7</td>\n",
       "      <td>12540.00</td>\n",
       "      <td>48183.11</td>\n",
       "    </tr>\n",
       "    <tr>\n",
       "      <th>4</th>\n",
       "      <td>A3</td>\n",
       "      <td>2019</td>\n",
       "      <td>17300</td>\n",
       "      <td>Manual</td>\n",
       "      <td>1998</td>\n",
       "      <td>Petrol</td>\n",
       "      <td>145</td>\n",
       "      <td>49.60</td>\n",
       "      <td>1.00</td>\n",
       "      <td>Audi</td>\n",
       "      <td>4</td>\n",
       "      <td>19722.00</td>\n",
       "      <td>3214.78</td>\n",
       "    </tr>\n",
       "    <tr>\n",
       "      <th>5</th>\n",
       "      <td>A1</td>\n",
       "      <td>2016</td>\n",
       "      <td>13900</td>\n",
       "      <td>Automatic</td>\n",
       "      <td>32260</td>\n",
       "      <td>Petrol</td>\n",
       "      <td>30</td>\n",
       "      <td>58.90</td>\n",
       "      <td>1.40</td>\n",
       "      <td>Audi</td>\n",
       "      <td>7</td>\n",
       "      <td>15846.00</td>\n",
       "      <td>51906.34</td>\n",
       "    </tr>\n",
       "    <tr>\n",
       "      <th>8</th>\n",
       "      <td>A3</td>\n",
       "      <td>2015</td>\n",
       "      <td>10200</td>\n",
       "      <td>Manual</td>\n",
       "      <td>46112</td>\n",
       "      <td>Petrol</td>\n",
       "      <td>20</td>\n",
       "      <td>60.10</td>\n",
       "      <td>1.40</td>\n",
       "      <td>Audi</td>\n",
       "      <td>8</td>\n",
       "      <td>11628.00</td>\n",
       "      <td>74194.21</td>\n",
       "    </tr>\n",
       "  </tbody>\n",
       "</table>\n",
       "</div>"
      ],
      "text/plain": [
       "  model  year  price transmission  mileage fuelType  tax   mpg  engineSize  \\\n",
       "0    A1  2017  12500       Manual    15735   Petrol  150 55.40        1.40   \n",
       "2    A1  2016  11000       Manual    29946   Petrol   30 55.40        1.40   \n",
       "4    A3  2019  17300       Manual     1998   Petrol  145 49.60        1.00   \n",
       "5    A1  2016  13900    Automatic    32260   Petrol   30 58.90        1.40   \n",
       "8    A3  2015  10200       Manual    46112   Petrol   20 60.10        1.40   \n",
       "\n",
       "   make  age  europrice       km  \n",
       "0  Audi    6   14250.00 25317.61  \n",
       "2  Audi    7   12540.00 48183.11  \n",
       "4  Audi    4   19722.00  3214.78  \n",
       "5  Audi    7   15846.00 51906.34  \n",
       "8  Audi    8   11628.00 74194.21  "
      ]
     },
     "execution_count": 49,
     "metadata": {},
     "output_type": "execute_result"
    }
   ],
   "source": [
    "# add the column km \n",
    "df_uk.eval('km = mileage * 1.609', inplace = True)\n",
    "df_uk.head()"
   ]
  },
  {
   "cell_type": "markdown",
   "metadata": {},
   "source": [
    "### delete of old columns"
   ]
  },
  {
   "cell_type": "code",
   "execution_count": 50,
   "metadata": {
    "tags": []
   },
   "outputs": [
    {
     "data": {
      "text/html": [
       "<div>\n",
       "<style scoped>\n",
       "    .dataframe tbody tr th:only-of-type {\n",
       "        vertical-align: middle;\n",
       "    }\n",
       "\n",
       "    .dataframe tbody tr th {\n",
       "        vertical-align: top;\n",
       "    }\n",
       "\n",
       "    .dataframe thead th {\n",
       "        text-align: right;\n",
       "    }\n",
       "</style>\n",
       "<table border=\"1\" class=\"dataframe\">\n",
       "  <thead>\n",
       "    <tr style=\"text-align: right;\">\n",
       "      <th></th>\n",
       "      <th>model</th>\n",
       "      <th>year</th>\n",
       "      <th>transmission</th>\n",
       "      <th>fuelType</th>\n",
       "      <th>tax</th>\n",
       "      <th>mpg</th>\n",
       "      <th>engineSize</th>\n",
       "      <th>make</th>\n",
       "      <th>age</th>\n",
       "      <th>europrice</th>\n",
       "      <th>km</th>\n",
       "    </tr>\n",
       "  </thead>\n",
       "  <tbody>\n",
       "    <tr>\n",
       "      <th>0</th>\n",
       "      <td>A1</td>\n",
       "      <td>2017</td>\n",
       "      <td>Manual</td>\n",
       "      <td>Petrol</td>\n",
       "      <td>150</td>\n",
       "      <td>55.40</td>\n",
       "      <td>1.40</td>\n",
       "      <td>Audi</td>\n",
       "      <td>6</td>\n",
       "      <td>14250.00</td>\n",
       "      <td>25317.61</td>\n",
       "    </tr>\n",
       "    <tr>\n",
       "      <th>2</th>\n",
       "      <td>A1</td>\n",
       "      <td>2016</td>\n",
       "      <td>Manual</td>\n",
       "      <td>Petrol</td>\n",
       "      <td>30</td>\n",
       "      <td>55.40</td>\n",
       "      <td>1.40</td>\n",
       "      <td>Audi</td>\n",
       "      <td>7</td>\n",
       "      <td>12540.00</td>\n",
       "      <td>48183.11</td>\n",
       "    </tr>\n",
       "    <tr>\n",
       "      <th>4</th>\n",
       "      <td>A3</td>\n",
       "      <td>2019</td>\n",
       "      <td>Manual</td>\n",
       "      <td>Petrol</td>\n",
       "      <td>145</td>\n",
       "      <td>49.60</td>\n",
       "      <td>1.00</td>\n",
       "      <td>Audi</td>\n",
       "      <td>4</td>\n",
       "      <td>19722.00</td>\n",
       "      <td>3214.78</td>\n",
       "    </tr>\n",
       "    <tr>\n",
       "      <th>5</th>\n",
       "      <td>A1</td>\n",
       "      <td>2016</td>\n",
       "      <td>Automatic</td>\n",
       "      <td>Petrol</td>\n",
       "      <td>30</td>\n",
       "      <td>58.90</td>\n",
       "      <td>1.40</td>\n",
       "      <td>Audi</td>\n",
       "      <td>7</td>\n",
       "      <td>15846.00</td>\n",
       "      <td>51906.34</td>\n",
       "    </tr>\n",
       "    <tr>\n",
       "      <th>8</th>\n",
       "      <td>A3</td>\n",
       "      <td>2015</td>\n",
       "      <td>Manual</td>\n",
       "      <td>Petrol</td>\n",
       "      <td>20</td>\n",
       "      <td>60.10</td>\n",
       "      <td>1.40</td>\n",
       "      <td>Audi</td>\n",
       "      <td>8</td>\n",
       "      <td>11628.00</td>\n",
       "      <td>74194.21</td>\n",
       "    </tr>\n",
       "    <tr>\n",
       "      <th>...</th>\n",
       "      <td>...</td>\n",
       "      <td>...</td>\n",
       "      <td>...</td>\n",
       "      <td>...</td>\n",
       "      <td>...</td>\n",
       "      <td>...</td>\n",
       "      <td>...</td>\n",
       "      <td>...</td>\n",
       "      <td>...</td>\n",
       "      <td>...</td>\n",
       "      <td>...</td>\n",
       "    </tr>\n",
       "    <tr>\n",
       "      <th>13107</th>\n",
       "      <td>C Class</td>\n",
       "      <td>2019</td>\n",
       "      <td>Automatic</td>\n",
       "      <td>Diesel</td>\n",
       "      <td>145</td>\n",
       "      <td>61.40</td>\n",
       "      <td>2.00</td>\n",
       "      <td>Mercedes-Benz</td>\n",
       "      <td>4</td>\n",
       "      <td>28498.86</td>\n",
       "      <td>9756.98</td>\n",
       "    </tr>\n",
       "    <tr>\n",
       "      <th>13109</th>\n",
       "      <td>A Class</td>\n",
       "      <td>2017</td>\n",
       "      <td>Automatic</td>\n",
       "      <td>Diesel</td>\n",
       "      <td>145</td>\n",
       "      <td>68.90</td>\n",
       "      <td>2.10</td>\n",
       "      <td>Mercedes-Benz</td>\n",
       "      <td>6</td>\n",
       "      <td>18808.86</td>\n",
       "      <td>32947.49</td>\n",
       "    </tr>\n",
       "    <tr>\n",
       "      <th>13112</th>\n",
       "      <td>C Class</td>\n",
       "      <td>2019</td>\n",
       "      <td>Automatic</td>\n",
       "      <td>Diesel</td>\n",
       "      <td>145</td>\n",
       "      <td>61.40</td>\n",
       "      <td>2.00</td>\n",
       "      <td>Mercedes-Benz</td>\n",
       "      <td>4</td>\n",
       "      <td>34654.86</td>\n",
       "      <td>8045.00</td>\n",
       "    </tr>\n",
       "    <tr>\n",
       "      <th>13113</th>\n",
       "      <td>C Class</td>\n",
       "      <td>2020</td>\n",
       "      <td>Automatic</td>\n",
       "      <td>Diesel</td>\n",
       "      <td>145</td>\n",
       "      <td>64.20</td>\n",
       "      <td>2.00</td>\n",
       "      <td>Mercedes-Benz</td>\n",
       "      <td>3</td>\n",
       "      <td>35338.86</td>\n",
       "      <td>1609.00</td>\n",
       "    </tr>\n",
       "    <tr>\n",
       "      <th>13114</th>\n",
       "      <td>C Class</td>\n",
       "      <td>2020</td>\n",
       "      <td>Automatic</td>\n",
       "      <td>Diesel</td>\n",
       "      <td>145</td>\n",
       "      <td>55.40</td>\n",
       "      <td>2.00</td>\n",
       "      <td>Mercedes-Benz</td>\n",
       "      <td>3</td>\n",
       "      <td>41038.86</td>\n",
       "      <td>804.50</td>\n",
       "    </tr>\n",
       "  </tbody>\n",
       "</table>\n",
       "<p>27188 rows × 11 columns</p>\n",
       "</div>"
      ],
      "text/plain": [
       "         model  year transmission fuelType  tax   mpg  engineSize  \\\n",
       "0           A1  2017       Manual   Petrol  150 55.40        1.40   \n",
       "2           A1  2016       Manual   Petrol   30 55.40        1.40   \n",
       "4           A3  2019       Manual   Petrol  145 49.60        1.00   \n",
       "5           A1  2016    Automatic   Petrol   30 58.90        1.40   \n",
       "8           A3  2015       Manual   Petrol   20 60.10        1.40   \n",
       "...        ...   ...          ...      ...  ...   ...         ...   \n",
       "13107  C Class  2019    Automatic   Diesel  145 61.40        2.00   \n",
       "13109  A Class  2017    Automatic   Diesel  145 68.90        2.10   \n",
       "13112  C Class  2019    Automatic   Diesel  145 61.40        2.00   \n",
       "13113  C Class  2020    Automatic   Diesel  145 64.20        2.00   \n",
       "13114  C Class  2020    Automatic   Diesel  145 55.40        2.00   \n",
       "\n",
       "                make  age  europrice       km  \n",
       "0               Audi    6   14250.00 25317.61  \n",
       "2               Audi    7   12540.00 48183.11  \n",
       "4               Audi    4   19722.00  3214.78  \n",
       "5               Audi    7   15846.00 51906.34  \n",
       "8               Audi    8   11628.00 74194.21  \n",
       "...              ...  ...        ...      ...  \n",
       "13107  Mercedes-Benz    4   28498.86  9756.98  \n",
       "13109  Mercedes-Benz    6   18808.86 32947.49  \n",
       "13112  Mercedes-Benz    4   34654.86  8045.00  \n",
       "13113  Mercedes-Benz    3   35338.86  1609.00  \n",
       "13114  Mercedes-Benz    3   41038.86   804.50  \n",
       "\n",
       "[27188 rows x 11 columns]"
      ]
     },
     "execution_count": 50,
     "metadata": {},
     "output_type": "execute_result"
    }
   ],
   "source": [
    "df_uk.drop(['mileage', 'price'], inplace=True, axis=1)\n",
    "df_uk"
   ]
  },
  {
   "cell_type": "markdown",
   "metadata": {},
   "source": [
    "### rename the columns according to German data"
   ]
  },
  {
   "cell_type": "code",
   "execution_count": 51,
   "metadata": {},
   "outputs": [],
   "source": [
    "df_uk = df_uk.rename(columns={'europrice': 'price', 'age': 'car_age', 'year': 'registration', 'fuelType': 'fuel', 'transmission': 'gear', 'km': 'mileage'})"
   ]
  },
  {
   "cell_type": "code",
   "execution_count": 52,
   "metadata": {
    "tags": []
   },
   "outputs": [
    {
     "data": {
      "text/plain": [
       "make           registration\n",
       "Audi           2012              50\n",
       "               2013             179\n",
       "               2014             265\n",
       "               2015             630\n",
       "               2016            1115\n",
       "               2017            1064\n",
       "               2018             344\n",
       "               2019            1452\n",
       "               2020             339\n",
       "BMW            2012              80\n",
       "               2013             255\n",
       "               2014             287\n",
       "               2015             467\n",
       "               2016            1045\n",
       "               2017            1032\n",
       "               2018             408\n",
       "               2019            1293\n",
       "               2020             241\n",
       "Mercedes-Benz  2012              27\n",
       "               2013             143\n",
       "               2014             254\n",
       "               2015             448\n",
       "               2016             924\n",
       "               2017            1093\n",
       "               2018             701\n",
       "               2019            2262\n",
       "               2020             274\n",
       "Volkswagen     2012              51\n",
       "               2013             208\n",
       "               2014             403\n",
       "               2015             879\n",
       "               2016            2104\n",
       "               2017            2406\n",
       "               2018             968\n",
       "               2019            2941\n",
       "               2020             556\n",
       "Name: price, dtype: int64"
      ]
     },
     "execution_count": 52,
     "metadata": {},
     "output_type": "execute_result"
    }
   ],
   "source": [
    "df_uk.groupby(['make', 'registration']).count()['price']"
   ]
  },
  {
   "cell_type": "code",
   "execution_count": 53,
   "metadata": {
    "tags": []
   },
   "outputs": [
    {
     "data": {
      "text/plain": [
       "make           gear     \n",
       "Audi           Automatic    1006\n",
       "               Manual       2830\n",
       "               Semi-Auto    1602\n",
       "BMW            Automatic    1416\n",
       "               Manual       1775\n",
       "               Semi-Auto    1917\n",
       "Mercedes-Benz  Automatic    2128\n",
       "               Manual        974\n",
       "               Semi-Auto    3024\n",
       "Volkswagen     Automatic    1115\n",
       "               Manual       6770\n",
       "               Semi-Auto    2631\n",
       "Name: price, dtype: int64"
      ]
     },
     "execution_count": 53,
     "metadata": {},
     "output_type": "execute_result"
    }
   ],
   "source": [
    "df_uk.groupby(['make', 'gear']).count()['price']"
   ]
  },
  {
   "cell_type": "markdown",
   "metadata": {},
   "source": [
    "## rename of the following columns: transmission, fuelType according to the German notebooks"
   ]
  },
  {
   "cell_type": "code",
   "execution_count": 54,
   "metadata": {
    "tags": []
   },
   "outputs": [
    {
     "data": {
      "text/html": [
       "<div>\n",
       "<style scoped>\n",
       "    .dataframe tbody tr th:only-of-type {\n",
       "        vertical-align: middle;\n",
       "    }\n",
       "\n",
       "    .dataframe tbody tr th {\n",
       "        vertical-align: top;\n",
       "    }\n",
       "\n",
       "    .dataframe thead th {\n",
       "        text-align: right;\n",
       "    }\n",
       "</style>\n",
       "<table border=\"1\" class=\"dataframe\">\n",
       "  <thead>\n",
       "    <tr style=\"text-align: right;\">\n",
       "      <th></th>\n",
       "      <th>model</th>\n",
       "      <th>registration</th>\n",
       "      <th>gear</th>\n",
       "      <th>fuel</th>\n",
       "      <th>tax</th>\n",
       "      <th>mpg</th>\n",
       "      <th>engineSize</th>\n",
       "      <th>make</th>\n",
       "      <th>car_age</th>\n",
       "      <th>price</th>\n",
       "      <th>mileage</th>\n",
       "    </tr>\n",
       "  </thead>\n",
       "  <tbody>\n",
       "    <tr>\n",
       "      <th>0</th>\n",
       "      <td>A1</td>\n",
       "      <td>2017</td>\n",
       "      <td>Manual</td>\n",
       "      <td>Petrol</td>\n",
       "      <td>150</td>\n",
       "      <td>55.40</td>\n",
       "      <td>1.40</td>\n",
       "      <td>Audi</td>\n",
       "      <td>6</td>\n",
       "      <td>14250.00</td>\n",
       "      <td>25317.61</td>\n",
       "    </tr>\n",
       "    <tr>\n",
       "      <th>2</th>\n",
       "      <td>A1</td>\n",
       "      <td>2016</td>\n",
       "      <td>Manual</td>\n",
       "      <td>Petrol</td>\n",
       "      <td>30</td>\n",
       "      <td>55.40</td>\n",
       "      <td>1.40</td>\n",
       "      <td>Audi</td>\n",
       "      <td>7</td>\n",
       "      <td>12540.00</td>\n",
       "      <td>48183.11</td>\n",
       "    </tr>\n",
       "    <tr>\n",
       "      <th>4</th>\n",
       "      <td>A3</td>\n",
       "      <td>2019</td>\n",
       "      <td>Manual</td>\n",
       "      <td>Petrol</td>\n",
       "      <td>145</td>\n",
       "      <td>49.60</td>\n",
       "      <td>1.00</td>\n",
       "      <td>Audi</td>\n",
       "      <td>4</td>\n",
       "      <td>19722.00</td>\n",
       "      <td>3214.78</td>\n",
       "    </tr>\n",
       "    <tr>\n",
       "      <th>5</th>\n",
       "      <td>A1</td>\n",
       "      <td>2016</td>\n",
       "      <td>Automatic</td>\n",
       "      <td>Petrol</td>\n",
       "      <td>30</td>\n",
       "      <td>58.90</td>\n",
       "      <td>1.40</td>\n",
       "      <td>Audi</td>\n",
       "      <td>7</td>\n",
       "      <td>15846.00</td>\n",
       "      <td>51906.34</td>\n",
       "    </tr>\n",
       "    <tr>\n",
       "      <th>8</th>\n",
       "      <td>A3</td>\n",
       "      <td>2015</td>\n",
       "      <td>Manual</td>\n",
       "      <td>Petrol</td>\n",
       "      <td>20</td>\n",
       "      <td>60.10</td>\n",
       "      <td>1.40</td>\n",
       "      <td>Audi</td>\n",
       "      <td>8</td>\n",
       "      <td>11628.00</td>\n",
       "      <td>74194.21</td>\n",
       "    </tr>\n",
       "    <tr>\n",
       "      <th>...</th>\n",
       "      <td>...</td>\n",
       "      <td>...</td>\n",
       "      <td>...</td>\n",
       "      <td>...</td>\n",
       "      <td>...</td>\n",
       "      <td>...</td>\n",
       "      <td>...</td>\n",
       "      <td>...</td>\n",
       "      <td>...</td>\n",
       "      <td>...</td>\n",
       "      <td>...</td>\n",
       "    </tr>\n",
       "    <tr>\n",
       "      <th>13107</th>\n",
       "      <td>C Class</td>\n",
       "      <td>2019</td>\n",
       "      <td>Automatic</td>\n",
       "      <td>Diesel</td>\n",
       "      <td>145</td>\n",
       "      <td>61.40</td>\n",
       "      <td>2.00</td>\n",
       "      <td>Mercedes-Benz</td>\n",
       "      <td>4</td>\n",
       "      <td>28498.86</td>\n",
       "      <td>9756.98</td>\n",
       "    </tr>\n",
       "    <tr>\n",
       "      <th>13109</th>\n",
       "      <td>A Class</td>\n",
       "      <td>2017</td>\n",
       "      <td>Automatic</td>\n",
       "      <td>Diesel</td>\n",
       "      <td>145</td>\n",
       "      <td>68.90</td>\n",
       "      <td>2.10</td>\n",
       "      <td>Mercedes-Benz</td>\n",
       "      <td>6</td>\n",
       "      <td>18808.86</td>\n",
       "      <td>32947.49</td>\n",
       "    </tr>\n",
       "    <tr>\n",
       "      <th>13112</th>\n",
       "      <td>C Class</td>\n",
       "      <td>2019</td>\n",
       "      <td>Automatic</td>\n",
       "      <td>Diesel</td>\n",
       "      <td>145</td>\n",
       "      <td>61.40</td>\n",
       "      <td>2.00</td>\n",
       "      <td>Mercedes-Benz</td>\n",
       "      <td>4</td>\n",
       "      <td>34654.86</td>\n",
       "      <td>8045.00</td>\n",
       "    </tr>\n",
       "    <tr>\n",
       "      <th>13113</th>\n",
       "      <td>C Class</td>\n",
       "      <td>2020</td>\n",
       "      <td>Automatic</td>\n",
       "      <td>Diesel</td>\n",
       "      <td>145</td>\n",
       "      <td>64.20</td>\n",
       "      <td>2.00</td>\n",
       "      <td>Mercedes-Benz</td>\n",
       "      <td>3</td>\n",
       "      <td>35338.86</td>\n",
       "      <td>1609.00</td>\n",
       "    </tr>\n",
       "    <tr>\n",
       "      <th>13114</th>\n",
       "      <td>C Class</td>\n",
       "      <td>2020</td>\n",
       "      <td>Automatic</td>\n",
       "      <td>Diesel</td>\n",
       "      <td>145</td>\n",
       "      <td>55.40</td>\n",
       "      <td>2.00</td>\n",
       "      <td>Mercedes-Benz</td>\n",
       "      <td>3</td>\n",
       "      <td>41038.86</td>\n",
       "      <td>804.50</td>\n",
       "    </tr>\n",
       "  </tbody>\n",
       "</table>\n",
       "<p>27188 rows × 11 columns</p>\n",
       "</div>"
      ],
      "text/plain": [
       "         model  registration       gear    fuel  tax   mpg  engineSize  \\\n",
       "0           A1          2017     Manual  Petrol  150 55.40        1.40   \n",
       "2           A1          2016     Manual  Petrol   30 55.40        1.40   \n",
       "4           A3          2019     Manual  Petrol  145 49.60        1.00   \n",
       "5           A1          2016  Automatic  Petrol   30 58.90        1.40   \n",
       "8           A3          2015     Manual  Petrol   20 60.10        1.40   \n",
       "...        ...           ...        ...     ...  ...   ...         ...   \n",
       "13107  C Class          2019  Automatic  Diesel  145 61.40        2.00   \n",
       "13109  A Class          2017  Automatic  Diesel  145 68.90        2.10   \n",
       "13112  C Class          2019  Automatic  Diesel  145 61.40        2.00   \n",
       "13113  C Class          2020  Automatic  Diesel  145 64.20        2.00   \n",
       "13114  C Class          2020  Automatic  Diesel  145 55.40        2.00   \n",
       "\n",
       "                make  car_age    price  mileage  \n",
       "0               Audi        6 14250.00 25317.61  \n",
       "2               Audi        7 12540.00 48183.11  \n",
       "4               Audi        4 19722.00  3214.78  \n",
       "5               Audi        7 15846.00 51906.34  \n",
       "8               Audi        8 11628.00 74194.21  \n",
       "...              ...      ...      ...      ...  \n",
       "13107  Mercedes-Benz        4 28498.86  9756.98  \n",
       "13109  Mercedes-Benz        6 18808.86 32947.49  \n",
       "13112  Mercedes-Benz        4 34654.86  8045.00  \n",
       "13113  Mercedes-Benz        3 35338.86  1609.00  \n",
       "13114  Mercedes-Benz        3 41038.86   804.50  \n",
       "\n",
       "[27188 rows x 11 columns]"
      ]
     },
     "execution_count": 54,
     "metadata": {},
     "output_type": "execute_result"
    }
   ],
   "source": [
    "df_uk.replace({'Benzin': 'Petrol', 'Sonstige':'Other', 'Elektro':'Electric',\n",
    "           'Automatik': 'Automatic', 'Schaltgetriebe': 'Manual', 'Halbautomatik':'Semi-Auto',\n",
    "           }, inplace=False)"
   ]
  },
  {
   "cell_type": "code",
   "execution_count": 55,
   "metadata": {
    "tags": []
   },
   "outputs": [
    {
     "data": {
      "text/plain": [
       "make           model   \n",
       "Audi           A1          1331\n",
       "               A3          1868\n",
       "               A5           861\n",
       "               Q3          1378\n",
       "BMW            1 Series    1931\n",
       "               3 Series    2345\n",
       "               X1           789\n",
       "               i3            43\n",
       "Mercedes-Benz  A Class     2463\n",
       "               C Class     3648\n",
       "               G Class       15\n",
       "Volkswagen     Golf        4734\n",
       "               Passat       862\n",
       "               Polo        3191\n",
       "               Tiguan      1729\n",
       "Name: price, dtype: int64"
      ]
     },
     "execution_count": 55,
     "metadata": {},
     "output_type": "execute_result"
    }
   ],
   "source": [
    "df_uk.groupby(['make', 'model']).count()['price']"
   ]
  },
  {
   "cell_type": "markdown",
   "metadata": {},
   "source": [
    "### add the new colums for car (make+model)"
   ]
  },
  {
   "cell_type": "code",
   "execution_count": 56,
   "metadata": {},
   "outputs": [],
   "source": [
    "df_uk[\"car\"] = df_uk[\"make\"] + ' ' + df_uk[\"model\"]"
   ]
  },
  {
   "cell_type": "code",
   "execution_count": 57,
   "metadata": {
    "tags": []
   },
   "outputs": [
    {
     "data": {
      "text/plain": [
       "Golf        4734\n",
       "C Class     3648\n",
       "Polo        3191\n",
       "A Class     2463\n",
       "3 Series    2345\n",
       "1 Series    1931\n",
       "A3          1868\n",
       "Tiguan      1729\n",
       "Q3          1378\n",
       "A1          1331\n",
       "Passat       862\n",
       "A5           861\n",
       "X1           789\n",
       "i3            43\n",
       "G Class       15\n",
       "Name: model, dtype: int64"
      ]
     },
     "execution_count": 57,
     "metadata": {},
     "output_type": "execute_result"
    }
   ],
   "source": [
    "df_uk.model.value_counts()"
   ]
  },
  {
   "cell_type": "markdown",
   "metadata": {},
   "source": [
    "## create the car classes"
   ]
  },
  {
   "cell_type": "markdown",
   "metadata": {},
   "source": [
    "## small car"
   ]
  },
  {
   "cell_type": "code",
   "execution_count": 58,
   "metadata": {
    "tags": []
   },
   "outputs": [
    {
     "data": {
      "text/html": [
       "<div>\n",
       "<style scoped>\n",
       "    .dataframe tbody tr th:only-of-type {\n",
       "        vertical-align: middle;\n",
       "    }\n",
       "\n",
       "    .dataframe tbody tr th {\n",
       "        vertical-align: top;\n",
       "    }\n",
       "\n",
       "    .dataframe thead th {\n",
       "        text-align: right;\n",
       "    }\n",
       "</style>\n",
       "<table border=\"1\" class=\"dataframe\">\n",
       "  <thead>\n",
       "    <tr style=\"text-align: right;\">\n",
       "      <th></th>\n",
       "      <th>model</th>\n",
       "      <th>registration</th>\n",
       "      <th>gear</th>\n",
       "      <th>fuel</th>\n",
       "      <th>tax</th>\n",
       "      <th>mpg</th>\n",
       "      <th>engineSize</th>\n",
       "      <th>make</th>\n",
       "      <th>car_age</th>\n",
       "      <th>price</th>\n",
       "      <th>mileage</th>\n",
       "      <th>car</th>\n",
       "      <th>class</th>\n",
       "    </tr>\n",
       "  </thead>\n",
       "  <tbody>\n",
       "    <tr>\n",
       "      <th>0</th>\n",
       "      <td>A1</td>\n",
       "      <td>2017</td>\n",
       "      <td>Manual</td>\n",
       "      <td>Petrol</td>\n",
       "      <td>150</td>\n",
       "      <td>55.40</td>\n",
       "      <td>1.40</td>\n",
       "      <td>Audi</td>\n",
       "      <td>6</td>\n",
       "      <td>14250.00</td>\n",
       "      <td>25317.61</td>\n",
       "      <td>Audi A1</td>\n",
       "      <td>A1</td>\n",
       "    </tr>\n",
       "    <tr>\n",
       "      <th>2</th>\n",
       "      <td>A1</td>\n",
       "      <td>2016</td>\n",
       "      <td>Manual</td>\n",
       "      <td>Petrol</td>\n",
       "      <td>30</td>\n",
       "      <td>55.40</td>\n",
       "      <td>1.40</td>\n",
       "      <td>Audi</td>\n",
       "      <td>7</td>\n",
       "      <td>12540.00</td>\n",
       "      <td>48183.11</td>\n",
       "      <td>Audi A1</td>\n",
       "      <td>A1</td>\n",
       "    </tr>\n",
       "    <tr>\n",
       "      <th>4</th>\n",
       "      <td>A3</td>\n",
       "      <td>2019</td>\n",
       "      <td>Manual</td>\n",
       "      <td>Petrol</td>\n",
       "      <td>145</td>\n",
       "      <td>49.60</td>\n",
       "      <td>1.00</td>\n",
       "      <td>Audi</td>\n",
       "      <td>4</td>\n",
       "      <td>19722.00</td>\n",
       "      <td>3214.78</td>\n",
       "      <td>Audi A3</td>\n",
       "      <td>A3</td>\n",
       "    </tr>\n",
       "    <tr>\n",
       "      <th>5</th>\n",
       "      <td>A1</td>\n",
       "      <td>2016</td>\n",
       "      <td>Automatic</td>\n",
       "      <td>Petrol</td>\n",
       "      <td>30</td>\n",
       "      <td>58.90</td>\n",
       "      <td>1.40</td>\n",
       "      <td>Audi</td>\n",
       "      <td>7</td>\n",
       "      <td>15846.00</td>\n",
       "      <td>51906.34</td>\n",
       "      <td>Audi A1</td>\n",
       "      <td>A1</td>\n",
       "    </tr>\n",
       "    <tr>\n",
       "      <th>8</th>\n",
       "      <td>A3</td>\n",
       "      <td>2015</td>\n",
       "      <td>Manual</td>\n",
       "      <td>Petrol</td>\n",
       "      <td>20</td>\n",
       "      <td>60.10</td>\n",
       "      <td>1.40</td>\n",
       "      <td>Audi</td>\n",
       "      <td>8</td>\n",
       "      <td>11628.00</td>\n",
       "      <td>74194.21</td>\n",
       "      <td>Audi A3</td>\n",
       "      <td>A3</td>\n",
       "    </tr>\n",
       "    <tr>\n",
       "      <th>...</th>\n",
       "      <td>...</td>\n",
       "      <td>...</td>\n",
       "      <td>...</td>\n",
       "      <td>...</td>\n",
       "      <td>...</td>\n",
       "      <td>...</td>\n",
       "      <td>...</td>\n",
       "      <td>...</td>\n",
       "      <td>...</td>\n",
       "      <td>...</td>\n",
       "      <td>...</td>\n",
       "      <td>...</td>\n",
       "      <td>...</td>\n",
       "    </tr>\n",
       "    <tr>\n",
       "      <th>13107</th>\n",
       "      <td>C Class</td>\n",
       "      <td>2019</td>\n",
       "      <td>Automatic</td>\n",
       "      <td>Diesel</td>\n",
       "      <td>145</td>\n",
       "      <td>61.40</td>\n",
       "      <td>2.00</td>\n",
       "      <td>Mercedes-Benz</td>\n",
       "      <td>4</td>\n",
       "      <td>28498.86</td>\n",
       "      <td>9756.98</td>\n",
       "      <td>Mercedes-Benz C Class</td>\n",
       "      <td>C Class</td>\n",
       "    </tr>\n",
       "    <tr>\n",
       "      <th>13109</th>\n",
       "      <td>A Class</td>\n",
       "      <td>2017</td>\n",
       "      <td>Automatic</td>\n",
       "      <td>Diesel</td>\n",
       "      <td>145</td>\n",
       "      <td>68.90</td>\n",
       "      <td>2.10</td>\n",
       "      <td>Mercedes-Benz</td>\n",
       "      <td>6</td>\n",
       "      <td>18808.86</td>\n",
       "      <td>32947.49</td>\n",
       "      <td>Mercedes-Benz A Class</td>\n",
       "      <td>A Class</td>\n",
       "    </tr>\n",
       "    <tr>\n",
       "      <th>13112</th>\n",
       "      <td>C Class</td>\n",
       "      <td>2019</td>\n",
       "      <td>Automatic</td>\n",
       "      <td>Diesel</td>\n",
       "      <td>145</td>\n",
       "      <td>61.40</td>\n",
       "      <td>2.00</td>\n",
       "      <td>Mercedes-Benz</td>\n",
       "      <td>4</td>\n",
       "      <td>34654.86</td>\n",
       "      <td>8045.00</td>\n",
       "      <td>Mercedes-Benz C Class</td>\n",
       "      <td>C Class</td>\n",
       "    </tr>\n",
       "    <tr>\n",
       "      <th>13113</th>\n",
       "      <td>C Class</td>\n",
       "      <td>2020</td>\n",
       "      <td>Automatic</td>\n",
       "      <td>Diesel</td>\n",
       "      <td>145</td>\n",
       "      <td>64.20</td>\n",
       "      <td>2.00</td>\n",
       "      <td>Mercedes-Benz</td>\n",
       "      <td>3</td>\n",
       "      <td>35338.86</td>\n",
       "      <td>1609.00</td>\n",
       "      <td>Mercedes-Benz C Class</td>\n",
       "      <td>C Class</td>\n",
       "    </tr>\n",
       "    <tr>\n",
       "      <th>13114</th>\n",
       "      <td>C Class</td>\n",
       "      <td>2020</td>\n",
       "      <td>Automatic</td>\n",
       "      <td>Diesel</td>\n",
       "      <td>145</td>\n",
       "      <td>55.40</td>\n",
       "      <td>2.00</td>\n",
       "      <td>Mercedes-Benz</td>\n",
       "      <td>3</td>\n",
       "      <td>41038.86</td>\n",
       "      <td>804.50</td>\n",
       "      <td>Mercedes-Benz C Class</td>\n",
       "      <td>C Class</td>\n",
       "    </tr>\n",
       "  </tbody>\n",
       "</table>\n",
       "<p>27188 rows × 13 columns</p>\n",
       "</div>"
      ],
      "text/plain": [
       "         model  registration       gear    fuel  tax   mpg  engineSize  \\\n",
       "0           A1          2017     Manual  Petrol  150 55.40        1.40   \n",
       "2           A1          2016     Manual  Petrol   30 55.40        1.40   \n",
       "4           A3          2019     Manual  Petrol  145 49.60        1.00   \n",
       "5           A1          2016  Automatic  Petrol   30 58.90        1.40   \n",
       "8           A3          2015     Manual  Petrol   20 60.10        1.40   \n",
       "...        ...           ...        ...     ...  ...   ...         ...   \n",
       "13107  C Class          2019  Automatic  Diesel  145 61.40        2.00   \n",
       "13109  A Class          2017  Automatic  Diesel  145 68.90        2.10   \n",
       "13112  C Class          2019  Automatic  Diesel  145 61.40        2.00   \n",
       "13113  C Class          2020  Automatic  Diesel  145 64.20        2.00   \n",
       "13114  C Class          2020  Automatic  Diesel  145 55.40        2.00   \n",
       "\n",
       "                make  car_age    price  mileage                    car  \\\n",
       "0               Audi        6 14250.00 25317.61                Audi A1   \n",
       "2               Audi        7 12540.00 48183.11                Audi A1   \n",
       "4               Audi        4 19722.00  3214.78                Audi A3   \n",
       "5               Audi        7 15846.00 51906.34                Audi A1   \n",
       "8               Audi        8 11628.00 74194.21                Audi A3   \n",
       "...              ...      ...      ...      ...                    ...   \n",
       "13107  Mercedes-Benz        4 28498.86  9756.98  Mercedes-Benz C Class   \n",
       "13109  Mercedes-Benz        6 18808.86 32947.49  Mercedes-Benz A Class   \n",
       "13112  Mercedes-Benz        4 34654.86  8045.00  Mercedes-Benz C Class   \n",
       "13113  Mercedes-Benz        3 35338.86  1609.00  Mercedes-Benz C Class   \n",
       "13114  Mercedes-Benz        3 41038.86   804.50  Mercedes-Benz C Class   \n",
       "\n",
       "         class  \n",
       "0           A1  \n",
       "2           A1  \n",
       "4           A3  \n",
       "5           A1  \n",
       "8           A3  \n",
       "...        ...  \n",
       "13107  C Class  \n",
       "13109  A Class  \n",
       "13112  C Class  \n",
       "13113  C Class  \n",
       "13114  C Class  \n",
       "\n",
       "[27188 rows x 13 columns]"
      ]
     },
     "execution_count": 58,
     "metadata": {},
     "output_type": "execute_result"
    }
   ],
   "source": [
    "df_uk['class'] = df_uk['model']\n",
    "df_uk"
   ]
  },
  {
   "cell_type": "code",
   "execution_count": 59,
   "metadata": {
    "tags": []
   },
   "outputs": [],
   "source": [
    "# smart\n",
    "df_uk['class'] = np.where((df_uk['make'] == 'smart'), 'Small car', df_uk['class'])\n",
    "\n",
    "# Polo GTI\n",
    "df_uk['class'] = np.where((df_uk['make'] == 'Volkswagen') & (df_uk['model'] == 'Polo') , 'Small car', df_uk['class'])\n",
    "\n",
    "# Audi A1\n",
    "df_uk['class'] = np.where((df_uk['make'] == 'Audi') & (df_uk['model'] == 'A1') , 'Small car', df_uk['class'])\n",
    "\n",
    "# BMW i3\n",
    "df_uk['class'] = np.where((df_uk['make'] == 'BMW') & (df_uk['model'] == 'i3') , 'Small car', df_uk['class'])"
   ]
  },
  {
   "cell_type": "markdown",
   "metadata": {
    "tags": []
   },
   "source": [
    "## small family car"
   ]
  },
  {
   "cell_type": "code",
   "execution_count": 60,
   "metadata": {
    "tags": []
   },
   "outputs": [],
   "source": [
    "# MB A 200\n",
    "df_uk['class'] = np.where((df_uk['make'] == 'Mercedes-Benz') & (df_uk['model'] == 'A Class'), 'Small family car', df_uk['class'])\n",
    "\n",
    "# VW Golf GTI\n",
    "df_uk['class'] = np.where((df_uk['make'] == 'Volkswagen') & (df_uk['model'] == 'Golf') , 'Small family car', df_uk['class'])\n",
    "\n",
    "# Audi A3\n",
    "df_uk['class'] = np.where((df_uk['make'] == 'Audi') & (df_uk['model'] == 'A3') , 'Small family car', df_uk['class'])\n",
    "\n",
    "# BMW 120\n",
    "df_uk['class'] = np.where((df_uk['make'] == 'BMW') & (df_uk['model'] == '1 Series') , 'Small family car', df_uk['class'])"
   ]
  },
  {
   "cell_type": "markdown",
   "metadata": {
    "tags": []
   },
   "source": [
    "## large family car"
   ]
  },
  {
   "cell_type": "code",
   "execution_count": 61,
   "metadata": {
    "tags": []
   },
   "outputs": [],
   "source": [
    "# MB C 200\n",
    "df_uk['class'] = np.where((df_uk['make'] == 'Mercedes-Benz') & (df_uk['model'] == 'C Class'), 'Large family car', df_uk['class'])\n",
    "\n",
    "# VW Passat Variant\n",
    "df_uk['class'] = np.where((df_uk['make'] == 'Volkswagen') & (df_uk['model'] == 'Passat') , 'Large family car', df_uk['class'])\n",
    "\n",
    "# Audi A5\n",
    "df_uk['class'] = np.where((df_uk['make'] == 'Audi') & (df_uk['model'] == 'A5') , 'Large family car', df_uk['class'])\n",
    "\n",
    "# BMW 330\n",
    "df_uk['class'] = np.where((df_uk['make'] == 'BMW') & (df_uk['model'] == '3 Series') , 'Large family car', df_uk['class'])"
   ]
  },
  {
   "cell_type": "markdown",
   "metadata": {},
   "source": [
    "## compact SUV"
   ]
  },
  {
   "cell_type": "code",
   "execution_count": 62,
   "metadata": {
    "tags": []
   },
   "outputs": [],
   "source": [
    "# MB GLA 200\n",
    "df_uk['class'] = np.where((df_uk['make'] == 'Mercedes-Benz') & (df_uk['model'] == 'G Class'), 'Compact SUV', df_uk['class'])\n",
    "\n",
    "# VW Tiguan\n",
    "df_uk['class'] = np.where((df_uk['make'] == 'Volkswagen') & (df_uk['model'] == 'Tiguan') , 'Compact SUV', df_uk['class'])\n",
    "\n",
    "# Audi Q3\n",
    "df_uk['class'] = np.where((df_uk['make'] == 'Audi') & (df_uk['model'] == 'Q3') , 'Compact SUV', df_uk['class'])\n",
    "# BMW X1\n",
    "df_uk['class'] = np.where((df_uk['make'] == 'BMW') & (df_uk['model'] == 'X1') , 'Compact SUV', df_uk['class'])"
   ]
  },
  {
   "cell_type": "markdown",
   "metadata": {
    "tags": []
   },
   "source": [
    "### grouped by the model, class, make"
   ]
  },
  {
   "cell_type": "code",
   "execution_count": 63,
   "metadata": {
    "tags": []
   },
   "outputs": [
    {
     "data": {
      "text/plain": [
       "array(['Small car', 'Small family car', 'Compact SUV', 'Large family car'],\n",
       "      dtype=object)"
      ]
     },
     "execution_count": 63,
     "metadata": {},
     "output_type": "execute_result"
    }
   ],
   "source": [
    "df_uk['class'].unique()"
   ]
  },
  {
   "cell_type": "code",
   "execution_count": 64,
   "metadata": {
    "tags": []
   },
   "outputs": [
    {
     "data": {
      "text/plain": [
       "class             model   \n",
       "Compact SUV       G Class       15\n",
       "                  Q3          1378\n",
       "                  Tiguan      1729\n",
       "                  X1           789\n",
       "Large family car  3 Series    2345\n",
       "                  A5           861\n",
       "                  C Class     3648\n",
       "                  Passat       862\n",
       "Small car         A1          1331\n",
       "                  Polo        3191\n",
       "                  i3            43\n",
       "Small family car  1 Series    1931\n",
       "                  A Class     2463\n",
       "                  A3          1868\n",
       "                  Golf        4734\n",
       "Name: price, dtype: int64"
      ]
     },
     "execution_count": 64,
     "metadata": {},
     "output_type": "execute_result"
    }
   ],
   "source": [
    "df_uk.groupby(['class', 'model']).count()['price']"
   ]
  },
  {
   "cell_type": "markdown",
   "metadata": {},
   "source": [
    "### push the data to csv"
   ]
  },
  {
   "cell_type": "code",
   "execution_count": 65,
   "metadata": {},
   "outputs": [],
   "source": [
    "df_uk.to_csv('../data/allcars_uk.csv', index=False)"
   ]
  },
  {
   "cell_type": "code",
   "execution_count": null,
   "metadata": {},
   "outputs": [],
   "source": []
  }
 ],
 "metadata": {
  "kernelspec": {
   "display_name": "Python 3 (ipykernel)",
   "language": "python",
   "name": "python3"
  },
  "language_info": {
   "codemirror_mode": {
    "name": "ipython",
    "version": 3
   },
   "file_extension": ".py",
   "mimetype": "text/x-python",
   "name": "python",
   "nbconvert_exporter": "python",
   "pygments_lexer": "ipython3",
   "version": "3.9.8"
  }
 },
 "nbformat": 4,
 "nbformat_minor": 4
}
