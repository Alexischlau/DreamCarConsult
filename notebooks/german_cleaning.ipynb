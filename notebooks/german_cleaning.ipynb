{
 "cells": [
  {
   "cell_type": "markdown",
   "metadata": {
    "tags": []
   },
   "source": [
    "# Project Description"
   ]
  },
  {
   "cell_type": "markdown",
   "metadata": {},
   "source": [
    "## Data"
   ]
  },
  {
   "cell_type": "markdown",
   "metadata": {},
   "source": [
    "**Abstract**:\n",
    "- Analyse car prices for German and UK markets.\n",
    "- Determine value depreciation of cars. Model car prices value depreciation for future."
   ]
  },
  {
   "cell_type": "markdown",
   "metadata": {},
   "source": [
    "**Data Sources**:\n",
    "1. German Car Market: the data got via scraping from [Web site AutoScout24](https://www.autoscout24.de/)\n",
    "2. UK Car Market: [Kaggle Datasource](https://www.kaggle.com/datasets/adityadesai13/used-car-dataset-ford-and-mercedes?select=audi.csv), which also was scraped by the author, from download link. "
   ]
  },
  {
   "cell_type": "markdown",
   "metadata": {},
   "source": [
    "**Data Set Characteristics:**\n",
    "- Obtained: scraped April 2023 (german Market), Kaggle Download (UK market)\n",
    "- Multivariate dataset\n",
    "- Shape of the dataset: 10976 rows, 20 columns\n",
    "- Area: busines, used cars markets UK and Germany\n",
    "- Attribute Characteristics: Categorical, Integer, Float, String\n",
    "- Date priods: cars offerd for buying in April 2023, with first registration from 2023 to 2012.\n",
    "- Associated Tasks: EDA, Regression (Car price prediction)\n",
    "- Missing Values?: Yes"
   ]
  },
  {
   "cell_type": "markdown",
   "metadata": {},
   "source": [
    "**Variable Description:**\n",
    "\n",
    "|Variable|Definition   | Key  |\n",
    "|---|---|---|\n",
    "|make |Car Manufacturer  |   Audi,BMW, Volkswagon,Mercedes|\n",
    "|model|Car Model within each Manufacturer| |\n",
    "|fuel|Fuel Type|'Petrol', 'Diesel', 'Electro'|\n",
    "|mileage|Km stand of car|in KM|\n",
    "|gear|Gear Type |Automatic,manual|\n",
    "|registration|year of first registration of car|Year|\n",
    "|hp|Engine Power|kW|\n",
    "|owner|no. of Previous Owner ||\n",
    "|body|Car Type|Sedan, Small car, Station wagon, Convertible, Coupe, SUV|\n",
    "|car_condition|Demonstration vehicle, Day admission, Annual car, Used, New||\n",
    "|consumption|Fuel Consumption|in l/Km|\n",
    "|emission|Exhaust emission|in g/Km|\n",
    "|color|car color||\n",
    "|car_id|unique carid||\n",
    "|displacement|Engine Size|in cm3|\n",
    "|drive_type|Types of drivetrain|Front,Rear, Four wheel drive(four w.d.)|\n",
    "|link|link of car description||\n",
    "|price|Price of car||"
   ]
  },
  {
   "cell_type": "markdown",
   "metadata": {},
   "source": [
    "# Imports"
   ]
  },
  {
   "cell_type": "code",
   "execution_count": 1,
   "metadata": {
    "tags": []
   },
   "outputs": [],
   "source": [
    "# import pandas, numpy, datetime module\n",
    "import warnings\n",
    "warnings.filterwarnings(\"ignore\")\n",
    "\n",
    "import pandas as pd\n",
    "import numpy as np\n",
    "\n",
    "from datetime import datetime, date, time, timedelta\n",
    "\n",
    "import datetime\n",
    "import time\n",
    "import re\n",
    "\n",
    "# import plotting modules\n",
    "import matplotlib.pyplot as plt\n",
    "import seaborn as sns\n",
    "%matplotlib inline\n",
    "\n",
    "# import formattings\n",
    "from matplotlib.ticker import PercentFormatter\n",
    "plt.rcParams.update({ \"figure.figsize\" : (8, 5),\"axes.facecolor\" : \"white\", \"axes.edgecolor\":  \"black\"})\n",
    "plt.rcParams[\"figure.facecolor\"]= \"w\"\n",
    "pd.plotting.register_matplotlib_converters()\n",
    "pd.set_option('display.float_format', lambda x: '%.2f' % x)\n",
    "pd.set_option('display.max_columns', None)\n",
    "\n",
    "RSEED = 3\n",
    "\n",
    "# Setting plt style\n",
    "plt.style.use('fivethirtyeight')\n",
    "\n",
    "# set color theme\n",
    "sns_colors = [\"#FF6D43\", \"#00135D\", '#00135D', '#00135D']\n",
    "sns.set_palette(sns.color_palette(sns_colors))\n",
    "\n",
    "primary = '#FF6D43'\n",
    "secondary = '#00135D'"
   ]
  },
  {
   "cell_type": "markdown",
   "metadata": {},
   "source": [
    "# Data understanding"
   ]
  },
  {
   "cell_type": "code",
   "execution_count": 2,
   "metadata": {
    "tags": []
   },
   "outputs": [],
   "source": [
    "# Import the dataset and load DF\n",
    "df = pd.read_csv('../data/german_cars_scraping.csv')\n",
    "df.drop(['doors', 'seats'], inplace=True, axis=1)"
   ]
  },
  {
   "cell_type": "code",
   "execution_count": 3,
   "metadata": {
    "tags": []
   },
   "outputs": [
    {
     "name": "stdout",
     "output_type": "stream",
     "text": [
      "The dataset has 11109 rows and 18 columns\n"
     ]
    }
   ],
   "source": [
    "#Check the shape of the data\n",
    "print(f'The dataset has {df.shape[0]} rows and {df.shape[1]} columns')"
   ]
  },
  {
   "cell_type": "code",
   "execution_count": 4,
   "metadata": {
    "tags": []
   },
   "outputs": [
    {
     "data": {
      "text/plain": [
       "False    11104\n",
       "True         5\n",
       "dtype: int64"
      ]
     },
     "execution_count": 4,
     "metadata": {},
     "output_type": "execute_result"
    }
   ],
   "source": [
    "# check for duplicated values\n",
    "df.duplicated().value_counts()"
   ]
  },
  {
   "cell_type": "code",
   "execution_count": 5,
   "metadata": {},
   "outputs": [
    {
     "data": {
      "text/html": [
       "<div>\n",
       "<style scoped>\n",
       "    .dataframe tbody tr th:only-of-type {\n",
       "        vertical-align: middle;\n",
       "    }\n",
       "\n",
       "    .dataframe tbody tr th {\n",
       "        vertical-align: top;\n",
       "    }\n",
       "\n",
       "    .dataframe thead th {\n",
       "        text-align: right;\n",
       "    }\n",
       "</style>\n",
       "<table border=\"1\" class=\"dataframe\">\n",
       "  <thead>\n",
       "    <tr style=\"text-align: right;\">\n",
       "      <th></th>\n",
       "      <th>make</th>\n",
       "      <th>model</th>\n",
       "      <th>price</th>\n",
       "      <th>fuel</th>\n",
       "      <th>mileage</th>\n",
       "      <th>gear</th>\n",
       "      <th>registration</th>\n",
       "      <th>hp</th>\n",
       "      <th>owner</th>\n",
       "      <th>body</th>\n",
       "      <th>car_condition</th>\n",
       "      <th>consumption</th>\n",
       "      <th>emission</th>\n",
       "      <th>color</th>\n",
       "      <th>car_id</th>\n",
       "      <th>displacement</th>\n",
       "      <th>drive_type</th>\n",
       "      <th>link</th>\n",
       "    </tr>\n",
       "  </thead>\n",
       "  <tbody>\n",
       "    <tr>\n",
       "      <th>10393</th>\n",
       "      <td>Audi</td>\n",
       "      <td>A1</td>\n",
       "      <td>€ 12.790,-</td>\n",
       "      <td>Benzin</td>\n",
       "      <td>46.533 km</td>\n",
       "      <td>Schaltgetriebe</td>\n",
       "      <td>02/2013</td>\n",
       "      <td>63 kW (86 PS)</td>\n",
       "      <td>2.00</td>\n",
       "      <td>Limousine</td>\n",
       "      <td>Gebraucht</td>\n",
       "      <td>5,1 l/100 km (komb.)</td>\n",
       "      <td>121 g/km (komb.)</td>\n",
       "      <td>Orange</td>\n",
       "      <td>ATS9040</td>\n",
       "      <td>1.197 cm³</td>\n",
       "      <td>Front</td>\n",
       "      <td>https://www.autoscout24.de/angebote/audi-a1-sp...</td>\n",
       "    </tr>\n",
       "    <tr>\n",
       "      <th>11026</th>\n",
       "      <td>Audi</td>\n",
       "      <td>A3</td>\n",
       "      <td>€ 35.920,-1</td>\n",
       "      <td>Elektro/Benzin</td>\n",
       "      <td>13.000 km</td>\n",
       "      <td>Automatik</td>\n",
       "      <td>03/2022</td>\n",
       "      <td>180 kW (245 PS)</td>\n",
       "      <td>1.00</td>\n",
       "      <td>Limousine</td>\n",
       "      <td>Jahreswagen</td>\n",
       "      <td>1,4 l/100 km (komb.)</td>\n",
       "      <td>31 g/km (komb.)</td>\n",
       "      <td>Blau</td>\n",
       "      <td>663018437048</td>\n",
       "      <td>1.395 cm³</td>\n",
       "      <td>NaN</td>\n",
       "      <td>https://www.autoscout24.de/angebote/audi-a3-sp...</td>\n",
       "    </tr>\n",
       "    <tr>\n",
       "      <th>11032</th>\n",
       "      <td>Volkswagen</td>\n",
       "      <td>Passat Variant</td>\n",
       "      <td>€ 43.340,-1</td>\n",
       "      <td>Elektro/Benzin</td>\n",
       "      <td>12.500 km</td>\n",
       "      <td>Automatik</td>\n",
       "      <td>07/2022</td>\n",
       "      <td>160 kW (218 PS)</td>\n",
       "      <td>1.00</td>\n",
       "      <td>Kombi</td>\n",
       "      <td>Jahreswagen</td>\n",
       "      <td>1,7 l/100 km (komb.)</td>\n",
       "      <td>38 g/km (komb.)</td>\n",
       "      <td>Grau</td>\n",
       "      <td>22816</td>\n",
       "      <td>1.395 cm³</td>\n",
       "      <td>NaN</td>\n",
       "      <td>https://www.autoscout24.de/angebote/volkswagen...</td>\n",
       "    </tr>\n",
       "    <tr>\n",
       "      <th>11040</th>\n",
       "      <td>Volkswagen</td>\n",
       "      <td>Tiguan</td>\n",
       "      <td>€ 45.820,-1</td>\n",
       "      <td>Elektro/Benzin</td>\n",
       "      <td>23.671 km</td>\n",
       "      <td>Automatik</td>\n",
       "      <td>02/2022</td>\n",
       "      <td>180 kW (245 PS)</td>\n",
       "      <td>1.00</td>\n",
       "      <td>SUV/Geländewagen/Pickup</td>\n",
       "      <td>Jahreswagen</td>\n",
       "      <td>1,5 l/100 km (komb.)</td>\n",
       "      <td>153 g/km (komb.)</td>\n",
       "      <td>Blau</td>\n",
       "      <td>23032</td>\n",
       "      <td>1.395 cm³</td>\n",
       "      <td>NaN</td>\n",
       "      <td>https://www.autoscout24.de/angebote/volkswagen...</td>\n",
       "    </tr>\n",
       "    <tr>\n",
       "      <th>11070</th>\n",
       "      <td>Volkswagen</td>\n",
       "      <td>Tiguan</td>\n",
       "      <td>€ 45.520,-1</td>\n",
       "      <td>Elektro/Benzin</td>\n",
       "      <td>2.735 km</td>\n",
       "      <td>Automatik</td>\n",
       "      <td>06/2021</td>\n",
       "      <td>180 kW (245 PS)</td>\n",
       "      <td>1.00</td>\n",
       "      <td>SUV/Geländewagen/Pickup</td>\n",
       "      <td>Gebraucht</td>\n",
       "      <td>1,5 l/100 km (komb.)</td>\n",
       "      <td>158 g/km (komb.)</td>\n",
       "      <td>Schwarz</td>\n",
       "      <td>23028</td>\n",
       "      <td>1.395 cm³</td>\n",
       "      <td>NaN</td>\n",
       "      <td>https://www.autoscout24.de/angebote/volkswagen...</td>\n",
       "    </tr>\n",
       "  </tbody>\n",
       "</table>\n",
       "</div>"
      ],
      "text/plain": [
       "              make           model        price             fuel    mileage  \\\n",
       "10393        Audi               A1   € 12.790,-           Benzin  46.533 km   \n",
       "11026        Audi               A3  € 35.920,-1   Elektro/Benzin  13.000 km   \n",
       "11032  Volkswagen   Passat Variant  € 43.340,-1   Elektro/Benzin  12.500 km   \n",
       "11040  Volkswagen           Tiguan  € 45.820,-1   Elektro/Benzin  23.671 km   \n",
       "11070  Volkswagen           Tiguan  € 45.520,-1   Elektro/Benzin   2.735 km   \n",
       "\n",
       "                 gear registration               hp  owner  \\\n",
       "10393  Schaltgetriebe      02/2013    63 kW (86 PS)   2.00   \n",
       "11026       Automatik      03/2022  180 kW (245 PS)   1.00   \n",
       "11032       Automatik      07/2022  160 kW (218 PS)   1.00   \n",
       "11040       Automatik      02/2022  180 kW (245 PS)   1.00   \n",
       "11070       Automatik      06/2021  180 kW (245 PS)   1.00   \n",
       "\n",
       "                          body car_condition           consumption  \\\n",
       "10393                Limousine     Gebraucht  5,1 l/100 km (komb.)   \n",
       "11026                Limousine   Jahreswagen  1,4 l/100 km (komb.)   \n",
       "11032                    Kombi   Jahreswagen  1,7 l/100 km (komb.)   \n",
       "11040  SUV/Geländewagen/Pickup   Jahreswagen  1,5 l/100 km (komb.)   \n",
       "11070  SUV/Geländewagen/Pickup     Gebraucht  1,5 l/100 km (komb.)   \n",
       "\n",
       "               emission    color        car_id displacement drive_type  \\\n",
       "10393  121 g/km (komb.)   Orange       ATS9040    1.197 cm³      Front   \n",
       "11026   31 g/km (komb.)     Blau  663018437048    1.395 cm³        NaN   \n",
       "11032   38 g/km (komb.)     Grau         22816    1.395 cm³        NaN   \n",
       "11040  153 g/km (komb.)     Blau         23032    1.395 cm³        NaN   \n",
       "11070  158 g/km (komb.)  Schwarz         23028    1.395 cm³        NaN   \n",
       "\n",
       "                                                    link  \n",
       "10393  https://www.autoscout24.de/angebote/audi-a1-sp...  \n",
       "11026  https://www.autoscout24.de/angebote/audi-a3-sp...  \n",
       "11032  https://www.autoscout24.de/angebote/volkswagen...  \n",
       "11040  https://www.autoscout24.de/angebote/volkswagen...  \n",
       "11070  https://www.autoscout24.de/angebote/volkswagen...  "
      ]
     },
     "execution_count": 5,
     "metadata": {},
     "output_type": "execute_result"
    }
   ],
   "source": [
    "df[df.duplicated()]"
   ]
  },
  {
   "cell_type": "code",
   "execution_count": 6,
   "metadata": {
    "tags": []
   },
   "outputs": [
    {
     "name": "stdout",
     "output_type": "stream",
     "text": [
      "<class 'pandas.core.frame.DataFrame'>\n",
      "RangeIndex: 11109 entries, 0 to 11108\n",
      "Data columns (total 18 columns):\n",
      " #   Column         Non-Null Count  Dtype  \n",
      "---  ------         --------------  -----  \n",
      " 0   make           11109 non-null  object \n",
      " 1   model          11109 non-null  object \n",
      " 2   price          11109 non-null  object \n",
      " 3   fuel           11109 non-null  object \n",
      " 4   mileage        11109 non-null  object \n",
      " 5   gear           11038 non-null  object \n",
      " 6   registration   11109 non-null  object \n",
      " 7   hp             11109 non-null  object \n",
      " 8   owner          9579 non-null   float64\n",
      " 9   body           11109 non-null  object \n",
      " 10  car_condition  11109 non-null  object \n",
      " 11  consumption    9745 non-null   object \n",
      " 12  emission       9444 non-null   object \n",
      " 13  color          11000 non-null  object \n",
      " 14  car_id         7281 non-null   object \n",
      " 15  displacement   10807 non-null  object \n",
      " 16  drive_type     7287 non-null   object \n",
      " 17  link           11109 non-null  object \n",
      "dtypes: float64(1), object(17)\n",
      "memory usage: 1.5+ MB\n"
     ]
    }
   ],
   "source": [
    "df.info()"
   ]
  },
  {
   "cell_type": "code",
   "execution_count": 7,
   "metadata": {
    "tags": []
   },
   "outputs": [
    {
     "name": "stdout",
     "output_type": "stream",
     "text": [
      "make - 5\n",
      "model - 16\n",
      "price - 4095\n",
      "fuel - 7\n",
      "mileage - 5881\n",
      "gear - 4\n",
      "registration - 197\n",
      "hp - 73\n",
      "owner - 7\n",
      "body - 8\n",
      "car_condition - 5\n",
      "consumption - 99\n",
      "emission - 156\n",
      "color - 14\n",
      "car_id - 6708\n",
      "displacement - 54\n",
      "drive_type - 3\n",
      "link - 8749\n"
     ]
    }
   ],
   "source": [
    "#Getting unique values counts for each column\n",
    "for col in df.columns:\n",
    "    print(f\"{col} - {df[col].nunique()}\")"
   ]
  },
  {
   "cell_type": "code",
   "execution_count": 8,
   "metadata": {
    "tags": []
   },
   "outputs": [
    {
     "data": {
      "text/plain": [
       "make                0\n",
       "model               0\n",
       "price               0\n",
       "fuel                0\n",
       "mileage             0\n",
       "gear               71\n",
       "registration        0\n",
       "hp                  0\n",
       "owner            1530\n",
       "body                0\n",
       "car_condition       0\n",
       "consumption      1364\n",
       "emission         1665\n",
       "color             109\n",
       "car_id           3828\n",
       "displacement      302\n",
       "drive_type       3822\n",
       "link                0\n",
       "dtype: int64"
      ]
     },
     "execution_count": 8,
     "metadata": {},
     "output_type": "execute_result"
    }
   ],
   "source": [
    "# checking Null values in columns\n",
    "df.isna().sum()"
   ]
  },
  {
   "cell_type": "code",
   "execution_count": 9,
   "metadata": {},
   "outputs": [],
   "source": [
    "df_links = df.copy()"
   ]
  },
  {
   "cell_type": "markdown",
   "metadata": {
    "tags": []
   },
   "source": [
    "# Data Cleaning"
   ]
  },
  {
   "cell_type": "markdown",
   "metadata": {
    "tags": []
   },
   "source": [
    "## scrape anew and fill missing values in columns"
   ]
  },
  {
   "cell_type": "code",
   "execution_count": 10,
   "metadata": {},
   "outputs": [],
   "source": [
    "#df_scrape = df[df['drive_type'].isna()]\n",
    "#df_scrape.shape\n",
    "#df_scrape['link'].to_csv('../data/links_drive_type.csv', index=False)"
   ]
  },
  {
   "cell_type": "code",
   "execution_count": 11,
   "metadata": {},
   "outputs": [],
   "source": [
    "# Read in newly scraped data for gear values\n",
    "#df_1 = pd.read_csv('../data/scraped_anew.csv')\n",
    "#print('Shape:', df_1.shape)"
   ]
  },
  {
   "cell_type": "code",
   "execution_count": 12,
   "metadata": {},
   "outputs": [],
   "source": [
    "#df.update(df_1, overwrite=False)"
   ]
  },
  {
   "cell_type": "code",
   "execution_count": 13,
   "metadata": {},
   "outputs": [],
   "source": [
    "#df.isna().sum()"
   ]
  },
  {
   "cell_type": "code",
   "execution_count": 14,
   "metadata": {},
   "outputs": [],
   "source": [
    "#df.to_csv('../data/german_cars_scraping.csv', index=False)"
   ]
  },
  {
   "cell_type": "markdown",
   "metadata": {
    "tags": []
   },
   "source": [
    "## strip numerics from text "
   ]
  },
  {
   "cell_type": "code",
   "execution_count": 15,
   "metadata": {
    "tags": []
   },
   "outputs": [],
   "source": [
    "import unicodedata"
   ]
  },
  {
   "cell_type": "code",
   "execution_count": 16,
   "metadata": {},
   "outputs": [],
   "source": [
    "df['price'] = df['price'].str.replace(unicodedata.lookup('EURO SIGN'), '')\n",
    "df['price'] = df['price'].str.split(',').str[0]\n",
    "df['price'] = df['price'].str.replace('.', '')"
   ]
  },
  {
   "cell_type": "code",
   "execution_count": 17,
   "metadata": {
    "tags": []
   },
   "outputs": [],
   "source": [
    "for col in df[['mileage', 'emission', 'displacement', 'hp']]:\n",
    "    df[col] = df[col].str.split(' ').str[0]"
   ]
  },
  {
   "cell_type": "code",
   "execution_count": 18,
   "metadata": {
    "tags": []
   },
   "outputs": [],
   "source": [
    "df['mileage'] = df['mileage'].str.replace('.', '')\n",
    "df['consumption'] = df['consumption'].str.replace(',', '.')"
   ]
  },
  {
   "cell_type": "code",
   "execution_count": 19,
   "metadata": {},
   "outputs": [],
   "source": [
    "df['registration'] = df['registration'].str.split('/').str[1]\n",
    "df['consumption'] = df['consumption'].str.split('l').str[0]"
   ]
  },
  {
   "cell_type": "code",
   "execution_count": 20,
   "metadata": {},
   "outputs": [
    {
     "data": {
      "text/html": [
       "<div>\n",
       "<style scoped>\n",
       "    .dataframe tbody tr th:only-of-type {\n",
       "        vertical-align: middle;\n",
       "    }\n",
       "\n",
       "    .dataframe tbody tr th {\n",
       "        vertical-align: top;\n",
       "    }\n",
       "\n",
       "    .dataframe thead th {\n",
       "        text-align: right;\n",
       "    }\n",
       "</style>\n",
       "<table border=\"1\" class=\"dataframe\">\n",
       "  <thead>\n",
       "    <tr style=\"text-align: right;\">\n",
       "      <th></th>\n",
       "      <th>make</th>\n",
       "      <th>model</th>\n",
       "      <th>price</th>\n",
       "      <th>fuel</th>\n",
       "      <th>mileage</th>\n",
       "      <th>gear</th>\n",
       "      <th>registration</th>\n",
       "      <th>hp</th>\n",
       "      <th>owner</th>\n",
       "      <th>body</th>\n",
       "      <th>car_condition</th>\n",
       "      <th>consumption</th>\n",
       "      <th>emission</th>\n",
       "      <th>color</th>\n",
       "      <th>car_id</th>\n",
       "      <th>displacement</th>\n",
       "      <th>drive_type</th>\n",
       "      <th>link</th>\n",
       "    </tr>\n",
       "  </thead>\n",
       "  <tbody>\n",
       "    <tr>\n",
       "      <th>0</th>\n",
       "      <td>Volkswagen</td>\n",
       "      <td>Polo GTI</td>\n",
       "      <td>34690</td>\n",
       "      <td>Benzin</td>\n",
       "      <td>10</td>\n",
       "      <td>Automatik</td>\n",
       "      <td>2023</td>\n",
       "      <td>152</td>\n",
       "      <td>1.00</td>\n",
       "      <td>Limousine</td>\n",
       "      <td>Vorführfahrzeug</td>\n",
       "      <td>4.2</td>\n",
       "      <td>NaN</td>\n",
       "      <td>Grau</td>\n",
       "      <td>G3109</td>\n",
       "      <td>1.984</td>\n",
       "      <td>Front</td>\n",
       "      <td>https://www.autoscout24.de/angebote/volkswagen...</td>\n",
       "    </tr>\n",
       "    <tr>\n",
       "      <th>1</th>\n",
       "      <td>Volkswagen</td>\n",
       "      <td>Polo GTI</td>\n",
       "      <td>34950</td>\n",
       "      <td>Benzin</td>\n",
       "      <td>1500</td>\n",
       "      <td>Automatik</td>\n",
       "      <td>2023</td>\n",
       "      <td>152</td>\n",
       "      <td>1.00</td>\n",
       "      <td>Limousine</td>\n",
       "      <td>Vorführfahrzeug</td>\n",
       "      <td>6.6</td>\n",
       "      <td>0</td>\n",
       "      <td>Schwarz</td>\n",
       "      <td>363794549</td>\n",
       "      <td>1.998</td>\n",
       "      <td>Heck</td>\n",
       "      <td>https://www.autoscout24.de/angebote/volkswagen...</td>\n",
       "    </tr>\n",
       "    <tr>\n",
       "      <th>2</th>\n",
       "      <td>Volkswagen</td>\n",
       "      <td>Polo GTI</td>\n",
       "      <td>29990</td>\n",
       "      <td>Benzin</td>\n",
       "      <td>9000</td>\n",
       "      <td>Automatik</td>\n",
       "      <td>2023</td>\n",
       "      <td>152</td>\n",
       "      <td>1.00</td>\n",
       "      <td>Limousine</td>\n",
       "      <td>Vorführfahrzeug</td>\n",
       "      <td>7.4</td>\n",
       "      <td>0</td>\n",
       "      <td>Weiß</td>\n",
       "      <td>NU057791</td>\n",
       "      <td>1.984</td>\n",
       "      <td>Front</td>\n",
       "      <td>https://www.autoscout24.de/angebote/volkswagen...</td>\n",
       "    </tr>\n",
       "    <tr>\n",
       "      <th>3</th>\n",
       "      <td>Volkswagen</td>\n",
       "      <td>Polo GTI</td>\n",
       "      <td>33989</td>\n",
       "      <td>Benzin</td>\n",
       "      <td>3511</td>\n",
       "      <td>Automatik</td>\n",
       "      <td>2023</td>\n",
       "      <td>152</td>\n",
       "      <td>1.00</td>\n",
       "      <td>Limousine</td>\n",
       "      <td>Vorführfahrzeug</td>\n",
       "      <td>NaN</td>\n",
       "      <td>NaN</td>\n",
       "      <td>Schwarz</td>\n",
       "      <td>04197NPVFW</td>\n",
       "      <td>1.984</td>\n",
       "      <td>Front</td>\n",
       "      <td>https://www.autoscout24.de/angebote/volkswagen...</td>\n",
       "    </tr>\n",
       "    <tr>\n",
       "      <th>4</th>\n",
       "      <td>Volkswagen</td>\n",
       "      <td>Polo GTI</td>\n",
       "      <td>37980</td>\n",
       "      <td>Benzin</td>\n",
       "      <td>211</td>\n",
       "      <td>Automatik</td>\n",
       "      <td>2023</td>\n",
       "      <td>152</td>\n",
       "      <td>1.00</td>\n",
       "      <td>Kleinwagen</td>\n",
       "      <td>Vorführfahrzeug</td>\n",
       "      <td>5.7</td>\n",
       "      <td>NaN</td>\n",
       "      <td>Weiß</td>\n",
       "      <td>VFW028766</td>\n",
       "      <td>1.984</td>\n",
       "      <td>Front</td>\n",
       "      <td>https://www.autoscout24.de/angebote/volkswagen...</td>\n",
       "    </tr>\n",
       "    <tr>\n",
       "      <th>...</th>\n",
       "      <td>...</td>\n",
       "      <td>...</td>\n",
       "      <td>...</td>\n",
       "      <td>...</td>\n",
       "      <td>...</td>\n",
       "      <td>...</td>\n",
       "      <td>...</td>\n",
       "      <td>...</td>\n",
       "      <td>...</td>\n",
       "      <td>...</td>\n",
       "      <td>...</td>\n",
       "      <td>...</td>\n",
       "      <td>...</td>\n",
       "      <td>...</td>\n",
       "      <td>...</td>\n",
       "      <td>...</td>\n",
       "      <td>...</td>\n",
       "      <td>...</td>\n",
       "    </tr>\n",
       "    <tr>\n",
       "      <th>11104</th>\n",
       "      <td>BMW</td>\n",
       "      <td>X1</td>\n",
       "      <td>35994</td>\n",
       "      <td>Elektro/Benzin</td>\n",
       "      <td>32082</td>\n",
       "      <td>Automatik</td>\n",
       "      <td>2020</td>\n",
       "      <td>162</td>\n",
       "      <td>1.00</td>\n",
       "      <td>SUV/Geländewagen/Pickup</td>\n",
       "      <td>Gebraucht</td>\n",
       "      <td>1.9</td>\n",
       "      <td>43</td>\n",
       "      <td>Schwarz</td>\n",
       "      <td>130645</td>\n",
       "      <td>1.499</td>\n",
       "      <td>Allrad</td>\n",
       "      <td>https://www.autoscout24.de/angebote/bmw-x1-xdr...</td>\n",
       "    </tr>\n",
       "    <tr>\n",
       "      <th>11105</th>\n",
       "      <td>BMW</td>\n",
       "      <td>X1</td>\n",
       "      <td>38200</td>\n",
       "      <td>Elektro/Benzin</td>\n",
       "      <td>13000</td>\n",
       "      <td>Automatik</td>\n",
       "      <td>2020</td>\n",
       "      <td>92</td>\n",
       "      <td>1.00</td>\n",
       "      <td>SUV/Geländewagen/Pickup</td>\n",
       "      <td>Gebraucht</td>\n",
       "      <td>1.9</td>\n",
       "      <td>NaN</td>\n",
       "      <td>Blau</td>\n",
       "      <td>NaN</td>\n",
       "      <td>1.499</td>\n",
       "      <td>Allrad</td>\n",
       "      <td>https://www.autoscout24.de/angebote/bmw-x1-x1-...</td>\n",
       "    </tr>\n",
       "    <tr>\n",
       "      <th>11106</th>\n",
       "      <td>Volkswagen</td>\n",
       "      <td>Passat Variant</td>\n",
       "      <td>35185</td>\n",
       "      <td>Elektro/Benzin</td>\n",
       "      <td>75226</td>\n",
       "      <td>Automatik</td>\n",
       "      <td>2019</td>\n",
       "      <td>115</td>\n",
       "      <td>1.00</td>\n",
       "      <td>Kombi</td>\n",
       "      <td>Gebraucht</td>\n",
       "      <td>1.7</td>\n",
       "      <td>38</td>\n",
       "      <td>Silber</td>\n",
       "      <td>30729</td>\n",
       "      <td>1.395</td>\n",
       "      <td>NaN</td>\n",
       "      <td>https://www.autoscout24.de/angebote/volkswagen...</td>\n",
       "    </tr>\n",
       "    <tr>\n",
       "      <th>11107</th>\n",
       "      <td>Audi</td>\n",
       "      <td>A3</td>\n",
       "      <td>24980</td>\n",
       "      <td>Elektro/Benzin</td>\n",
       "      <td>57509</td>\n",
       "      <td>Automatik</td>\n",
       "      <td>2018</td>\n",
       "      <td>150</td>\n",
       "      <td>1.00</td>\n",
       "      <td>Limousine</td>\n",
       "      <td>Gebraucht</td>\n",
       "      <td>1.8</td>\n",
       "      <td>40</td>\n",
       "      <td>Rot</td>\n",
       "      <td>36598</td>\n",
       "      <td>1.395</td>\n",
       "      <td>Front</td>\n",
       "      <td>https://www.autoscout24.de/angebote/audi-a3-sp...</td>\n",
       "    </tr>\n",
       "    <tr>\n",
       "      <th>11108</th>\n",
       "      <td>Audi</td>\n",
       "      <td>A3</td>\n",
       "      <td>24480</td>\n",
       "      <td>Elektro/Benzin</td>\n",
       "      <td>89676</td>\n",
       "      <td>Automatik</td>\n",
       "      <td>2018</td>\n",
       "      <td>150</td>\n",
       "      <td>1.00</td>\n",
       "      <td>Limousine</td>\n",
       "      <td>Gebraucht</td>\n",
       "      <td>1.8</td>\n",
       "      <td>40</td>\n",
       "      <td>Weiß</td>\n",
       "      <td>36503</td>\n",
       "      <td>1.395</td>\n",
       "      <td>Front</td>\n",
       "      <td>https://www.autoscout24.de/angebote/audi-a3-sp...</td>\n",
       "    </tr>\n",
       "  </tbody>\n",
       "</table>\n",
       "<p>11109 rows × 18 columns</p>\n",
       "</div>"
      ],
      "text/plain": [
       "              make           model   price             fuel mileage  \\\n",
       "0      Volkswagen         Polo GTI   34690           Benzin      10   \n",
       "1      Volkswagen         Polo GTI   34950           Benzin    1500   \n",
       "2      Volkswagen         Polo GTI   29990           Benzin    9000   \n",
       "3      Volkswagen         Polo GTI   33989           Benzin    3511   \n",
       "4      Volkswagen         Polo GTI   37980           Benzin     211   \n",
       "...            ...             ...     ...              ...     ...   \n",
       "11104         BMW               X1   35994   Elektro/Benzin   32082   \n",
       "11105         BMW               X1   38200   Elektro/Benzin   13000   \n",
       "11106  Volkswagen   Passat Variant   35185   Elektro/Benzin   75226   \n",
       "11107        Audi               A3   24980   Elektro/Benzin   57509   \n",
       "11108        Audi               A3   24480   Elektro/Benzin   89676   \n",
       "\n",
       "            gear registration   hp  owner                     body  \\\n",
       "0      Automatik         2023  152   1.00                Limousine   \n",
       "1      Automatik         2023  152   1.00                Limousine   \n",
       "2      Automatik         2023  152   1.00                Limousine   \n",
       "3      Automatik         2023  152   1.00                Limousine   \n",
       "4      Automatik         2023  152   1.00               Kleinwagen   \n",
       "...          ...          ...  ...    ...                      ...   \n",
       "11104  Automatik         2020  162   1.00  SUV/Geländewagen/Pickup   \n",
       "11105  Automatik         2020   92   1.00  SUV/Geländewagen/Pickup   \n",
       "11106  Automatik         2019  115   1.00                    Kombi   \n",
       "11107  Automatik         2018  150   1.00                Limousine   \n",
       "11108  Automatik         2018  150   1.00                Limousine   \n",
       "\n",
       "         car_condition consumption emission    color      car_id displacement  \\\n",
       "0      Vorführfahrzeug        4.2       NaN     Grau       G3109        1.984   \n",
       "1      Vorführfahrzeug        6.6         0  Schwarz   363794549        1.998   \n",
       "2      Vorführfahrzeug        7.4         0     Weiß    NU057791        1.984   \n",
       "3      Vorführfahrzeug         NaN      NaN  Schwarz  04197NPVFW        1.984   \n",
       "4      Vorführfahrzeug        5.7       NaN     Weiß   VFW028766        1.984   \n",
       "...                ...         ...      ...      ...         ...          ...   \n",
       "11104        Gebraucht        1.9        43  Schwarz      130645        1.499   \n",
       "11105        Gebraucht        1.9       NaN     Blau         NaN        1.499   \n",
       "11106        Gebraucht        1.7        38   Silber       30729        1.395   \n",
       "11107        Gebraucht        1.8        40      Rot       36598        1.395   \n",
       "11108        Gebraucht        1.8        40     Weiß       36503        1.395   \n",
       "\n",
       "      drive_type                                               link  \n",
       "0          Front  https://www.autoscout24.de/angebote/volkswagen...  \n",
       "1           Heck  https://www.autoscout24.de/angebote/volkswagen...  \n",
       "2          Front  https://www.autoscout24.de/angebote/volkswagen...  \n",
       "3          Front  https://www.autoscout24.de/angebote/volkswagen...  \n",
       "4          Front  https://www.autoscout24.de/angebote/volkswagen...  \n",
       "...          ...                                                ...  \n",
       "11104     Allrad  https://www.autoscout24.de/angebote/bmw-x1-xdr...  \n",
       "11105     Allrad  https://www.autoscout24.de/angebote/bmw-x1-x1-...  \n",
       "11106        NaN  https://www.autoscout24.de/angebote/volkswagen...  \n",
       "11107      Front  https://www.autoscout24.de/angebote/audi-a3-sp...  \n",
       "11108      Front  https://www.autoscout24.de/angebote/audi-a3-sp...  \n",
       "\n",
       "[11109 rows x 18 columns]"
      ]
     },
     "execution_count": 20,
     "metadata": {},
     "output_type": "execute_result"
    }
   ],
   "source": [
    "df"
   ]
  },
  {
   "cell_type": "markdown",
   "metadata": {
    "jp-MarkdownHeadingCollapsed": true,
    "tags": []
   },
   "source": [
    "## strip white spaces"
   ]
  },
  {
   "cell_type": "code",
   "execution_count": 21,
   "metadata": {},
   "outputs": [],
   "source": [
    "for col in df.columns:\n",
    "    if df[col].dtypes == object:\n",
    "        df[col] = df[col].str.strip()"
   ]
  },
  {
   "cell_type": "markdown",
   "metadata": {
    "tags": []
   },
   "source": [
    "## missing values"
   ]
  },
  {
   "cell_type": "code",
   "execution_count": 22,
   "metadata": {
    "tags": []
   },
   "outputs": [
    {
     "data": {
      "text/plain": [
       "make                0\n",
       "model               0\n",
       "price               0\n",
       "fuel                0\n",
       "mileage             0\n",
       "gear               71\n",
       "registration        0\n",
       "hp                  0\n",
       "owner            1530\n",
       "body                0\n",
       "car_condition       0\n",
       "consumption      1364\n",
       "emission         1665\n",
       "color             109\n",
       "car_id           3828\n",
       "displacement      302\n",
       "drive_type       3822\n",
       "link                0\n",
       "dtype: int64"
      ]
     },
     "execution_count": 22,
     "metadata": {},
     "output_type": "execute_result"
    }
   ],
   "source": [
    "df.isna().sum()"
   ]
  },
  {
   "cell_type": "markdown",
   "metadata": {
    "tags": []
   },
   "source": [
    "### gear"
   ]
  },
  {
   "cell_type": "code",
   "execution_count": 23,
   "metadata": {},
   "outputs": [
    {
     "name": "stdout",
     "output_type": "stream",
     "text": [
      "Null values: 71\n",
      "---------------------------------------------\n",
      "Unique values:\n"
     ]
    },
    {
     "data": {
      "text/plain": [
       "Automatik         7896\n",
       "Schaltgetriebe    3097\n",
       "-                   40\n",
       "Halbautomatik        5\n",
       "Name: gear, dtype: int64"
      ]
     },
     "execution_count": 23,
     "metadata": {},
     "output_type": "execute_result"
    }
   ],
   "source": [
    "# show nan values in col\n",
    "print('Null values:', df['gear'].isna().sum())\n",
    "print('---'*15)\n",
    "\n",
    "# check unique values\n",
    "print('Unique values:')\n",
    "df['gear'].value_counts()"
   ]
  },
  {
   "cell_type": "code",
   "execution_count": 24,
   "metadata": {},
   "outputs": [],
   "source": [
    "df['gear'] = df['gear'].replace('-', np.nan)"
   ]
  },
  {
   "cell_type": "code",
   "execution_count": 25,
   "metadata": {},
   "outputs": [
    {
     "data": {
      "text/html": [
       "<div>\n",
       "<style scoped>\n",
       "    .dataframe tbody tr th:only-of-type {\n",
       "        vertical-align: middle;\n",
       "    }\n",
       "\n",
       "    .dataframe tbody tr th {\n",
       "        vertical-align: top;\n",
       "    }\n",
       "\n",
       "    .dataframe thead th {\n",
       "        text-align: right;\n",
       "    }\n",
       "</style>\n",
       "<table border=\"1\" class=\"dataframe\">\n",
       "  <thead>\n",
       "    <tr style=\"text-align: right;\">\n",
       "      <th></th>\n",
       "      <th>make</th>\n",
       "      <th>model</th>\n",
       "      <th>price</th>\n",
       "      <th>mileage</th>\n",
       "      <th>gear</th>\n",
       "      <th>registration</th>\n",
       "      <th>hp</th>\n",
       "      <th>owner</th>\n",
       "      <th>body</th>\n",
       "      <th>car_condition</th>\n",
       "      <th>consumption</th>\n",
       "      <th>emission</th>\n",
       "      <th>color</th>\n",
       "      <th>car_id</th>\n",
       "      <th>displacement</th>\n",
       "      <th>drive_type</th>\n",
       "      <th>link</th>\n",
       "    </tr>\n",
       "    <tr>\n",
       "      <th>fuel</th>\n",
       "      <th></th>\n",
       "      <th></th>\n",
       "      <th></th>\n",
       "      <th></th>\n",
       "      <th></th>\n",
       "      <th></th>\n",
       "      <th></th>\n",
       "      <th></th>\n",
       "      <th></th>\n",
       "      <th></th>\n",
       "      <th></th>\n",
       "      <th></th>\n",
       "      <th></th>\n",
       "      <th></th>\n",
       "      <th></th>\n",
       "      <th></th>\n",
       "      <th></th>\n",
       "    </tr>\n",
       "  </thead>\n",
       "  <tbody>\n",
       "    <tr>\n",
       "      <th>Benzin</th>\n",
       "      <td>16</td>\n",
       "      <td>16</td>\n",
       "      <td>16</td>\n",
       "      <td>16</td>\n",
       "      <td>0</td>\n",
       "      <td>16</td>\n",
       "      <td>16</td>\n",
       "      <td>13</td>\n",
       "      <td>16</td>\n",
       "      <td>16</td>\n",
       "      <td>12</td>\n",
       "      <td>13</td>\n",
       "      <td>16</td>\n",
       "      <td>1</td>\n",
       "      <td>13</td>\n",
       "      <td>8</td>\n",
       "      <td>16</td>\n",
       "    </tr>\n",
       "    <tr>\n",
       "      <th>Diesel</th>\n",
       "      <td>24</td>\n",
       "      <td>24</td>\n",
       "      <td>24</td>\n",
       "      <td>24</td>\n",
       "      <td>0</td>\n",
       "      <td>24</td>\n",
       "      <td>24</td>\n",
       "      <td>8</td>\n",
       "      <td>24</td>\n",
       "      <td>24</td>\n",
       "      <td>12</td>\n",
       "      <td>9</td>\n",
       "      <td>24</td>\n",
       "      <td>0</td>\n",
       "      <td>10</td>\n",
       "      <td>10</td>\n",
       "      <td>24</td>\n",
       "    </tr>\n",
       "    <tr>\n",
       "      <th>Elektro</th>\n",
       "      <td>34</td>\n",
       "      <td>34</td>\n",
       "      <td>34</td>\n",
       "      <td>34</td>\n",
       "      <td>0</td>\n",
       "      <td>34</td>\n",
       "      <td>34</td>\n",
       "      <td>33</td>\n",
       "      <td>34</td>\n",
       "      <td>34</td>\n",
       "      <td>9</td>\n",
       "      <td>29</td>\n",
       "      <td>34</td>\n",
       "      <td>30</td>\n",
       "      <td>11</td>\n",
       "      <td>12</td>\n",
       "      <td>34</td>\n",
       "    </tr>\n",
       "    <tr>\n",
       "      <th>Elektro/Benzin</th>\n",
       "      <td>37</td>\n",
       "      <td>37</td>\n",
       "      <td>37</td>\n",
       "      <td>37</td>\n",
       "      <td>0</td>\n",
       "      <td>37</td>\n",
       "      <td>37</td>\n",
       "      <td>33</td>\n",
       "      <td>37</td>\n",
       "      <td>37</td>\n",
       "      <td>26</td>\n",
       "      <td>28</td>\n",
       "      <td>36</td>\n",
       "      <td>33</td>\n",
       "      <td>36</td>\n",
       "      <td>30</td>\n",
       "      <td>37</td>\n",
       "    </tr>\n",
       "  </tbody>\n",
       "</table>\n",
       "</div>"
      ],
      "text/plain": [
       "                make  model  price  mileage  gear  registration  hp  owner  \\\n",
       "fuel                                                                         \n",
       "Benzin            16     16     16       16     0            16  16     13   \n",
       "Diesel            24     24     24       24     0            24  24      8   \n",
       "Elektro           34     34     34       34     0            34  34     33   \n",
       "Elektro/Benzin    37     37     37       37     0            37  37     33   \n",
       "\n",
       "                body  car_condition  consumption  emission  color  car_id  \\\n",
       "fuel                                                                        \n",
       "Benzin            16             16           12        13     16       1   \n",
       "Diesel            24             24           12         9     24       0   \n",
       "Elektro           34             34            9        29     34      30   \n",
       "Elektro/Benzin    37             37           26        28     36      33   \n",
       "\n",
       "                displacement  drive_type  link  \n",
       "fuel                                            \n",
       "Benzin                    13           8    16  \n",
       "Diesel                    10          10    24  \n",
       "Elektro                   11          12    34  \n",
       "Elektro/Benzin            36          30    37  "
      ]
     },
     "execution_count": 25,
     "metadata": {},
     "output_type": "execute_result"
    }
   ],
   "source": [
    "df[df['gear'].isna()].groupby(['fuel']).count()"
   ]
  },
  {
   "cell_type": "code",
   "execution_count": 26,
   "metadata": {},
   "outputs": [],
   "source": [
    "# replace Nan values by mode of a group of car fuel-type\n",
    "df['gear']=df.groupby('fuel').gear.transform(lambda x: x.fillna(x.mode()[0]))"
   ]
  },
  {
   "cell_type": "code",
   "execution_count": 27,
   "metadata": {},
   "outputs": [
    {
     "data": {
      "text/plain": [
       "Automatik         8007\n",
       "Schaltgetriebe    3097\n",
       "Halbautomatik        5\n",
       "Name: gear, dtype: int64"
      ]
     },
     "execution_count": 27,
     "metadata": {},
     "output_type": "execute_result"
    }
   ],
   "source": [
    "df['gear'].value_counts()"
   ]
  },
  {
   "cell_type": "code",
   "execution_count": 28,
   "metadata": {},
   "outputs": [
    {
     "data": {
      "text/plain": [
       "make                0\n",
       "model               0\n",
       "price               0\n",
       "fuel                0\n",
       "mileage             0\n",
       "gear                0\n",
       "registration        0\n",
       "hp                  0\n",
       "owner            1530\n",
       "body                0\n",
       "car_condition       0\n",
       "consumption      1364\n",
       "emission         1665\n",
       "color             109\n",
       "car_id           3828\n",
       "displacement      302\n",
       "drive_type       3822\n",
       "link                0\n",
       "dtype: int64"
      ]
     },
     "execution_count": 28,
     "metadata": {},
     "output_type": "execute_result"
    }
   ],
   "source": [
    "df.isna().sum()"
   ]
  },
  {
   "cell_type": "code",
   "execution_count": 29,
   "metadata": {},
   "outputs": [],
   "source": [
    "#df['gear'].fillna(df['gear'].mode()[0], inplace=True)"
   ]
  },
  {
   "cell_type": "markdown",
   "metadata": {
    "tags": []
   },
   "source": [
    "### color"
   ]
  },
  {
   "cell_type": "code",
   "execution_count": 30,
   "metadata": {},
   "outputs": [
    {
     "data": {
      "text/plain": [
       "array(['Grau', 'Schwarz', 'Weiß', 'Rot', 'Blau', 'Silber', 'Gelb', nan,\n",
       "       'Grün', 'Braun', 'Gold', 'Orange', 'Beige', 'Bronze', 'Violett'],\n",
       "      dtype=object)"
      ]
     },
     "execution_count": 30,
     "metadata": {},
     "output_type": "execute_result"
    }
   ],
   "source": [
    "df['color'].unique()"
   ]
  },
  {
   "cell_type": "code",
   "execution_count": 31,
   "metadata": {},
   "outputs": [
    {
     "name": "stdout",
     "output_type": "stream",
     "text": [
      "0                  https://www.autoscout24.de/angebote/volkswagen-polo-gti-2-0-tsi-dsg-iq-light-acc-navi-pano-benzin-grau-69e912c7-81bf-49fb-840b-c6e71f6560f0\n",
      "1          https://www.autoscout24.de/angebote/volkswagen-polo-gti-gti-2-0-l-tsi-dsg-panoramdach-beats-sou-benzin-schwarz-d4086c5e-9b90-4b33-9c8e-7497e26c6c52\n",
      "2               https://www.autoscout24.de/angebote/volkswagen-polo-gti-2-0-tsi-dsg-iq-light-rueckfahrkamera-benzin-weiss-c20e5834-2267-40a2-9544-d5a346f1547f\n",
      "3        https://www.autoscout24.de/angebote/volkswagen-polo-gti-2-0-tsi-dsg-iq-light-kamera-sport-select-klima-le-benzin-schwarz-f512787b-d2c8-4b69-9b62-6...\n",
      "4               https://www.autoscout24.de/angebote/volkswagen-polo-gti-2-0-tsi-shz-matrix-led-navi-acc-pano-benzin-weiss-500d77c8-0d1d-4004-aab9-9cfd5c609c53\n",
      "                                                                                 ...                                                                          \n",
      "11104      https://www.autoscout24.de/angebote/bmw-x1-xdr-25e-a-m-sport-navi-led-rfk-shz-pdc-18-lm-elektro-benzin-schwarz-f9fdc871-1096-4e6d-853a-d1cda6f1fc13\n",
      "11105                                   https://www.autoscout24.de/angebote/bmw-x1-x1-xdrive25e-xline-elektro-benzin-blau-ae1e37fc-c85c-4786-a89a-6bd56af79b3b\n",
      "11106    https://www.autoscout24.de/angebote/volkswagen-passat-variant-gte-dsg-navi-pano-standhzg-areaview-elektro-benzin-silber-826e67e5-02ab-4e25-96c0-b4...\n",
      "11107           https://www.autoscout24.de/angebote/audi-a3-sportback-e-tron-sport-s-tron-nav-ahk-virt-elektro-benzin-rot-76b2fab0-4e92-403a-a34f-4fa089c8bbd7\n",
      "11108         https://www.autoscout24.de/angebote/audi-a3-sportback-e-tron-sport-s-line-nav-matrix-a-elektro-benzin-weiss-c2ae7a47-1a62-4f7c-8c42-c73ab17ba087\n",
      "Name: link, Length: 11109, dtype: object\n"
     ]
    }
   ],
   "source": [
    "#printing whole link with max_width\n",
    "\n",
    "with pd.option_context('display.max_colwidth', 150):\n",
    "   print(df.iloc[:,17]) \n",
    "#df.iloc[5:,19]"
   ]
  },
  {
   "cell_type": "code",
   "execution_count": 32,
   "metadata": {},
   "outputs": [
    {
     "name": "stdout",
     "output_type": "stream",
     "text": [
      "DF color has 109 rows and 18 colomns\n",
      "========================================\n"
     ]
    },
    {
     "data": {
      "text/html": [
       "<div>\n",
       "<style scoped>\n",
       "    .dataframe tbody tr th:only-of-type {\n",
       "        vertical-align: middle;\n",
       "    }\n",
       "\n",
       "    .dataframe tbody tr th {\n",
       "        vertical-align: top;\n",
       "    }\n",
       "\n",
       "    .dataframe thead th {\n",
       "        text-align: right;\n",
       "    }\n",
       "</style>\n",
       "<table border=\"1\" class=\"dataframe\">\n",
       "  <thead>\n",
       "    <tr style=\"text-align: right;\">\n",
       "      <th></th>\n",
       "      <th>make</th>\n",
       "      <th>model</th>\n",
       "      <th>price</th>\n",
       "      <th>fuel</th>\n",
       "      <th>mileage</th>\n",
       "      <th>gear</th>\n",
       "      <th>registration</th>\n",
       "      <th>hp</th>\n",
       "      <th>owner</th>\n",
       "      <th>body</th>\n",
       "      <th>car_condition</th>\n",
       "      <th>consumption</th>\n",
       "      <th>emission</th>\n",
       "      <th>color</th>\n",
       "      <th>car_id</th>\n",
       "      <th>displacement</th>\n",
       "      <th>drive_type</th>\n",
       "      <th>link</th>\n",
       "    </tr>\n",
       "  </thead>\n",
       "  <tbody>\n",
       "    <tr>\n",
       "      <th>99</th>\n",
       "      <td>BMW</td>\n",
       "      <td>120</td>\n",
       "      <td>52690</td>\n",
       "      <td>Diesel</td>\n",
       "      <td>1503</td>\n",
       "      <td>Automatik</td>\n",
       "      <td>2023</td>\n",
       "      <td>140</td>\n",
       "      <td>1.00</td>\n",
       "      <td>Limousine</td>\n",
       "      <td>Gebraucht</td>\n",
       "      <td>4.8</td>\n",
       "      <td>127</td>\n",
       "      <td>NaN</td>\n",
       "      <td>7K94547</td>\n",
       "      <td>1.995</td>\n",
       "      <td>Allrad</td>\n",
       "      <td>https://www.autoscout24.de/angebote/mercedes-b...</td>\n",
       "    </tr>\n",
       "    <tr>\n",
       "      <th>118</th>\n",
       "      <td>BMW</td>\n",
       "      <td>120</td>\n",
       "      <td>44390</td>\n",
       "      <td>Diesel</td>\n",
       "      <td>2896</td>\n",
       "      <td>Automatik</td>\n",
       "      <td>2023</td>\n",
       "      <td>140</td>\n",
       "      <td>1.00</td>\n",
       "      <td>Limousine</td>\n",
       "      <td>Vorführfahrzeug</td>\n",
       "      <td>1.4</td>\n",
       "      <td>25</td>\n",
       "      <td>NaN</td>\n",
       "      <td>214261</td>\n",
       "      <td>1.995</td>\n",
       "      <td>Allrad</td>\n",
       "      <td>https://www.autoscout24.de/angebote/audi-q3-ad...</td>\n",
       "    </tr>\n",
       "    <tr>\n",
       "      <th>223</th>\n",
       "      <td>BMW</td>\n",
       "      <td>320</td>\n",
       "      <td>49880</td>\n",
       "      <td>Benzin</td>\n",
       "      <td>6000</td>\n",
       "      <td>Automatik</td>\n",
       "      <td>2023</td>\n",
       "      <td>135</td>\n",
       "      <td>1.00</td>\n",
       "      <td>Kombi</td>\n",
       "      <td>Vorführfahrzeug</td>\n",
       "      <td>2</td>\n",
       "      <td>0</td>\n",
       "      <td>NaN</td>\n",
       "      <td>020804</td>\n",
       "      <td>1.998</td>\n",
       "      <td>Heck</td>\n",
       "      <td>https://www.autoscout24.de/angebote/bmw-i3-120...</td>\n",
       "    </tr>\n",
       "    <tr>\n",
       "      <th>301</th>\n",
       "      <td>BMW</td>\n",
       "      <td>X1</td>\n",
       "      <td>59740</td>\n",
       "      <td>Benzin</td>\n",
       "      <td>1</td>\n",
       "      <td>Automatik</td>\n",
       "      <td>2023</td>\n",
       "      <td>160</td>\n",
       "      <td>1.00</td>\n",
       "      <td>SUV/Geländewagen/Pickup</td>\n",
       "      <td>Vorführfahrzeug</td>\n",
       "      <td>4.9</td>\n",
       "      <td>0</td>\n",
       "      <td>NaN</td>\n",
       "      <td>2923538</td>\n",
       "      <td>1.998</td>\n",
       "      <td>Allrad</td>\n",
       "      <td>https://www.autoscout24.de/angebote/audi-a1-ad...</td>\n",
       "    </tr>\n",
       "    <tr>\n",
       "      <th>303</th>\n",
       "      <td>BMW</td>\n",
       "      <td>X1</td>\n",
       "      <td>60499</td>\n",
       "      <td>Benzin</td>\n",
       "      <td>3</td>\n",
       "      <td>Automatik</td>\n",
       "      <td>2023</td>\n",
       "      <td>160</td>\n",
       "      <td>1.00</td>\n",
       "      <td>SUV/Geländewagen/Pickup</td>\n",
       "      <td>Vorführfahrzeug</td>\n",
       "      <td>6.8</td>\n",
       "      <td>0</td>\n",
       "      <td>NaN</td>\n",
       "      <td>214305</td>\n",
       "      <td>1.998</td>\n",
       "      <td>Allrad</td>\n",
       "      <td>https://www.autoscout24.de/angebote/audi-a1-sp...</td>\n",
       "    </tr>\n",
       "  </tbody>\n",
       "</table>\n",
       "</div>"
      ],
      "text/plain": [
       "    make model  price    fuel mileage       gear registration   hp  owner  \\\n",
       "99   BMW   120  52690  Diesel    1503  Automatik         2023  140   1.00   \n",
       "118  BMW   120  44390  Diesel    2896  Automatik         2023  140   1.00   \n",
       "223  BMW   320  49880  Benzin    6000  Automatik         2023  135   1.00   \n",
       "301  BMW    X1  59740  Benzin       1  Automatik         2023  160   1.00   \n",
       "303  BMW    X1  60499  Benzin       3  Automatik         2023  160   1.00   \n",
       "\n",
       "                        body    car_condition consumption emission color  \\\n",
       "99                 Limousine        Gebraucht         4.8      127   NaN   \n",
       "118                Limousine  Vorführfahrzeug         1.4       25   NaN   \n",
       "223                    Kombi  Vorführfahrzeug           2        0   NaN   \n",
       "301  SUV/Geländewagen/Pickup  Vorführfahrzeug         4.9        0   NaN   \n",
       "303  SUV/Geländewagen/Pickup  Vorführfahrzeug         6.8        0   NaN   \n",
       "\n",
       "      car_id displacement drive_type  \\\n",
       "99   7K94547        1.995     Allrad   \n",
       "118   214261        1.995     Allrad   \n",
       "223   020804        1.998       Heck   \n",
       "301  2923538        1.998     Allrad   \n",
       "303   214305        1.998     Allrad   \n",
       "\n",
       "                                                  link  \n",
       "99   https://www.autoscout24.de/angebote/mercedes-b...  \n",
       "118  https://www.autoscout24.de/angebote/audi-q3-ad...  \n",
       "223  https://www.autoscout24.de/angebote/bmw-i3-120...  \n",
       "301  https://www.autoscout24.de/angebote/audi-a1-ad...  \n",
       "303  https://www.autoscout24.de/angebote/audi-a1-sp...  "
      ]
     },
     "execution_count": 32,
     "metadata": {},
     "output_type": "execute_result"
    }
   ],
   "source": [
    "# new dataframe with missing color value only\n",
    "df_c = df.query('color.isnull()')\n",
    "print(f'DF color has {df_c.shape[0]} rows and {df_c.shape[1]} colomns')\n",
    "print('=='*20)\n",
    "df_c.head()"
   ]
  },
  {
   "cell_type": "code",
   "execution_count": 33,
   "metadata": {},
   "outputs": [],
   "source": [
    "#assigning a list with colours of cars\n",
    "\n",
    "farbe =['grau', 'schwarz', 'weiß', 'rot', 'blau', 'silber', 'gelb',\n",
    "       'grün','gruen' 'braun', 'gold', 'orange', 'beige', 'bronze', 'violett']"
   ]
  },
  {
   "cell_type": "code",
   "execution_count": 34,
   "metadata": {},
   "outputs": [
    {
     "name": "stdout",
     "output_type": "stream",
     "text": [
      "99       [mercedes, benz, gla, 200, amg, amg, night, cam, led, ahk, ambiente, easy, benzin, schwarz, 492391ad, 371e, 416d, b65d, 4bddd35cf55b]\n",
      "118                                  [audi, q3, advanced, 35, tfsi, s, tronic, fla, benzin, schwarz, 2ffc9aca, 0ab6, 4b05, 8050, e045406b6662]\n",
      "223                                                                [bmw, i3, 120, ah, elektro, blau, dfed8e81, 17e6, 4c5e, 9251, b70ce3654491]\n",
      "301                            [audi, a1, advanced, 30, tfsi, navi, gra, shz, klim, benzin, schwarz, 7282e0a9, c476, 4248, b418, 3b9058605e15]\n",
      "303              [audi, a1, sportback, 25, tfsi, advanced, virtual, pdc, radio, klim, benzin, gruen, 167ba974, b6bb, 4b24, 9ca9, 549116e36c15]\n",
      "                                                                         ...                                                                  \n",
      "10286                           [audi, a1, s, line, panorama, 192ps, 18zoll, rotorbose, mmi, benzin, 0e1c2d27, 3d1e, 40a9, b5c8, 29c2ed4716a3]\n",
      "10318                 [audi, a1, a1, 1, 4, tfsi, sportback, cylinder, on, demand, s, tronic, benzin, 319f1a8a, 0ecf, 4ca3, 8c8f, 0eb04bd0aee3]\n",
      "10388                                                                   [bmw, x1, sdrive18i, benzin, 58158322, 74d0, 4c61, 8722, c6f0bbd39015]\n",
      "10649                [volkswagen, tiguan, 2, 0, tdi, dsg, life, kamera, led, navi, facelift, diesel, 113cf953, 0e27, 4f63, a647, d2eaeb16a749]\n",
      "10759                                     [mercedes, benz, c, 200, c, 200, d, t, avantgarde, diesel, 20e0ce9f, 66d7, 49b5, 976f, bfe642f6fcc9]\n",
      "Name: new_link, Length: 109, dtype: object\n"
     ]
    }
   ],
   "source": [
    "#define a new column after splitting the link into list\n",
    "      \n",
    "df_c['new_link'] = df_c['link'].str.split('/').str[-1].str.split('-')\n",
    "with pd.option_context('display.max_colwidth', 150):\n",
    "   print(df_c.iloc[:,18]) "
   ]
  },
  {
   "cell_type": "code",
   "execution_count": 35,
   "metadata": {},
   "outputs": [
    {
     "name": "stdout",
     "output_type": "stream",
     "text": [
      "99       schwarz\n",
      "118      schwarz\n",
      "223         blau\n",
      "301      schwarz\n",
      "303        gruen\n",
      "          ...   \n",
      "10286     benzin\n",
      "10318     benzin\n",
      "10388     benzin\n",
      "10649     diesel\n",
      "10759     diesel\n",
      "Name: new_link, Length: 109, dtype: object\n"
     ]
    }
   ],
   "source": [
    "#car color ist at (-6) position from left,if available in link\n",
    "#extract cr color\n",
    "\n",
    "df_c['new_link'] = df_c['link'].str.split('/').str[-1].str.split('-').str[-6]\n",
    "with pd.option_context('display.max_colwidth', 150):\n",
    "   print(df_c.iloc[:,18])\n",
    "\n",
    "\n",
    "# if color isnot present in link then ,another vslue is extracted"
   ]
  },
  {
   "cell_type": "code",
   "execution_count": 36,
   "metadata": {},
   "outputs": [
    {
     "data": {
      "text/plain": [
       "False    87\n",
       "True     22\n",
       "Name: new_link, dtype: int64"
      ]
     },
     "execution_count": 36,
     "metadata": {},
     "output_type": "execute_result"
    }
   ],
   "source": [
    "#compare volors from Farbe list is present in datagrame_df_c\n",
    "\n",
    "df_c['new_link'].isin(farbe).value_counts()"
   ]
  },
  {
   "cell_type": "code",
   "execution_count": 37,
   "metadata": {},
   "outputs": [],
   "source": [
    "df_c['color'] = np.where(df_c['new_link'].isin(farbe), df_c['new_link'], 'missing')"
   ]
  },
  {
   "cell_type": "code",
   "execution_count": 38,
   "metadata": {},
   "outputs": [
    {
     "data": {
      "text/plain": [
       "missing    87\n",
       "schwarz    12\n",
       "grau        5\n",
       "silber      2\n",
       "blau        1\n",
       "rot         1\n",
       "beige       1\n",
       "Name: color, dtype: int64"
      ]
     },
     "execution_count": 38,
     "metadata": {},
     "output_type": "execute_result"
    }
   ],
   "source": [
    "df_c['color'].value_counts()"
   ]
  },
  {
   "cell_type": "code",
   "execution_count": 39,
   "metadata": {},
   "outputs": [],
   "source": [
    "df.update(df_c)"
   ]
  },
  {
   "cell_type": "code",
   "execution_count": 40,
   "metadata": {},
   "outputs": [
    {
     "data": {
      "text/plain": [
       "make                0\n",
       "model               0\n",
       "price               0\n",
       "fuel                0\n",
       "mileage             0\n",
       "gear                0\n",
       "registration        0\n",
       "hp                  0\n",
       "owner            1530\n",
       "body                0\n",
       "car_condition       0\n",
       "consumption      1364\n",
       "emission         1665\n",
       "color               0\n",
       "car_id           3828\n",
       "displacement      302\n",
       "drive_type       3822\n",
       "link                0\n",
       "dtype: int64"
      ]
     },
     "execution_count": 40,
     "metadata": {},
     "output_type": "execute_result"
    }
   ],
   "source": [
    "df.isna().sum()"
   ]
  },
  {
   "cell_type": "markdown",
   "metadata": {
    "tags": []
   },
   "source": [
    "### owner"
   ]
  },
  {
   "cell_type": "code",
   "execution_count": 41,
   "metadata": {},
   "outputs": [
    {
     "name": "stdout",
     "output_type": "stream",
     "text": [
      "Null values: 1530\n",
      "---------------------------------------------\n",
      "Unique values:\n"
     ]
    },
    {
     "data": {
      "text/plain": [
       "1.00    5858\n",
       "2.00    3099\n",
       "3.00     544\n",
       "4.00      60\n",
       "5.00      11\n",
       "6.00       5\n",
       "7.00       2\n",
       "Name: owner, dtype: int64"
      ]
     },
     "execution_count": 41,
     "metadata": {},
     "output_type": "execute_result"
    }
   ],
   "source": [
    "# show nan values in col\n",
    "print('Null values:', df['owner'].isna().sum())\n",
    "print('---'*15)\n",
    "\n",
    "# check unique values\n",
    "print('Unique values:')\n",
    "df['owner'].value_counts()"
   ]
  },
  {
   "cell_type": "code",
   "execution_count": 42,
   "metadata": {},
   "outputs": [],
   "source": [
    "# check cars in terms of first registration and number of owners, with more then 4 owners\n",
    "#df[df['owner']>4]"
   ]
  },
  {
   "cell_type": "code",
   "execution_count": 43,
   "metadata": {},
   "outputs": [],
   "source": [
    "# replace Nan values by mode of a group of car fuel-type\n",
    "df['owner']=df.groupby('registration').owner.transform(lambda x: x.fillna(x.mode()[0]))"
   ]
  },
  {
   "cell_type": "code",
   "execution_count": 44,
   "metadata": {},
   "outputs": [
    {
     "data": {
      "text/plain": [
       "1.00    6342\n",
       "2.00    4145\n",
       "3.00     544\n",
       "4.00      60\n",
       "5.00      11\n",
       "6.00       5\n",
       "7.00       2\n",
       "Name: owner, dtype: int64"
      ]
     },
     "execution_count": 44,
     "metadata": {},
     "output_type": "execute_result"
    }
   ],
   "source": [
    "df['owner'].value_counts()"
   ]
  },
  {
   "cell_type": "code",
   "execution_count": 45,
   "metadata": {
    "tags": []
   },
   "outputs": [
    {
     "data": {
      "text/plain": [
       "make                0\n",
       "model               0\n",
       "price               0\n",
       "fuel                0\n",
       "mileage             0\n",
       "gear                0\n",
       "registration        0\n",
       "hp                  0\n",
       "owner               0\n",
       "body                0\n",
       "car_condition       0\n",
       "consumption      1364\n",
       "emission         1665\n",
       "color               0\n",
       "car_id           3828\n",
       "displacement      302\n",
       "drive_type       3822\n",
       "link                0\n",
       "dtype: int64"
      ]
     },
     "execution_count": 45,
     "metadata": {},
     "output_type": "execute_result"
    }
   ],
   "source": [
    "df.isna().sum()"
   ]
  },
  {
   "cell_type": "markdown",
   "metadata": {
    "tags": []
   },
   "source": [
    "### drive_type"
   ]
  },
  {
   "cell_type": "code",
   "execution_count": 46,
   "metadata": {},
   "outputs": [
    {
     "name": "stdout",
     "output_type": "stream",
     "text": [
      "Null values: 3822\n",
      "---------------------------------------------\n",
      "Unique values:\n"
     ]
    },
    {
     "data": {
      "text/plain": [
       "Front     3588\n",
       "Allrad    2705\n",
       "Heck       994\n",
       "Name: drive_type, dtype: int64"
      ]
     },
     "execution_count": 46,
     "metadata": {},
     "output_type": "execute_result"
    }
   ],
   "source": [
    "# show nan values in col\n",
    "print('Null values:', df['drive_type'].isna().sum())\n",
    "print('---'*15)\n",
    "\n",
    "# check unique values\n",
    "print('Unique values:')\n",
    "df['drive_type'].value_counts()"
   ]
  },
  {
   "cell_type": "code",
   "execution_count": 47,
   "metadata": {},
   "outputs": [],
   "source": [
    "# replace Nan value sby mode of a group of car model\n",
    "df['drive_type']=df.groupby('model').drive_type.transform(lambda x: x.fillna(x.mode()[0]))"
   ]
  },
  {
   "cell_type": "code",
   "execution_count": 48,
   "metadata": {},
   "outputs": [
    {
     "name": "stdout",
     "output_type": "stream",
     "text": [
      "Front     5145\n",
      "Allrad    3793\n",
      "Heck      2171\n",
      "Name: drive_type, dtype: int64\n",
      "------------------------------\n",
      "0\n"
     ]
    }
   ],
   "source": [
    "print(df['drive_type'].value_counts())\n",
    "print('--'*15)\n",
    "print(df['drive_type'].isna().sum())"
   ]
  },
  {
   "cell_type": "markdown",
   "metadata": {
    "tags": []
   },
   "source": [
    "### displacement"
   ]
  },
  {
   "cell_type": "code",
   "execution_count": 49,
   "metadata": {},
   "outputs": [
    {
     "name": "stdout",
     "output_type": "stream",
     "text": [
      "Null values: 302\n",
      "---------------------------------------------\n",
      "Unique values:\n"
     ]
    },
    {
     "data": {
      "text/plain": [
       "array(['1.984', '1.998', '1.498', '999', '1.332', '1.968', '1.395',\n",
       "       '1.995', '1.497', '1.496', '1.499', '0', '2.967', '1.950', '1.988',\n",
       "       '2.275', '647', '2.143', '1.422', '1.598', '1.500', '1.993',\n",
       "       '1.398', '2.000', '1.000', '1.597', '1.965', '1', '898', '1.798',\n",
       "       '2.148', '1.197', '2.698', '1.796', '1.991', '1.595', '1.390',\n",
       "       '1.495', '998', nan, '1.400', '1.781', '2.995', '1.997', '1.576',\n",
       "       '1.996', '1.896', '2.199', '1.594', '1.960', '855', '3.197',\n",
       "       '1.600', '1.124', '1.800'], dtype=object)"
      ]
     },
     "execution_count": 49,
     "metadata": {},
     "output_type": "execute_result"
    }
   ],
   "source": [
    "# show nan values in col gear\n",
    "print('Null values:', df['displacement'].isna().sum())\n",
    "print('---'*15)\n",
    "# check unique values\n",
    "print('Unique values:')\n",
    "df['displacement'].unique()"
   ]
  },
  {
   "cell_type": "code",
   "execution_count": 50,
   "metadata": {},
   "outputs": [],
   "source": [
    "# if not Elektro and displacement 0, replace as Nan\n",
    "df['displacement'] = np.where((df['displacement']== '0') & (df['fuel']!='Elektro'), '0', df['displacement'].replace('0', np.nan))"
   ]
  },
  {
   "cell_type": "code",
   "execution_count": 51,
   "metadata": {},
   "outputs": [
    {
     "data": {
      "text/plain": [
       "393"
      ]
     },
     "execution_count": 51,
     "metadata": {},
     "output_type": "execute_result"
    }
   ],
   "source": [
    "df['displacement'].isna().sum()"
   ]
  },
  {
   "cell_type": "code",
   "execution_count": 52,
   "metadata": {},
   "outputs": [],
   "source": [
    "#df['displacement'] = np.where((df['displacement']== '999 cm³'), '999 cm³', df['displacement'].replace('999 cm³', '0.999 cm³'))\n",
    "\n",
    "df.loc[df.displacement =='999', 'displacement'] = '0.999'\n",
    "df.loc[df.displacement =='898', 'displacement'] = '0.898'\n",
    "df.loc[df.displacement =='998', 'displacement'] = '0.998'\n",
    "df.loc[df.displacement =='647', 'displacement'] = '0.647'\n",
    "df.loc[df.displacement =='855', 'displacement'] = '0.855'"
   ]
  },
  {
   "cell_type": "code",
   "execution_count": 53,
   "metadata": {},
   "outputs": [
    {
     "data": {
      "text/plain": [
       "1.968    2365\n",
       "1.995    1537\n",
       "1.984    1311\n",
       "1.395     799\n",
       "1.498     563\n",
       "1.332     508\n",
       "1.998     403\n",
       "0.999     317\n",
       "1.390     309\n",
       "1.598     280\n",
       "1.950     261\n",
       "1.499     224\n",
       "1.798     210\n",
       "1.595     206\n",
       "2.143     190\n",
       "2.967     182\n",
       "1.497     166\n",
       "1.991     148\n",
       "1.796     127\n",
       "1.597     121\n",
       "1.496     106\n",
       "1.197      79\n",
       "0.898      68\n",
       "1.993      29\n",
       "2.148      28\n",
       "1.422      28\n",
       "2.000      25\n",
       "2.698      21\n",
       "1.896      18\n",
       "1.997      16\n",
       "2.995      14\n",
       "1.500      10\n",
       "3.197       6\n",
       "1           5\n",
       "1.398       4\n",
       "1.965       3\n",
       "0.998       3\n",
       "1.400       3\n",
       "0           3\n",
       "1.988       2\n",
       "1.600       2\n",
       "1.996       2\n",
       "0.647       2\n",
       "1.781       2\n",
       "2.275       1\n",
       "1.576       1\n",
       "1.000       1\n",
       "2.199       1\n",
       "1.594       1\n",
       "1.960       1\n",
       "0.855       1\n",
       "1.495       1\n",
       "1.124       1\n",
       "1.800       1\n",
       "Name: displacement, dtype: int64"
      ]
     },
     "execution_count": 53,
     "metadata": {},
     "output_type": "execute_result"
    }
   ],
   "source": [
    "df['displacement'].value_counts()"
   ]
  },
  {
   "cell_type": "code",
   "execution_count": 54,
   "metadata": {},
   "outputs": [],
   "source": [
    "# replace Nan values by mode of a group of car model\n",
    "df['displacement']=df.groupby('model').displacement.transform(lambda x: x.fillna(x.mode()[0]))"
   ]
  },
  {
   "cell_type": "code",
   "execution_count": 55,
   "metadata": {},
   "outputs": [
    {
     "data": {
      "text/plain": [
       "make                0\n",
       "model               0\n",
       "price               0\n",
       "fuel                0\n",
       "mileage             0\n",
       "gear                0\n",
       "registration        0\n",
       "hp                  0\n",
       "owner               0\n",
       "body                0\n",
       "car_condition       0\n",
       "consumption      1364\n",
       "emission         1665\n",
       "color               0\n",
       "car_id           3828\n",
       "displacement        0\n",
       "drive_type          0\n",
       "link                0\n",
       "dtype: int64"
      ]
     },
     "execution_count": 55,
     "metadata": {},
     "output_type": "execute_result"
    }
   ],
   "source": [
    "df.isna().sum()"
   ]
  },
  {
   "cell_type": "markdown",
   "metadata": {},
   "source": [
    "### consumption & emission"
   ]
  },
  {
   "cell_type": "code",
   "execution_count": 56,
   "metadata": {},
   "outputs": [
    {
     "name": "stdout",
     "output_type": "stream",
     "text": [
      "Null values: 1364\n",
      "---------------------------------------------\n",
      "Unique values:\n"
     ]
    },
    {
     "data": {
      "text/plain": [
       "5.8    478\n",
       "4.7    448\n",
       "5.3    447\n",
       "4.5    428\n",
       "5.2    376\n",
       "      ... \n",
       "1.2      1\n",
       "3.2      1\n",
       "9.1      1\n",
       "47       1\n",
       "3.3      1\n",
       "Name: consumption, Length: 81, dtype: int64"
      ]
     },
     "execution_count": 56,
     "metadata": {},
     "output_type": "execute_result"
    }
   ],
   "source": [
    "# show nan values in col gear\n",
    "print('Null values:', df['consumption'].isna().sum())\n",
    "print('---'*15)\n",
    "# check unique values\n",
    "print('Unique values:')\n",
    "df['consumption'].value_counts()"
   ]
  },
  {
   "cell_type": "code",
   "execution_count": 57,
   "metadata": {},
   "outputs": [
    {
     "name": "stdout",
     "output_type": "stream",
     "text": [
      "Null values: 1665\n",
      "---------------------------------------------\n",
      "Unique values:\n"
     ]
    },
    {
     "data": {
      "text/plain": [
       "0      1195\n",
       "119     305\n",
       "109     195\n",
       "135     193\n",
       "130     191\n",
       "       ... \n",
       "227       1\n",
       "181       1\n",
       "239       1\n",
       "212       1\n",
       "11        1\n",
       "Name: emission, Length: 156, dtype: int64"
      ]
     },
     "execution_count": 57,
     "metadata": {},
     "output_type": "execute_result"
    }
   ],
   "source": [
    "# show nan values in col gear\n",
    "print('Null values:', df['emission'].isna().sum())\n",
    "print('---'*15)\n",
    "# check unique values\n",
    "print('Unique values:')\n",
    "df['emission'].value_counts()"
   ]
  },
  {
   "cell_type": "code",
   "execution_count": 58,
   "metadata": {},
   "outputs": [
    {
     "data": {
      "text/html": [
       "<div>\n",
       "<style scoped>\n",
       "    .dataframe tbody tr th:only-of-type {\n",
       "        vertical-align: middle;\n",
       "    }\n",
       "\n",
       "    .dataframe tbody tr th {\n",
       "        vertical-align: top;\n",
       "    }\n",
       "\n",
       "    .dataframe thead th {\n",
       "        text-align: right;\n",
       "    }\n",
       "</style>\n",
       "<table border=\"1\" class=\"dataframe\">\n",
       "  <thead>\n",
       "    <tr style=\"text-align: right;\">\n",
       "      <th></th>\n",
       "      <th>make</th>\n",
       "      <th>model</th>\n",
       "      <th>price</th>\n",
       "      <th>fuel</th>\n",
       "      <th>mileage</th>\n",
       "      <th>gear</th>\n",
       "      <th>registration</th>\n",
       "      <th>hp</th>\n",
       "      <th>owner</th>\n",
       "      <th>body</th>\n",
       "      <th>car_condition</th>\n",
       "      <th>consumption</th>\n",
       "      <th>emission</th>\n",
       "      <th>color</th>\n",
       "      <th>car_id</th>\n",
       "      <th>displacement</th>\n",
       "      <th>drive_type</th>\n",
       "      <th>link</th>\n",
       "    </tr>\n",
       "  </thead>\n",
       "  <tbody>\n",
       "    <tr>\n",
       "      <th>305</th>\n",
       "      <td>BMW</td>\n",
       "      <td>X1</td>\n",
       "      <td>69990</td>\n",
       "      <td>Elektro</td>\n",
       "      <td>1505</td>\n",
       "      <td>Automatik</td>\n",
       "      <td>2023</td>\n",
       "      <td>200</td>\n",
       "      <td>1.00</td>\n",
       "      <td>SUV/Geländewagen/Pickup</td>\n",
       "      <td>Vorführfahrzeug</td>\n",
       "      <td>6.9</td>\n",
       "      <td>0</td>\n",
       "      <td>Schwarz</td>\n",
       "      <td>132418</td>\n",
       "      <td>1.995</td>\n",
       "      <td>Allrad</td>\n",
       "      <td>https://www.autoscout24.de/angebote/audi-a1-sp...</td>\n",
       "    </tr>\n",
       "    <tr>\n",
       "      <th>334</th>\n",
       "      <td>smart</td>\n",
       "      <td>forFour</td>\n",
       "      <td>19770</td>\n",
       "      <td>Elektro</td>\n",
       "      <td>6599</td>\n",
       "      <td>Automatik</td>\n",
       "      <td>2022</td>\n",
       "      <td>60</td>\n",
       "      <td>1.00</td>\n",
       "      <td>Limousine</td>\n",
       "      <td>Jahreswagen</td>\n",
       "      <td>NaN</td>\n",
       "      <td>0</td>\n",
       "      <td>Braun</td>\n",
       "      <td>30230015</td>\n",
       "      <td>1.968</td>\n",
       "      <td>Allrad</td>\n",
       "      <td>https://www.autoscout24.de/angebote/bmw-i3-120...</td>\n",
       "    </tr>\n",
       "    <tr>\n",
       "      <th>335</th>\n",
       "      <td>smart</td>\n",
       "      <td>forFour</td>\n",
       "      <td>18700</td>\n",
       "      <td>Elektro</td>\n",
       "      <td>9548</td>\n",
       "      <td>Automatik</td>\n",
       "      <td>2022</td>\n",
       "      <td>60</td>\n",
       "      <td>1.00</td>\n",
       "      <td>Limousine</td>\n",
       "      <td>Jahreswagen</td>\n",
       "      <td>NaN</td>\n",
       "      <td>0</td>\n",
       "      <td>Silber</td>\n",
       "      <td>30230324</td>\n",
       "      <td>1.968</td>\n",
       "      <td>Heck</td>\n",
       "      <td>https://www.autoscout24.de/angebote/bmw-i3-120...</td>\n",
       "    </tr>\n",
       "    <tr>\n",
       "      <th>336</th>\n",
       "      <td>smart</td>\n",
       "      <td>forFour</td>\n",
       "      <td>19900</td>\n",
       "      <td>Elektro</td>\n",
       "      <td>6046</td>\n",
       "      <td>Automatik</td>\n",
       "      <td>2022</td>\n",
       "      <td>60</td>\n",
       "      <td>1.00</td>\n",
       "      <td>Limousine</td>\n",
       "      <td>Jahreswagen</td>\n",
       "      <td>4.7</td>\n",
       "      <td>0</td>\n",
       "      <td>Schwarz</td>\n",
       "      <td>18544</td>\n",
       "      <td>1.995</td>\n",
       "      <td>Heck</td>\n",
       "      <td>https://www.autoscout24.de/angebote/bmw-i3-s-1...</td>\n",
       "    </tr>\n",
       "    <tr>\n",
       "      <th>337</th>\n",
       "      <td>smart</td>\n",
       "      <td>forFour</td>\n",
       "      <td>18900</td>\n",
       "      <td>Elektro</td>\n",
       "      <td>11289</td>\n",
       "      <td>Automatik</td>\n",
       "      <td>2022</td>\n",
       "      <td>60</td>\n",
       "      <td>1.00</td>\n",
       "      <td>Limousine</td>\n",
       "      <td>Jahreswagen</td>\n",
       "      <td>4.3</td>\n",
       "      <td>0</td>\n",
       "      <td>Schwarz</td>\n",
       "      <td>8166</td>\n",
       "      <td>1.995</td>\n",
       "      <td>Heck</td>\n",
       "      <td>https://www.autoscout24.de/angebote/bmw-i3-120...</td>\n",
       "    </tr>\n",
       "    <tr>\n",
       "      <th>...</th>\n",
       "      <td>...</td>\n",
       "      <td>...</td>\n",
       "      <td>...</td>\n",
       "      <td>...</td>\n",
       "      <td>...</td>\n",
       "      <td>...</td>\n",
       "      <td>...</td>\n",
       "      <td>...</td>\n",
       "      <td>...</td>\n",
       "      <td>...</td>\n",
       "      <td>...</td>\n",
       "      <td>...</td>\n",
       "      <td>...</td>\n",
       "      <td>...</td>\n",
       "      <td>...</td>\n",
       "      <td>...</td>\n",
       "      <td>...</td>\n",
       "      <td>...</td>\n",
       "    </tr>\n",
       "    <tr>\n",
       "      <th>11018</th>\n",
       "      <td>BMW</td>\n",
       "      <td>i3</td>\n",
       "      <td>19750</td>\n",
       "      <td>Elektro</td>\n",
       "      <td>35846</td>\n",
       "      <td>Automatik</td>\n",
       "      <td>2018</td>\n",
       "      <td>125</td>\n",
       "      <td>1.00</td>\n",
       "      <td>Limousine</td>\n",
       "      <td>Gebraucht</td>\n",
       "      <td>NaN</td>\n",
       "      <td>0</td>\n",
       "      <td>Schwarz</td>\n",
       "      <td>RAVZ31743</td>\n",
       "      <td>1.499</td>\n",
       "      <td>Heck</td>\n",
       "      <td>https://www.autoscout24.de/angebote/bmw-i3-94a...</td>\n",
       "    </tr>\n",
       "    <tr>\n",
       "      <th>11019</th>\n",
       "      <td>BMW</td>\n",
       "      <td>i3</td>\n",
       "      <td>20500</td>\n",
       "      <td>Elektro</td>\n",
       "      <td>31260</td>\n",
       "      <td>Automatik</td>\n",
       "      <td>2018</td>\n",
       "      <td>125</td>\n",
       "      <td>1.00</td>\n",
       "      <td>Limousine</td>\n",
       "      <td>Gebraucht</td>\n",
       "      <td>NaN</td>\n",
       "      <td>0</td>\n",
       "      <td>Schwarz</td>\n",
       "      <td>B26804198</td>\n",
       "      <td>1.499</td>\n",
       "      <td>Heck</td>\n",
       "      <td>https://www.autoscout24.de/angebote/bmw-i3-nav...</td>\n",
       "    </tr>\n",
       "    <tr>\n",
       "      <th>11020</th>\n",
       "      <td>BMW</td>\n",
       "      <td>i3</td>\n",
       "      <td>19999</td>\n",
       "      <td>Elektro</td>\n",
       "      <td>34300</td>\n",
       "      <td>Automatik</td>\n",
       "      <td>2018</td>\n",
       "      <td>125</td>\n",
       "      <td>1.00</td>\n",
       "      <td>Kleinwagen</td>\n",
       "      <td>Gebraucht</td>\n",
       "      <td>NaN</td>\n",
       "      <td>0</td>\n",
       "      <td>Schwarz</td>\n",
       "      <td>5N</td>\n",
       "      <td>1.499</td>\n",
       "      <td>Heck</td>\n",
       "      <td>https://www.autoscout24.de/angebote/bmw-i3-edr...</td>\n",
       "    </tr>\n",
       "    <tr>\n",
       "      <th>11021</th>\n",
       "      <td>BMW</td>\n",
       "      <td>i3</td>\n",
       "      <td>21999</td>\n",
       "      <td>Elektro</td>\n",
       "      <td>46000</td>\n",
       "      <td>Automatik</td>\n",
       "      <td>2018</td>\n",
       "      <td>75</td>\n",
       "      <td>2.00</td>\n",
       "      <td>Kleinwagen</td>\n",
       "      <td>Gebraucht</td>\n",
       "      <td>NaN</td>\n",
       "      <td>0</td>\n",
       "      <td>Grau</td>\n",
       "      <td>WBY7Z210307B31253</td>\n",
       "      <td>1.499</td>\n",
       "      <td>Heck</td>\n",
       "      <td>https://www.autoscout24.de/angebote/bmw-i3-pro...</td>\n",
       "    </tr>\n",
       "    <tr>\n",
       "      <th>11022</th>\n",
       "      <td>BMW</td>\n",
       "      <td>i3</td>\n",
       "      <td>29490</td>\n",
       "      <td>Elektro</td>\n",
       "      <td>42295</td>\n",
       "      <td>Automatik</td>\n",
       "      <td>2018</td>\n",
       "      <td>125</td>\n",
       "      <td>1.00</td>\n",
       "      <td>Limousine</td>\n",
       "      <td>Gebraucht</td>\n",
       "      <td>NaN</td>\n",
       "      <td>0</td>\n",
       "      <td>Rot</td>\n",
       "      <td>1691e</td>\n",
       "      <td>1.499</td>\n",
       "      <td>Heck</td>\n",
       "      <td>https://www.autoscout24.de/angebote/bmw-i3-94-...</td>\n",
       "    </tr>\n",
       "  </tbody>\n",
       "</table>\n",
       "<p>440 rows × 18 columns</p>\n",
       "</div>"
      ],
      "text/plain": [
       "        make    model  price     fuel mileage       gear registration   hp  \\\n",
       "305      BMW       X1  69990  Elektro    1505  Automatik         2023  200   \n",
       "334    smart  forFour  19770  Elektro    6599  Automatik         2022   60   \n",
       "335    smart  forFour  18700  Elektro    9548  Automatik         2022   60   \n",
       "336    smart  forFour  19900  Elektro    6046  Automatik         2022   60   \n",
       "337    smart  forFour  18900  Elektro   11289  Automatik         2022   60   \n",
       "...      ...      ...    ...      ...     ...        ...          ...  ...   \n",
       "11018    BMW       i3  19750  Elektro   35846  Automatik         2018  125   \n",
       "11019    BMW       i3  20500  Elektro   31260  Automatik         2018  125   \n",
       "11020    BMW       i3  19999  Elektro   34300  Automatik         2018  125   \n",
       "11021    BMW       i3  21999  Elektro   46000  Automatik         2018   75   \n",
       "11022    BMW       i3  29490  Elektro   42295  Automatik         2018  125   \n",
       "\n",
       "       owner                     body    car_condition consumption emission  \\\n",
       "305     1.00  SUV/Geländewagen/Pickup  Vorführfahrzeug         6.9        0   \n",
       "334     1.00                Limousine      Jahreswagen         NaN        0   \n",
       "335     1.00                Limousine      Jahreswagen         NaN        0   \n",
       "336     1.00                Limousine      Jahreswagen         4.7        0   \n",
       "337     1.00                Limousine      Jahreswagen         4.3        0   \n",
       "...      ...                      ...              ...         ...      ...   \n",
       "11018   1.00                Limousine        Gebraucht         NaN        0   \n",
       "11019   1.00                Limousine        Gebraucht         NaN        0   \n",
       "11020   1.00               Kleinwagen        Gebraucht         NaN        0   \n",
       "11021   2.00               Kleinwagen        Gebraucht         NaN        0   \n",
       "11022   1.00                Limousine        Gebraucht         NaN        0   \n",
       "\n",
       "         color             car_id displacement drive_type  \\\n",
       "305    Schwarz             132418        1.995     Allrad   \n",
       "334      Braun           30230015        1.968     Allrad   \n",
       "335     Silber           30230324        1.968       Heck   \n",
       "336    Schwarz              18544        1.995       Heck   \n",
       "337    Schwarz               8166        1.995       Heck   \n",
       "...        ...                ...          ...        ...   \n",
       "11018  Schwarz          RAVZ31743        1.499       Heck   \n",
       "11019  Schwarz          B26804198        1.499       Heck   \n",
       "11020  Schwarz                 5N        1.499       Heck   \n",
       "11021     Grau  WBY7Z210307B31253        1.499       Heck   \n",
       "11022      Rot              1691e        1.499       Heck   \n",
       "\n",
       "                                                    link  \n",
       "305    https://www.autoscout24.de/angebote/audi-a1-sp...  \n",
       "334    https://www.autoscout24.de/angebote/bmw-i3-120...  \n",
       "335    https://www.autoscout24.de/angebote/bmw-i3-120...  \n",
       "336    https://www.autoscout24.de/angebote/bmw-i3-s-1...  \n",
       "337    https://www.autoscout24.de/angebote/bmw-i3-120...  \n",
       "...                                                  ...  \n",
       "11018  https://www.autoscout24.de/angebote/bmw-i3-94a...  \n",
       "11019  https://www.autoscout24.de/angebote/bmw-i3-nav...  \n",
       "11020  https://www.autoscout24.de/angebote/bmw-i3-edr...  \n",
       "11021  https://www.autoscout24.de/angebote/bmw-i3-pro...  \n",
       "11022  https://www.autoscout24.de/angebote/bmw-i3-94-...  \n",
       "\n",
       "[440 rows x 18 columns]"
      ]
     },
     "execution_count": 58,
     "metadata": {},
     "output_type": "execute_result"
    }
   ],
   "source": [
    "df[(df['fuel']=='Elektro')&(df['consumption']!=0)]"
   ]
  },
  {
   "cell_type": "code",
   "execution_count": 59,
   "metadata": {},
   "outputs": [
    {
     "name": "stdout",
     "output_type": "stream",
     "text": [
      "NAN in consupmtion: 1104\n",
      "NAN in emission: 2429\n"
     ]
    }
   ],
   "source": [
    "# if fuel is is elektro => then consumption replace with 0\n",
    "df['consumption'].mask((df['fuel']=='Elektro'), 0, inplace=True)\n",
    "df['emission'].mask((df['fuel']=='Elektro'), 0, inplace=True)\n",
    "\n",
    "#if fuel is not elektro, but consumption 0 => replace 0 with Nan values\n",
    "df['consumption'].mask((df['fuel']!='Elektro')&(df['consumption']== '0'), np.nan, inplace=True)\n",
    "df['emission'].mask((df['fuel']!='Elektro')&(df['emission']== '0'), np.nan, inplace=True)\n",
    "\n",
    "#check Nan values again\n",
    "print('NAN in consupmtion:', df['consumption'].isna().sum())\n",
    "print('NAN in emission:', df['emission'].isna().sum())"
   ]
  },
  {
   "cell_type": "code",
   "execution_count": 60,
   "metadata": {},
   "outputs": [
    {
     "data": {
      "text/plain": [
       "0      440\n",
       "119    305\n",
       "109    195\n",
       "135    193\n",
       "130    191\n",
       "      ... \n",
       "240      1\n",
       "227      1\n",
       "197      1\n",
       "181      1\n",
       "11       1\n",
       "Name: emission, Length: 156, dtype: int64"
      ]
     },
     "execution_count": 60,
     "metadata": {},
     "output_type": "execute_result"
    }
   ],
   "source": [
    "df['emission'].value_counts()"
   ]
  },
  {
   "cell_type": "code",
   "execution_count": 61,
   "metadata": {},
   "outputs": [],
   "source": [
    "# fill NAN by model-group mode\n",
    "df['consumption']=df.groupby('model').consumption.transform(lambda x: x.fillna(x.mode()[0]))\n",
    "df['emission']=df.groupby('model').emission.transform(lambda x: x.fillna(x.mode()[0]))"
   ]
  },
  {
   "cell_type": "code",
   "execution_count": 62,
   "metadata": {},
   "outputs": [
    {
     "data": {
      "text/plain": [
       "make                0\n",
       "model               0\n",
       "price               0\n",
       "fuel                0\n",
       "mileage             0\n",
       "gear                0\n",
       "registration        0\n",
       "hp                  0\n",
       "owner               0\n",
       "body                0\n",
       "car_condition       0\n",
       "consumption         0\n",
       "emission            0\n",
       "color               0\n",
       "car_id           3828\n",
       "displacement        0\n",
       "drive_type          0\n",
       "link                0\n",
       "dtype: int64"
      ]
     },
     "execution_count": 62,
     "metadata": {},
     "output_type": "execute_result"
    }
   ],
   "source": [
    "df.isna().sum()"
   ]
  },
  {
   "cell_type": "markdown",
   "metadata": {
    "tags": []
   },
   "source": [
    "## translate terms"
   ]
  },
  {
   "cell_type": "code",
   "execution_count": 63,
   "metadata": {},
   "outputs": [],
   "source": [
    "#some colors are in upper and lower case and are german words, hence translating them to english\n",
    "\n",
    "df.replace({'Benzin': 'Petrol', 'Elektro/Benzin': 'Electro/Petrol', 'Sonstige':'Other', 'Elektro':'Electro', 'Elektro/Diesel': 'Electro/Diesel', ' Benzin': 'Petrol',\n",
    "           'Automatik': 'Automatic', 'Schaltgetriebe': 'Manual', 'Halbautomatik':'Semi-automatic',\n",
    "            'Limousine': 'Sedan', 'Kleinwagen':'Small car', 'Kombi': 'Station wagon', 'Cabrio':'Convertible',\n",
    "            'Coupé':'Coupe', 'SUV/Geländewagen/Pickup':'SUV', 'Van/Kleinbus':'SUV',\n",
    "           'Vorführfahrzeug':'Demonstration vehicle',\n",
    "           'Tageszulassung':'Day admission', 'Jahreswagen':'Annual car', 'Gebraucht':'Used', 'Neu':'New', 'Allrad':'Four.w.d', 'Heck':'Rear', 'Grau': 'Gray','grau': 'Gray', 'Schwarz': 'Black','schwarz': 'Black', 'Weiß':'White', 'Rot':'Red', 'rot':'Red', 'Blau':'Blue', 'blau':'Blue', 'Silber':'Silver', 'silber':'Silver', 'Gelb':'Yellow',\n",
    "       'Grün':'Green', 'Braun':'Brown', 'Violett':'Purple', 'beige':'Beige', '-': 'unknown', 'nan':'unknown'}, inplace=True)"
   ]
  },
  {
   "cell_type": "markdown",
   "metadata": {
    "tags": []
   },
   "source": [
    "## change datatypes"
   ]
  },
  {
   "cell_type": "code",
   "execution_count": 64,
   "metadata": {},
   "outputs": [
    {
     "data": {
      "text/plain": [
       "make              object\n",
       "model             object\n",
       "price             object\n",
       "fuel              object\n",
       "mileage           object\n",
       "gear              object\n",
       "registration      object\n",
       "hp                object\n",
       "owner            float64\n",
       "body              object\n",
       "car_condition     object\n",
       "consumption       object\n",
       "emission          object\n",
       "color             object\n",
       "car_id            object\n",
       "displacement      object\n",
       "drive_type        object\n",
       "link              object\n",
       "dtype: object"
      ]
     },
     "metadata": {},
     "output_type": "display_data"
    }
   ],
   "source": [
    "display(df.dtypes)"
   ]
  },
  {
   "cell_type": "code",
   "execution_count": 65,
   "metadata": {
    "tags": []
   },
   "outputs": [],
   "source": [
    "#object to float\n",
    "\n",
    "cols = ['price', 'displacement', 'consumption']\n",
    "for col in cols:\n",
    "    df[col] = pd.to_numeric(df[col])"
   ]
  },
  {
   "cell_type": "code",
   "execution_count": 66,
   "metadata": {},
   "outputs": [],
   "source": [
    "#floats to int \n",
    "cols = ['mileage', 'owner', 'emission', 'registration']\n",
    "for col in cols:\n",
    "    df[col] = df[col].astype(int)"
   ]
  },
  {
   "cell_type": "code",
   "execution_count": 67,
   "metadata": {},
   "outputs": [
    {
     "data": {
      "text/plain": [
       "make              object\n",
       "model             object\n",
       "price              int64\n",
       "fuel              object\n",
       "mileage            int64\n",
       "gear              object\n",
       "registration       int64\n",
       "hp                object\n",
       "owner              int64\n",
       "body              object\n",
       "car_condition     object\n",
       "consumption      float64\n",
       "emission           int64\n",
       "color             object\n",
       "car_id            object\n",
       "displacement     float64\n",
       "drive_type        object\n",
       "link              object\n",
       "dtype: object"
      ]
     },
     "metadata": {},
     "output_type": "display_data"
    }
   ],
   "source": [
    "display(df.dtypes)"
   ]
  },
  {
   "cell_type": "code",
   "execution_count": 68,
   "metadata": {},
   "outputs": [
    {
     "data": {
      "text/plain": [
       "make                0\n",
       "model               0\n",
       "price               0\n",
       "fuel                0\n",
       "mileage             0\n",
       "gear                0\n",
       "registration        0\n",
       "hp                  0\n",
       "owner               0\n",
       "body                0\n",
       "car_condition       0\n",
       "consumption         0\n",
       "emission            0\n",
       "color               0\n",
       "car_id           3828\n",
       "displacement        0\n",
       "drive_type          0\n",
       "link                0\n",
       "dtype: int64"
      ]
     },
     "execution_count": 68,
     "metadata": {},
     "output_type": "execute_result"
    }
   ],
   "source": [
    "df.isna().sum()"
   ]
  },
  {
   "cell_type": "markdown",
   "metadata": {},
   "source": [
    "### hp "
   ]
  },
  {
   "cell_type": "code",
   "execution_count": 69,
   "metadata": {},
   "outputs": [
    {
     "data": {
      "text/plain": [
       "array(['152', '110', '81', '70', '120', '221', '180', '147', '150', '85',\n",
       "       '131', '140', '130', '135', '90', '195', '210', '235', '115',\n",
       "       '100', '160', '200', '155', '125', '60', '75', 'unknown', '206',\n",
       "       '170', '162', '118', '169', '141', '103', '41', '66', '213', '96',\n",
       "       '145', '176', '52', '185', '92', '132', '80', '243', '284', '228',\n",
       "       '250', '106', '165', '45', '63', '136', '230', '77', '173', '55',\n",
       "       '88', '164', '137', '101', '105', '177', '116', '28', '211', '74',\n",
       "       '122', '202', '127', '199', '217'], dtype=object)"
      ]
     },
     "execution_count": 69,
     "metadata": {},
     "output_type": "execute_result"
    }
   ],
   "source": [
    "df['hp'].unique()"
   ]
  },
  {
   "cell_type": "code",
   "execution_count": 70,
   "metadata": {},
   "outputs": [
    {
     "data": {
      "text/html": [
       "<div>\n",
       "<style scoped>\n",
       "    .dataframe tbody tr th:only-of-type {\n",
       "        vertical-align: middle;\n",
       "    }\n",
       "\n",
       "    .dataframe tbody tr th {\n",
       "        vertical-align: top;\n",
       "    }\n",
       "\n",
       "    .dataframe thead th {\n",
       "        text-align: right;\n",
       "    }\n",
       "</style>\n",
       "<table border=\"1\" class=\"dataframe\">\n",
       "  <thead>\n",
       "    <tr style=\"text-align: right;\">\n",
       "      <th></th>\n",
       "      <th>make</th>\n",
       "      <th>model</th>\n",
       "      <th>price</th>\n",
       "      <th>fuel</th>\n",
       "      <th>mileage</th>\n",
       "      <th>gear</th>\n",
       "      <th>registration</th>\n",
       "      <th>hp</th>\n",
       "      <th>owner</th>\n",
       "      <th>body</th>\n",
       "      <th>car_condition</th>\n",
       "      <th>consumption</th>\n",
       "      <th>emission</th>\n",
       "      <th>color</th>\n",
       "      <th>car_id</th>\n",
       "      <th>displacement</th>\n",
       "      <th>drive_type</th>\n",
       "      <th>link</th>\n",
       "    </tr>\n",
       "  </thead>\n",
       "  <tbody>\n",
       "    <tr>\n",
       "      <th>453</th>\n",
       "      <td>BMW</td>\n",
       "      <td>i3</td>\n",
       "      <td>44500</td>\n",
       "      <td>Electro</td>\n",
       "      <td>2200</td>\n",
       "      <td>Automatic</td>\n",
       "      <td>2022</td>\n",
       "      <td>unknown</td>\n",
       "      <td>1</td>\n",
       "      <td>Sedan</td>\n",
       "      <td>Used</td>\n",
       "      <td>0.00</td>\n",
       "      <td>0</td>\n",
       "      <td>Gray</td>\n",
       "      <td>768</td>\n",
       "      <td>2.00</td>\n",
       "      <td>Rear</td>\n",
       "      <td>https://www.autoscout24.de/angebote/smart-forf...</td>\n",
       "    </tr>\n",
       "    <tr>\n",
       "      <th>687</th>\n",
       "      <td>smart</td>\n",
       "      <td>forFour</td>\n",
       "      <td>15850</td>\n",
       "      <td>Electro</td>\n",
       "      <td>9023</td>\n",
       "      <td>Automatic</td>\n",
       "      <td>2021</td>\n",
       "      <td>unknown</td>\n",
       "      <td>1</td>\n",
       "      <td>Small car</td>\n",
       "      <td>Used</td>\n",
       "      <td>0.00</td>\n",
       "      <td>0</td>\n",
       "      <td>Black</td>\n",
       "      <td>NaN</td>\n",
       "      <td>1.40</td>\n",
       "      <td>Front</td>\n",
       "      <td>https://www.autoscout24.de/angebote/audi-a5-ca...</td>\n",
       "    </tr>\n",
       "    <tr>\n",
       "      <th>3764</th>\n",
       "      <td>Volkswagen</td>\n",
       "      <td>Tiguan</td>\n",
       "      <td>12490</td>\n",
       "      <td>Petrol</td>\n",
       "      <td>109000</td>\n",
       "      <td>Manual</td>\n",
       "      <td>2015</td>\n",
       "      <td>unknown</td>\n",
       "      <td>2</td>\n",
       "      <td>SUV</td>\n",
       "      <td>Used</td>\n",
       "      <td>6.50</td>\n",
       "      <td>152</td>\n",
       "      <td>Gray</td>\n",
       "      <td>NaN</td>\n",
       "      <td>1.39</td>\n",
       "      <td>Four.w.d</td>\n",
       "      <td>https://www.autoscout24.de/angebote/volkswagen...</td>\n",
       "    </tr>\n",
       "    <tr>\n",
       "      <th>7158</th>\n",
       "      <td>smart</td>\n",
       "      <td>forFour</td>\n",
       "      <td>20950</td>\n",
       "      <td>Electro</td>\n",
       "      <td>4157</td>\n",
       "      <td>Automatic</td>\n",
       "      <td>2021</td>\n",
       "      <td>unknown</td>\n",
       "      <td>1</td>\n",
       "      <td>Small car</td>\n",
       "      <td>Used</td>\n",
       "      <td>0.00</td>\n",
       "      <td>0</td>\n",
       "      <td>Black</td>\n",
       "      <td>51521</td>\n",
       "      <td>1.00</td>\n",
       "      <td>Front</td>\n",
       "      <td>https://www.autoscout24.de/angebote/smart-forf...</td>\n",
       "    </tr>\n",
       "  </tbody>\n",
       "</table>\n",
       "</div>"
      ],
      "text/plain": [
       "            make    model  price     fuel  mileage       gear  registration  \\\n",
       "453          BMW       i3  44500  Electro     2200  Automatic          2022   \n",
       "687        smart  forFour  15850  Electro     9023  Automatic          2021   \n",
       "3764  Volkswagen   Tiguan  12490   Petrol   109000     Manual          2015   \n",
       "7158       smart  forFour  20950  Electro     4157  Automatic          2021   \n",
       "\n",
       "           hp  owner       body car_condition  consumption  emission  color  \\\n",
       "453   unknown      1      Sedan          Used         0.00         0   Gray   \n",
       "687   unknown      1  Small car          Used         0.00         0  Black   \n",
       "3764  unknown      2        SUV          Used         6.50       152   Gray   \n",
       "7158  unknown      1  Small car          Used         0.00         0  Black   \n",
       "\n",
       "     car_id  displacement drive_type  \\\n",
       "453     768          2.00       Rear   \n",
       "687     NaN          1.40      Front   \n",
       "3764    NaN          1.39   Four.w.d   \n",
       "7158  51521          1.00      Front   \n",
       "\n",
       "                                                   link  \n",
       "453   https://www.autoscout24.de/angebote/smart-forf...  \n",
       "687   https://www.autoscout24.de/angebote/audi-a5-ca...  \n",
       "3764  https://www.autoscout24.de/angebote/volkswagen...  \n",
       "7158  https://www.autoscout24.de/angebote/smart-forf...  "
      ]
     },
     "execution_count": 70,
     "metadata": {},
     "output_type": "execute_result"
    }
   ],
   "source": [
    "df[df['hp']== 'unknown']"
   ]
  },
  {
   "cell_type": "code",
   "execution_count": 71,
   "metadata": {},
   "outputs": [
    {
     "data": {
      "text/plain": [
       "4"
      ]
     },
     "execution_count": 71,
     "metadata": {},
     "output_type": "execute_result"
    }
   ],
   "source": [
    "df['hp'].replace({'unknown': np.nan}, inplace=True)\n",
    "df['hp'].isna().sum()"
   ]
  },
  {
   "cell_type": "code",
   "execution_count": 72,
   "metadata": {},
   "outputs": [],
   "source": [
    "df['hp']=df.groupby('model').hp.transform(lambda x: x.fillna(x.mode()[0]))\n",
    "df['hp'] = df['hp'].astype(int)"
   ]
  },
  {
   "cell_type": "code",
   "execution_count": 73,
   "metadata": {},
   "outputs": [
    {
     "data": {
      "text/plain": [
       "make                0\n",
       "model               0\n",
       "price               0\n",
       "fuel                0\n",
       "mileage             0\n",
       "gear                0\n",
       "registration        0\n",
       "hp                  0\n",
       "owner               0\n",
       "body                0\n",
       "car_condition       0\n",
       "consumption         0\n",
       "emission            0\n",
       "color               0\n",
       "car_id           3828\n",
       "displacement        0\n",
       "drive_type          0\n",
       "link                0\n",
       "dtype: int64"
      ]
     },
     "execution_count": 73,
     "metadata": {},
     "output_type": "execute_result"
    }
   ],
   "source": [
    "df.isna().sum()"
   ]
  },
  {
   "cell_type": "code",
   "execution_count": 74,
   "metadata": {
    "tags": []
   },
   "outputs": [
    {
     "data": {
      "text/plain": [
       "make              object\n",
       "model             object\n",
       "price              int64\n",
       "fuel              object\n",
       "mileage            int64\n",
       "gear              object\n",
       "registration       int64\n",
       "hp                 int64\n",
       "owner              int64\n",
       "body              object\n",
       "car_condition     object\n",
       "consumption      float64\n",
       "emission           int64\n",
       "color             object\n",
       "car_id            object\n",
       "displacement     float64\n",
       "drive_type        object\n",
       "link              object\n",
       "dtype: object"
      ]
     },
     "metadata": {},
     "output_type": "display_data"
    }
   ],
   "source": [
    "display(df.dtypes)"
   ]
  },
  {
   "cell_type": "code",
   "execution_count": 75,
   "metadata": {},
   "outputs": [
    {
     "data": {
      "text/html": [
       "<div>\n",
       "<style scoped>\n",
       "    .dataframe tbody tr th:only-of-type {\n",
       "        vertical-align: middle;\n",
       "    }\n",
       "\n",
       "    .dataframe tbody tr th {\n",
       "        vertical-align: top;\n",
       "    }\n",
       "\n",
       "    .dataframe thead th {\n",
       "        text-align: right;\n",
       "    }\n",
       "</style>\n",
       "<table border=\"1\" class=\"dataframe\">\n",
       "  <thead>\n",
       "    <tr style=\"text-align: right;\">\n",
       "      <th></th>\n",
       "      <th>make</th>\n",
       "      <th>model</th>\n",
       "      <th>price</th>\n",
       "      <th>fuel</th>\n",
       "      <th>mileage</th>\n",
       "      <th>gear</th>\n",
       "      <th>registration</th>\n",
       "      <th>hp</th>\n",
       "      <th>owner</th>\n",
       "      <th>body</th>\n",
       "      <th>car_condition</th>\n",
       "      <th>consumption</th>\n",
       "      <th>emission</th>\n",
       "      <th>color</th>\n",
       "      <th>car_id</th>\n",
       "      <th>displacement</th>\n",
       "      <th>drive_type</th>\n",
       "      <th>link</th>\n",
       "    </tr>\n",
       "  </thead>\n",
       "  <tbody>\n",
       "    <tr>\n",
       "      <th>0</th>\n",
       "      <td>Volkswagen</td>\n",
       "      <td>Polo GTI</td>\n",
       "      <td>34690</td>\n",
       "      <td>Petrol</td>\n",
       "      <td>10</td>\n",
       "      <td>Automatic</td>\n",
       "      <td>2023</td>\n",
       "      <td>152</td>\n",
       "      <td>1</td>\n",
       "      <td>Sedan</td>\n",
       "      <td>Demonstration vehicle</td>\n",
       "      <td>4.20</td>\n",
       "      <td>138</td>\n",
       "      <td>Gray</td>\n",
       "      <td>G3109</td>\n",
       "      <td>1.98</td>\n",
       "      <td>Front</td>\n",
       "      <td>https://www.autoscout24.de/angebote/volkswagen...</td>\n",
       "    </tr>\n",
       "    <tr>\n",
       "      <th>1</th>\n",
       "      <td>Volkswagen</td>\n",
       "      <td>Polo GTI</td>\n",
       "      <td>34950</td>\n",
       "      <td>Petrol</td>\n",
       "      <td>1500</td>\n",
       "      <td>Automatic</td>\n",
       "      <td>2023</td>\n",
       "      <td>152</td>\n",
       "      <td>1</td>\n",
       "      <td>Sedan</td>\n",
       "      <td>Demonstration vehicle</td>\n",
       "      <td>6.60</td>\n",
       "      <td>138</td>\n",
       "      <td>Black</td>\n",
       "      <td>363794549</td>\n",
       "      <td>2.00</td>\n",
       "      <td>Rear</td>\n",
       "      <td>https://www.autoscout24.de/angebote/volkswagen...</td>\n",
       "    </tr>\n",
       "    <tr>\n",
       "      <th>2</th>\n",
       "      <td>Volkswagen</td>\n",
       "      <td>Polo GTI</td>\n",
       "      <td>29990</td>\n",
       "      <td>Petrol</td>\n",
       "      <td>9000</td>\n",
       "      <td>Automatic</td>\n",
       "      <td>2023</td>\n",
       "      <td>152</td>\n",
       "      <td>1</td>\n",
       "      <td>Sedan</td>\n",
       "      <td>Demonstration vehicle</td>\n",
       "      <td>7.40</td>\n",
       "      <td>138</td>\n",
       "      <td>White</td>\n",
       "      <td>NU057791</td>\n",
       "      <td>1.98</td>\n",
       "      <td>Front</td>\n",
       "      <td>https://www.autoscout24.de/angebote/volkswagen...</td>\n",
       "    </tr>\n",
       "  </tbody>\n",
       "</table>\n",
       "</div>"
      ],
      "text/plain": [
       "         make     model  price    fuel  mileage       gear  registration   hp  \\\n",
       "0  Volkswagen  Polo GTI  34690  Petrol       10  Automatic          2023  152   \n",
       "1  Volkswagen  Polo GTI  34950  Petrol     1500  Automatic          2023  152   \n",
       "2  Volkswagen  Polo GTI  29990  Petrol     9000  Automatic          2023  152   \n",
       "\n",
       "   owner   body          car_condition  consumption  emission  color  \\\n",
       "0      1  Sedan  Demonstration vehicle         4.20       138   Gray   \n",
       "1      1  Sedan  Demonstration vehicle         6.60       138  Black   \n",
       "2      1  Sedan  Demonstration vehicle         7.40       138  White   \n",
       "\n",
       "      car_id  displacement drive_type  \\\n",
       "0      G3109          1.98      Front   \n",
       "1  363794549          2.00       Rear   \n",
       "2   NU057791          1.98      Front   \n",
       "\n",
       "                                                link  \n",
       "0  https://www.autoscout24.de/angebote/volkswagen...  \n",
       "1  https://www.autoscout24.de/angebote/volkswagen...  \n",
       "2  https://www.autoscout24.de/angebote/volkswagen...  "
      ]
     },
     "execution_count": 75,
     "metadata": {},
     "output_type": "execute_result"
    }
   ],
   "source": [
    "df.head(3)"
   ]
  },
  {
   "cell_type": "code",
   "execution_count": 76,
   "metadata": {},
   "outputs": [
    {
     "data": {
      "text/html": [
       "<div>\n",
       "<style scoped>\n",
       "    .dataframe tbody tr th:only-of-type {\n",
       "        vertical-align: middle;\n",
       "    }\n",
       "\n",
       "    .dataframe tbody tr th {\n",
       "        vertical-align: top;\n",
       "    }\n",
       "\n",
       "    .dataframe thead th {\n",
       "        text-align: right;\n",
       "    }\n",
       "</style>\n",
       "<table border=\"1\" class=\"dataframe\">\n",
       "  <thead>\n",
       "    <tr style=\"text-align: right;\">\n",
       "      <th></th>\n",
       "      <th>price</th>\n",
       "      <th>mileage</th>\n",
       "      <th>registration</th>\n",
       "      <th>hp</th>\n",
       "      <th>owner</th>\n",
       "      <th>consumption</th>\n",
       "      <th>emission</th>\n",
       "      <th>displacement</th>\n",
       "    </tr>\n",
       "  </thead>\n",
       "  <tbody>\n",
       "    <tr>\n",
       "      <th>count</th>\n",
       "      <td>11109.00</td>\n",
       "      <td>11109.00</td>\n",
       "      <td>11109.00</td>\n",
       "      <td>11109.00</td>\n",
       "      <td>11109.00</td>\n",
       "      <td>11109.00</td>\n",
       "      <td>11109.00</td>\n",
       "      <td>11109.00</td>\n",
       "    </tr>\n",
       "    <tr>\n",
       "      <th>mean</th>\n",
       "      <td>26144.89</td>\n",
       "      <td>73161.89</td>\n",
       "      <td>2017.58</td>\n",
       "      <td>124.33</td>\n",
       "      <td>1.49</td>\n",
       "      <td>5.05</td>\n",
       "      <td>122.08</td>\n",
       "      <td>1.78</td>\n",
       "    </tr>\n",
       "    <tr>\n",
       "      <th>std</th>\n",
       "      <td>12934.45</td>\n",
       "      <td>68493.59</td>\n",
       "      <td>4.14</td>\n",
       "      <td>29.79</td>\n",
       "      <td>0.64</td>\n",
       "      <td>1.68</td>\n",
       "      <td>39.29</td>\n",
       "      <td>0.35</td>\n",
       "    </tr>\n",
       "    <tr>\n",
       "      <th>min</th>\n",
       "      <td>245.00</td>\n",
       "      <td>0.00</td>\n",
       "      <td>2007.00</td>\n",
       "      <td>28.00</td>\n",
       "      <td>1.00</td>\n",
       "      <td>0.00</td>\n",
       "      <td>0.00</td>\n",
       "      <td>0.00</td>\n",
       "    </tr>\n",
       "    <tr>\n",
       "      <th>25%</th>\n",
       "      <td>15990.00</td>\n",
       "      <td>16800.00</td>\n",
       "      <td>2015.00</td>\n",
       "      <td>110.00</td>\n",
       "      <td>1.00</td>\n",
       "      <td>4.50</td>\n",
       "      <td>117.00</td>\n",
       "      <td>1.50</td>\n",
       "    </tr>\n",
       "    <tr>\n",
       "      <th>50%</th>\n",
       "      <td>24900.00</td>\n",
       "      <td>53429.00</td>\n",
       "      <td>2019.00</td>\n",
       "      <td>120.00</td>\n",
       "      <td>1.00</td>\n",
       "      <td>5.20</td>\n",
       "      <td>126.00</td>\n",
       "      <td>1.97</td>\n",
       "    </tr>\n",
       "    <tr>\n",
       "      <th>75%</th>\n",
       "      <td>34950.00</td>\n",
       "      <td>110589.00</td>\n",
       "      <td>2021.00</td>\n",
       "      <td>140.00</td>\n",
       "      <td>2.00</td>\n",
       "      <td>5.90</td>\n",
       "      <td>143.00</td>\n",
       "      <td>1.98</td>\n",
       "    </tr>\n",
       "    <tr>\n",
       "      <th>max</th>\n",
       "      <td>87985.00</td>\n",
       "      <td>570000.00</td>\n",
       "      <td>2023.00</td>\n",
       "      <td>284.00</td>\n",
       "      <td>7.00</td>\n",
       "      <td>47.00</td>\n",
       "      <td>240.00</td>\n",
       "      <td>3.20</td>\n",
       "    </tr>\n",
       "  </tbody>\n",
       "</table>\n",
       "</div>"
      ],
      "text/plain": [
       "         price   mileage  registration       hp    owner  consumption  \\\n",
       "count 11109.00  11109.00      11109.00 11109.00 11109.00     11109.00   \n",
       "mean  26144.89  73161.89       2017.58   124.33     1.49         5.05   \n",
       "std   12934.45  68493.59          4.14    29.79     0.64         1.68   \n",
       "min     245.00      0.00       2007.00    28.00     1.00         0.00   \n",
       "25%   15990.00  16800.00       2015.00   110.00     1.00         4.50   \n",
       "50%   24900.00  53429.00       2019.00   120.00     1.00         5.20   \n",
       "75%   34950.00 110589.00       2021.00   140.00     2.00         5.90   \n",
       "max   87985.00 570000.00       2023.00   284.00     7.00        47.00   \n",
       "\n",
       "       emission  displacement  \n",
       "count  11109.00      11109.00  \n",
       "mean     122.08          1.78  \n",
       "std       39.29          0.35  \n",
       "min        0.00          0.00  \n",
       "25%      117.00          1.50  \n",
       "50%      126.00          1.97  \n",
       "75%      143.00          1.98  \n",
       "max      240.00          3.20  "
      ]
     },
     "execution_count": 76,
     "metadata": {},
     "output_type": "execute_result"
    }
   ],
   "source": [
    "df.describe()"
   ]
  },
  {
   "cell_type": "markdown",
   "metadata": {
    "tags": []
   },
   "source": [
    "## check duplicates"
   ]
  },
  {
   "cell_type": "code",
   "execution_count": 77,
   "metadata": {},
   "outputs": [
    {
     "data": {
      "text/plain": [
       "False    11101\n",
       "True         8\n",
       "dtype: int64"
      ]
     },
     "execution_count": 77,
     "metadata": {},
     "output_type": "execute_result"
    }
   ],
   "source": [
    "df.duplicated().value_counts()"
   ]
  },
  {
   "cell_type": "code",
   "execution_count": 78,
   "metadata": {},
   "outputs": [
    {
     "data": {
      "text/plain": [
       "False    8749\n",
       "True     2360\n",
       "dtype: int64"
      ]
     },
     "execution_count": 78,
     "metadata": {},
     "output_type": "execute_result"
    }
   ],
   "source": [
    "df.duplicated(subset=['link']).value_counts()"
   ]
  },
  {
   "cell_type": "code",
   "execution_count": 79,
   "metadata": {},
   "outputs": [],
   "source": [
    "df.drop('link', inplace=True, axis=1)"
   ]
  },
  {
   "cell_type": "code",
   "execution_count": 80,
   "metadata": {},
   "outputs": [
    {
     "data": {
      "text/plain": [
       "False    10969\n",
       "True       140\n",
       "dtype: int64"
      ]
     },
     "execution_count": 80,
     "metadata": {},
     "output_type": "execute_result"
    }
   ],
   "source": [
    "df.duplicated().value_counts()"
   ]
  },
  {
   "cell_type": "code",
   "execution_count": 81,
   "metadata": {},
   "outputs": [],
   "source": [
    "df.drop_duplicates(inplace=True)"
   ]
  },
  {
   "cell_type": "code",
   "execution_count": 82,
   "metadata": {},
   "outputs": [
    {
     "data": {
      "text/plain": [
       "False    10969\n",
       "dtype: int64"
      ]
     },
     "execution_count": 82,
     "metadata": {},
     "output_type": "execute_result"
    }
   ],
   "source": [
    "df.duplicated().value_counts()"
   ]
  },
  {
   "cell_type": "markdown",
   "metadata": {
    "tags": []
   },
   "source": [
    "## create car classes"
   ]
  },
  {
   "cell_type": "code",
   "execution_count": 83,
   "metadata": {},
   "outputs": [
    {
     "data": {
      "text/plain": [
       "Sedan            4105\n",
       "SUV              3165\n",
       "Station wagon    2233\n",
       "Coupe             524\n",
       "Small car         520\n",
       "Convertible       378\n",
       "Other              44\n",
       "Name: body, dtype: int64"
      ]
     },
     "execution_count": 83,
     "metadata": {},
     "output_type": "execute_result"
    }
   ],
   "source": [
    "df.body.value_counts()"
   ]
  },
  {
   "cell_type": "code",
   "execution_count": 84,
   "metadata": {},
   "outputs": [],
   "source": [
    "df['body'] = df['body'].replace('Other', np.nan)"
   ]
  },
  {
   "cell_type": "code",
   "execution_count": 85,
   "metadata": {},
   "outputs": [
    {
     "data": {
      "text/plain": [
       "44"
      ]
     },
     "execution_count": 85,
     "metadata": {},
     "output_type": "execute_result"
    }
   ],
   "source": [
    "df['body'].isna().sum()"
   ]
  },
  {
   "cell_type": "code",
   "execution_count": 86,
   "metadata": {},
   "outputs": [],
   "source": [
    "df['body']=df.groupby('model').body.transform(lambda x: x.fillna(x.mode()[0]))"
   ]
  },
  {
   "cell_type": "code",
   "execution_count": 87,
   "metadata": {},
   "outputs": [
    {
     "data": {
      "text/plain": [
       "Sedan            4122\n",
       "SUV              3173\n",
       "Station wagon    2247\n",
       "Coupe             529\n",
       "Small car         520\n",
       "Convertible       378\n",
       "Name: body, dtype: int64"
      ]
     },
     "execution_count": 87,
     "metadata": {},
     "output_type": "execute_result"
    }
   ],
   "source": [
    "df.body.value_counts()"
   ]
  },
  {
   "cell_type": "code",
   "execution_count": 88,
   "metadata": {},
   "outputs": [],
   "source": [
    "# create new column car class\n",
    "df['class'] = df['body']"
   ]
  },
  {
   "cell_type": "markdown",
   "metadata": {},
   "source": [
    "### small car"
   ]
  },
  {
   "cell_type": "code",
   "execution_count": 89,
   "metadata": {},
   "outputs": [],
   "source": [
    "# smart\n",
    "df['class'] = np.where((df['make'] == 'smart'), 'Small car', df['class'])\n",
    "\n",
    "# Polo GTI\n",
    "df['class'] = np.where((df['make'] == 'Volkswagen') & (df['model'] == 'Polo GTI') , 'Small car', df['class'])\n",
    "\n",
    "# Audi A1\n",
    "df['class'] = np.where((df['make'] == 'Audi') & (df['model'] == 'A1') , 'Small car', df['class'])\n",
    "\n",
    "# BMW i3\n",
    "df['class'] = np.where((df['make'] == 'BMW') & (df['model'] == 'i3') , 'Small car', df['class'])"
   ]
  },
  {
   "cell_type": "markdown",
   "metadata": {},
   "source": [
    "### small family car"
   ]
  },
  {
   "cell_type": "code",
   "execution_count": 90,
   "metadata": {},
   "outputs": [],
   "source": [
    "# MB A 200\n",
    "df['class'] = np.where((df['make'] == 'Mercedes-Benz') & (df['model'] == 'A 200'), 'Small family car', df['class'])\n",
    "\n",
    "# VW Golf GTI\n",
    "df['class'] = np.where((df['make'] == 'Volkswagen') & (df['model'] == 'Golf GTI') , 'Small family car', df['class'])\n",
    "\n",
    "# Audi A3\n",
    "df['class'] = np.where((df['make'] == 'Audi') & (df['model'] == 'A3') , 'Small family car', df['class'])\n",
    "\n",
    "# BMW 120\n",
    "df['class'] = np.where((df['make'] == 'BMW') & (df['model'] == '120') , 'Small family car', df['class'])"
   ]
  },
  {
   "cell_type": "markdown",
   "metadata": {},
   "source": [
    "### large family car"
   ]
  },
  {
   "cell_type": "code",
   "execution_count": 91,
   "metadata": {},
   "outputs": [],
   "source": [
    "# MB C 200\n",
    "df['class'] = np.where((df['make'] == 'Mercedes-Benz') & (df['model'] == 'C 200'), 'Large family car', df['class'])\n",
    "\n",
    "# VW Passat Variant\n",
    "df['class'] = np.where((df['make'] == 'Volkswagen') & (df['model'] == 'Passat Variant') , 'Large family car', df['class'])\n",
    "\n",
    "# Audi A5\n",
    "df['class'] = np.where((df['make'] == 'Audi') & (df['model'] == 'A5') , 'Large family car', df['class'])\n",
    "\n",
    "# BMW 330\n",
    "df['class'] = np.where((df['make'] == 'BMW') & (df['model'] == '320') , 'Large family car', df['class'])"
   ]
  },
  {
   "cell_type": "markdown",
   "metadata": {},
   "source": [
    "### compact SUV"
   ]
  },
  {
   "cell_type": "code",
   "execution_count": 92,
   "metadata": {},
   "outputs": [],
   "source": [
    "# MB GLA 200\n",
    "df['class'] = np.where((df['make'] == 'Mercedes-Benz') & (df['model'] == 'GLA 200'), 'Compact SUV', df['class'])\n",
    "\n",
    "# VW Tiguan\n",
    "df['class'] = np.where((df['make'] == 'Volkswagen') & (df['model'] == 'Tiguan') , 'Compact SUV', df['class'])\n",
    "\n",
    "# Audi Q3\n",
    "df['class'] = np.where((df['make'] == 'Audi') & (df['model'] == 'Q3') , 'Compact SUV', df['class'])\n",
    "# BMW X1\n",
    "df['class'] = np.where((df['make'] == 'BMW') & (df['model'] == 'X1') , 'Compact SUV', df['class'])"
   ]
  },
  {
   "cell_type": "markdown",
   "metadata": {},
   "source": [
    "### grouped by class, make, model"
   ]
  },
  {
   "cell_type": "code",
   "execution_count": 93,
   "metadata": {},
   "outputs": [
    {
     "data": {
      "text/plain": [
       "array(['Small car', 'Small family car', 'Large family car', 'Compact SUV'],\n",
       "      dtype=object)"
      ]
     },
     "execution_count": 93,
     "metadata": {},
     "output_type": "execute_result"
    }
   ],
   "source": [
    "df['class'].unique()"
   ]
  },
  {
   "cell_type": "code",
   "execution_count": 94,
   "metadata": {},
   "outputs": [
    {
     "data": {
      "text/plain": [
       "make           model         \n",
       "Audi           A1                 548\n",
       "               A3                1304\n",
       "               A5                1003\n",
       "               Q3                 842\n",
       "BMW            120                439\n",
       "               320                903\n",
       "               X1                 797\n",
       "               i3                 215\n",
       "Mercedes-Benz  A 200              509\n",
       "               C 200              940\n",
       "               GLA 200            492\n",
       "Volkswagen     Golf GTI           301\n",
       "               Passat Variant    1057\n",
       "               Polo GTI           190\n",
       "               Tiguan            1065\n",
       "smart          forFour            364\n",
       "Name: price, dtype: int64"
      ]
     },
     "execution_count": 94,
     "metadata": {},
     "output_type": "execute_result"
    }
   ],
   "source": [
    "df.groupby(['make', 'model']).count()['price']"
   ]
  },
  {
   "cell_type": "markdown",
   "metadata": {
    "tags": []
   },
   "source": [
    "## generate unique IDs"
   ]
  },
  {
   "cell_type": "code",
   "execution_count": 95,
   "metadata": {},
   "outputs": [
    {
     "name": "stdout",
     "output_type": "stream",
     "text": [
      "<class 'pandas.core.frame.DataFrame'>\n",
      "Int64Index: 10969 entries, 0 to 11108\n",
      "Data columns (total 18 columns):\n",
      " #   Column         Non-Null Count  Dtype  \n",
      "---  ------         --------------  -----  \n",
      " 0   make           10969 non-null  object \n",
      " 1   model          10969 non-null  object \n",
      " 2   price          10969 non-null  int64  \n",
      " 3   fuel           10969 non-null  object \n",
      " 4   mileage        10969 non-null  int64  \n",
      " 5   gear           10969 non-null  object \n",
      " 6   registration   10969 non-null  int64  \n",
      " 7   hp             10969 non-null  int64  \n",
      " 8   owner          10969 non-null  int64  \n",
      " 9   body           10969 non-null  object \n",
      " 10  car_condition  10969 non-null  object \n",
      " 11  consumption    10969 non-null  float64\n",
      " 12  emission       10969 non-null  int64  \n",
      " 13  color          10969 non-null  object \n",
      " 14  car_id         7166 non-null   object \n",
      " 15  displacement   10969 non-null  float64\n",
      " 16  drive_type     10969 non-null  object \n",
      " 17  class          10969 non-null  object \n",
      "dtypes: float64(2), int64(6), object(10)\n",
      "memory usage: 1.6+ MB\n"
     ]
    }
   ],
   "source": [
    "df.info()"
   ]
  },
  {
   "cell_type": "code",
   "execution_count": 96,
   "metadata": {},
   "outputs": [],
   "source": [
    "df['car_id'] = df['car_id'].astype(str)"
   ]
  },
  {
   "cell_type": "code",
   "execution_count": 97,
   "metadata": {},
   "outputs": [],
   "source": [
    "ddf = df[(df['car_id'].apply(len)<=5)]"
   ]
  },
  {
   "cell_type": "code",
   "execution_count": 98,
   "metadata": {},
   "outputs": [],
   "source": [
    "#function to generate random unique ids\n",
    "\n",
    "import string\n",
    "import random\n",
    "\n",
    "def ran_gen(size, chars=string.ascii_uppercase + string.digits):\n",
    "    return ''.join(random.choice(chars) for x in range(size))"
   ]
  },
  {
   "cell_type": "code",
   "execution_count": 99,
   "metadata": {},
   "outputs": [],
   "source": [
    "#generating ids using above function and assign it to dataframe df2\n",
    "\n",
    "a = []\n",
    "for i in ddf['car_id']:\n",
    "    i = ran_gen(8, \"AEIOS56723\")\n",
    "    a.append(i)\n",
    "    \n",
    "ddf['car_id'] = a"
   ]
  },
  {
   "cell_type": "code",
   "execution_count": 100,
   "metadata": {},
   "outputs": [],
   "source": [
    "df.update(ddf)"
   ]
  },
  {
   "cell_type": "code",
   "execution_count": 101,
   "metadata": {},
   "outputs": [
    {
     "data": {
      "text/plain": [
       "3614358     4\n",
       "TS-Q3035    3\n",
       "3615025     3\n",
       "235762      3\n",
       "GW-K115     3\n",
       "           ..\n",
       "13-33373    1\n",
       "IIAAOA3I    1\n",
       "72236OA7    1\n",
       "IS5OIIAE    1\n",
       "OI37I3E6    1\n",
       "Name: car_id, Length: 10798, dtype: int64"
      ]
     },
     "execution_count": 101,
     "metadata": {},
     "output_type": "execute_result"
    }
   ],
   "source": [
    "df['car_id'].value_counts()"
   ]
  },
  {
   "cell_type": "code",
   "execution_count": 102,
   "metadata": {},
   "outputs": [
    {
     "data": {
      "text/html": [
       "<div>\n",
       "<style scoped>\n",
       "    .dataframe tbody tr th:only-of-type {\n",
       "        vertical-align: middle;\n",
       "    }\n",
       "\n",
       "    .dataframe tbody tr th {\n",
       "        vertical-align: top;\n",
       "    }\n",
       "\n",
       "    .dataframe thead th {\n",
       "        text-align: right;\n",
       "    }\n",
       "</style>\n",
       "<table border=\"1\" class=\"dataframe\">\n",
       "  <thead>\n",
       "    <tr style=\"text-align: right;\">\n",
       "      <th></th>\n",
       "      <th>make</th>\n",
       "      <th>model</th>\n",
       "      <th>price</th>\n",
       "      <th>fuel</th>\n",
       "      <th>mileage</th>\n",
       "      <th>gear</th>\n",
       "      <th>registration</th>\n",
       "      <th>hp</th>\n",
       "      <th>owner</th>\n",
       "      <th>body</th>\n",
       "      <th>car_condition</th>\n",
       "      <th>consumption</th>\n",
       "      <th>emission</th>\n",
       "      <th>color</th>\n",
       "      <th>car_id</th>\n",
       "      <th>displacement</th>\n",
       "      <th>drive_type</th>\n",
       "      <th>class</th>\n",
       "    </tr>\n",
       "  </thead>\n",
       "  <tbody>\n",
       "    <tr>\n",
       "      <th>0</th>\n",
       "      <td>Volkswagen</td>\n",
       "      <td>Polo GTI</td>\n",
       "      <td>34690.00</td>\n",
       "      <td>Petrol</td>\n",
       "      <td>10.00</td>\n",
       "      <td>Automatic</td>\n",
       "      <td>2023.00</td>\n",
       "      <td>152.00</td>\n",
       "      <td>1.00</td>\n",
       "      <td>Sedan</td>\n",
       "      <td>Demonstration vehicle</td>\n",
       "      <td>4.20</td>\n",
       "      <td>138.00</td>\n",
       "      <td>Gray</td>\n",
       "      <td>35OI76IE</td>\n",
       "      <td>1.98</td>\n",
       "      <td>Front</td>\n",
       "      <td>Small car</td>\n",
       "    </tr>\n",
       "    <tr>\n",
       "      <th>1</th>\n",
       "      <td>Volkswagen</td>\n",
       "      <td>Polo GTI</td>\n",
       "      <td>34950.00</td>\n",
       "      <td>Petrol</td>\n",
       "      <td>1500.00</td>\n",
       "      <td>Automatic</td>\n",
       "      <td>2023.00</td>\n",
       "      <td>152.00</td>\n",
       "      <td>1.00</td>\n",
       "      <td>Sedan</td>\n",
       "      <td>Demonstration vehicle</td>\n",
       "      <td>6.60</td>\n",
       "      <td>138.00</td>\n",
       "      <td>Black</td>\n",
       "      <td>363794549</td>\n",
       "      <td>2.00</td>\n",
       "      <td>Rear</td>\n",
       "      <td>Small car</td>\n",
       "    </tr>\n",
       "    <tr>\n",
       "      <th>2</th>\n",
       "      <td>Volkswagen</td>\n",
       "      <td>Polo GTI</td>\n",
       "      <td>29990.00</td>\n",
       "      <td>Petrol</td>\n",
       "      <td>9000.00</td>\n",
       "      <td>Automatic</td>\n",
       "      <td>2023.00</td>\n",
       "      <td>152.00</td>\n",
       "      <td>1.00</td>\n",
       "      <td>Sedan</td>\n",
       "      <td>Demonstration vehicle</td>\n",
       "      <td>7.40</td>\n",
       "      <td>138.00</td>\n",
       "      <td>White</td>\n",
       "      <td>NU057791</td>\n",
       "      <td>1.98</td>\n",
       "      <td>Front</td>\n",
       "      <td>Small car</td>\n",
       "    </tr>\n",
       "    <tr>\n",
       "      <th>3</th>\n",
       "      <td>Volkswagen</td>\n",
       "      <td>Polo GTI</td>\n",
       "      <td>33989.00</td>\n",
       "      <td>Petrol</td>\n",
       "      <td>3511.00</td>\n",
       "      <td>Automatic</td>\n",
       "      <td>2023.00</td>\n",
       "      <td>152.00</td>\n",
       "      <td>1.00</td>\n",
       "      <td>Sedan</td>\n",
       "      <td>Demonstration vehicle</td>\n",
       "      <td>5.80</td>\n",
       "      <td>138.00</td>\n",
       "      <td>Black</td>\n",
       "      <td>04197NPVFW</td>\n",
       "      <td>1.98</td>\n",
       "      <td>Front</td>\n",
       "      <td>Small car</td>\n",
       "    </tr>\n",
       "    <tr>\n",
       "      <th>4</th>\n",
       "      <td>Volkswagen</td>\n",
       "      <td>Polo GTI</td>\n",
       "      <td>37980.00</td>\n",
       "      <td>Petrol</td>\n",
       "      <td>211.00</td>\n",
       "      <td>Automatic</td>\n",
       "      <td>2023.00</td>\n",
       "      <td>152.00</td>\n",
       "      <td>1.00</td>\n",
       "      <td>Small car</td>\n",
       "      <td>Demonstration vehicle</td>\n",
       "      <td>5.70</td>\n",
       "      <td>138.00</td>\n",
       "      <td>White</td>\n",
       "      <td>VFW028766</td>\n",
       "      <td>1.98</td>\n",
       "      <td>Front</td>\n",
       "      <td>Small car</td>\n",
       "    </tr>\n",
       "    <tr>\n",
       "      <th>...</th>\n",
       "      <td>...</td>\n",
       "      <td>...</td>\n",
       "      <td>...</td>\n",
       "      <td>...</td>\n",
       "      <td>...</td>\n",
       "      <td>...</td>\n",
       "      <td>...</td>\n",
       "      <td>...</td>\n",
       "      <td>...</td>\n",
       "      <td>...</td>\n",
       "      <td>...</td>\n",
       "      <td>...</td>\n",
       "      <td>...</td>\n",
       "      <td>...</td>\n",
       "      <td>...</td>\n",
       "      <td>...</td>\n",
       "      <td>...</td>\n",
       "      <td>...</td>\n",
       "    </tr>\n",
       "    <tr>\n",
       "      <th>11104</th>\n",
       "      <td>BMW</td>\n",
       "      <td>X1</td>\n",
       "      <td>35994.00</td>\n",
       "      <td>Electro/Petrol</td>\n",
       "      <td>32082.00</td>\n",
       "      <td>Automatic</td>\n",
       "      <td>2020.00</td>\n",
       "      <td>162.00</td>\n",
       "      <td>1.00</td>\n",
       "      <td>SUV</td>\n",
       "      <td>Used</td>\n",
       "      <td>1.90</td>\n",
       "      <td>43.00</td>\n",
       "      <td>Black</td>\n",
       "      <td>130645</td>\n",
       "      <td>1.50</td>\n",
       "      <td>Four.w.d</td>\n",
       "      <td>Compact SUV</td>\n",
       "    </tr>\n",
       "    <tr>\n",
       "      <th>11105</th>\n",
       "      <td>BMW</td>\n",
       "      <td>X1</td>\n",
       "      <td>38200.00</td>\n",
       "      <td>Electro/Petrol</td>\n",
       "      <td>13000.00</td>\n",
       "      <td>Automatic</td>\n",
       "      <td>2020.00</td>\n",
       "      <td>92.00</td>\n",
       "      <td>1.00</td>\n",
       "      <td>SUV</td>\n",
       "      <td>Used</td>\n",
       "      <td>1.90</td>\n",
       "      <td>43.00</td>\n",
       "      <td>Blue</td>\n",
       "      <td>SAI33O32</td>\n",
       "      <td>1.50</td>\n",
       "      <td>Four.w.d</td>\n",
       "      <td>Compact SUV</td>\n",
       "    </tr>\n",
       "    <tr>\n",
       "      <th>11106</th>\n",
       "      <td>Volkswagen</td>\n",
       "      <td>Passat Variant</td>\n",
       "      <td>35185.00</td>\n",
       "      <td>Electro/Petrol</td>\n",
       "      <td>75226.00</td>\n",
       "      <td>Automatic</td>\n",
       "      <td>2019.00</td>\n",
       "      <td>115.00</td>\n",
       "      <td>1.00</td>\n",
       "      <td>Station wagon</td>\n",
       "      <td>Used</td>\n",
       "      <td>1.70</td>\n",
       "      <td>38.00</td>\n",
       "      <td>Silver</td>\n",
       "      <td>AOS62567</td>\n",
       "      <td>1.40</td>\n",
       "      <td>Front</td>\n",
       "      <td>Large family car</td>\n",
       "    </tr>\n",
       "    <tr>\n",
       "      <th>11107</th>\n",
       "      <td>Audi</td>\n",
       "      <td>A3</td>\n",
       "      <td>24980.00</td>\n",
       "      <td>Electro/Petrol</td>\n",
       "      <td>57509.00</td>\n",
       "      <td>Automatic</td>\n",
       "      <td>2018.00</td>\n",
       "      <td>150.00</td>\n",
       "      <td>1.00</td>\n",
       "      <td>Sedan</td>\n",
       "      <td>Used</td>\n",
       "      <td>1.80</td>\n",
       "      <td>40.00</td>\n",
       "      <td>Red</td>\n",
       "      <td>72O3IEAS</td>\n",
       "      <td>1.40</td>\n",
       "      <td>Front</td>\n",
       "      <td>Small family car</td>\n",
       "    </tr>\n",
       "    <tr>\n",
       "      <th>11108</th>\n",
       "      <td>Audi</td>\n",
       "      <td>A3</td>\n",
       "      <td>24480.00</td>\n",
       "      <td>Electro/Petrol</td>\n",
       "      <td>89676.00</td>\n",
       "      <td>Automatic</td>\n",
       "      <td>2018.00</td>\n",
       "      <td>150.00</td>\n",
       "      <td>1.00</td>\n",
       "      <td>Sedan</td>\n",
       "      <td>Used</td>\n",
       "      <td>1.80</td>\n",
       "      <td>40.00</td>\n",
       "      <td>White</td>\n",
       "      <td>OI37I3E6</td>\n",
       "      <td>1.40</td>\n",
       "      <td>Front</td>\n",
       "      <td>Small family car</td>\n",
       "    </tr>\n",
       "  </tbody>\n",
       "</table>\n",
       "<p>10969 rows × 18 columns</p>\n",
       "</div>"
      ],
      "text/plain": [
       "             make           model    price            fuel  mileage  \\\n",
       "0      Volkswagen        Polo GTI 34690.00          Petrol    10.00   \n",
       "1      Volkswagen        Polo GTI 34950.00          Petrol  1500.00   \n",
       "2      Volkswagen        Polo GTI 29990.00          Petrol  9000.00   \n",
       "3      Volkswagen        Polo GTI 33989.00          Petrol  3511.00   \n",
       "4      Volkswagen        Polo GTI 37980.00          Petrol   211.00   \n",
       "...           ...             ...      ...             ...      ...   \n",
       "11104         BMW              X1 35994.00  Electro/Petrol 32082.00   \n",
       "11105         BMW              X1 38200.00  Electro/Petrol 13000.00   \n",
       "11106  Volkswagen  Passat Variant 35185.00  Electro/Petrol 75226.00   \n",
       "11107        Audi              A3 24980.00  Electro/Petrol 57509.00   \n",
       "11108        Audi              A3 24480.00  Electro/Petrol 89676.00   \n",
       "\n",
       "            gear  registration     hp  owner           body  \\\n",
       "0      Automatic       2023.00 152.00   1.00          Sedan   \n",
       "1      Automatic       2023.00 152.00   1.00          Sedan   \n",
       "2      Automatic       2023.00 152.00   1.00          Sedan   \n",
       "3      Automatic       2023.00 152.00   1.00          Sedan   \n",
       "4      Automatic       2023.00 152.00   1.00      Small car   \n",
       "...          ...           ...    ...    ...            ...   \n",
       "11104  Automatic       2020.00 162.00   1.00            SUV   \n",
       "11105  Automatic       2020.00  92.00   1.00            SUV   \n",
       "11106  Automatic       2019.00 115.00   1.00  Station wagon   \n",
       "11107  Automatic       2018.00 150.00   1.00          Sedan   \n",
       "11108  Automatic       2018.00 150.00   1.00          Sedan   \n",
       "\n",
       "               car_condition  consumption  emission   color      car_id  \\\n",
       "0      Demonstration vehicle         4.20    138.00    Gray    35OI76IE   \n",
       "1      Demonstration vehicle         6.60    138.00   Black   363794549   \n",
       "2      Demonstration vehicle         7.40    138.00   White    NU057791   \n",
       "3      Demonstration vehicle         5.80    138.00   Black  04197NPVFW   \n",
       "4      Demonstration vehicle         5.70    138.00   White   VFW028766   \n",
       "...                      ...          ...       ...     ...         ...   \n",
       "11104                   Used         1.90     43.00   Black      130645   \n",
       "11105                   Used         1.90     43.00    Blue    SAI33O32   \n",
       "11106                   Used         1.70     38.00  Silver    AOS62567   \n",
       "11107                   Used         1.80     40.00     Red    72O3IEAS   \n",
       "11108                   Used         1.80     40.00   White    OI37I3E6   \n",
       "\n",
       "       displacement drive_type             class  \n",
       "0              1.98      Front         Small car  \n",
       "1              2.00       Rear         Small car  \n",
       "2              1.98      Front         Small car  \n",
       "3              1.98      Front         Small car  \n",
       "4              1.98      Front         Small car  \n",
       "...             ...        ...               ...  \n",
       "11104          1.50   Four.w.d       Compact SUV  \n",
       "11105          1.50   Four.w.d       Compact SUV  \n",
       "11106          1.40      Front  Large family car  \n",
       "11107          1.40      Front  Small family car  \n",
       "11108          1.40      Front  Small family car  \n",
       "\n",
       "[10969 rows x 18 columns]"
      ]
     },
     "execution_count": 102,
     "metadata": {},
     "output_type": "execute_result"
    }
   ],
   "source": [
    "df"
   ]
  },
  {
   "cell_type": "markdown",
   "metadata": {},
   "source": [
    "## colum car age"
   ]
  },
  {
   "cell_type": "code",
   "execution_count": 103,
   "metadata": {},
   "outputs": [],
   "source": [
    "df['car_age'] = 2023-df['registration']"
   ]
  },
  {
   "cell_type": "code",
   "execution_count": 104,
   "metadata": {},
   "outputs": [
    {
     "data": {
      "text/plain": [
       "array([ 0.,  1.,  2.,  3.,  4.,  5.,  6.,  7.,  8.,  9., 10., 11., 12.,\n",
       "       13., 14., 15., 16.])"
      ]
     },
     "execution_count": 104,
     "metadata": {},
     "output_type": "execute_result"
    }
   ],
   "source": [
    "df['car_age'].unique()"
   ]
  },
  {
   "cell_type": "markdown",
   "metadata": {},
   "source": [
    "## cleaning values"
   ]
  },
  {
   "cell_type": "code",
   "execution_count": 105,
   "metadata": {},
   "outputs": [
    {
     "name": "stdout",
     "output_type": "stream",
     "text": [
      "make - 5\n",
      "model - 16\n",
      "price - 3390\n",
      "fuel - 6\n",
      "mileage - 5881\n",
      "gear - 3\n",
      "registration - 17\n",
      "hp - 72\n",
      "owner - 7\n",
      "body - 6\n",
      "car_condition - 5\n",
      "consumption - 81\n",
      "emission - 156\n",
      "color - 15\n",
      "car_id - 10798\n",
      "displacement - 53\n",
      "drive_type - 3\n",
      "class - 4\n",
      "car_age - 17\n"
     ]
    }
   ],
   "source": [
    "#Getting unique values counts for each column\n",
    "for col in df.columns:\n",
    "    print(f\"{col} - {df[col].nunique()}\")"
   ]
  },
  {
   "cell_type": "code",
   "execution_count": 106,
   "metadata": {},
   "outputs": [
    {
     "name": "stdout",
     "output_type": "stream",
     "text": [
      "fuel\n",
      "--------\n",
      "Petrol            5149\n",
      "Diesel            4829\n",
      "Electro/Petrol     551\n",
      "Electro            436\n",
      "Electro/Diesel       3\n",
      "Other                1\n",
      "Name: fuel, dtype: int64\n",
      "========================================\n",
      "hp\n",
      "--------\n",
      "110.00    2152\n",
      "140.00    1212\n",
      "135.00    1067\n",
      "120.00     631\n",
      "103.00     451\n",
      "          ... \n",
      "137.00       1\n",
      "164.00       1\n",
      "243.00       1\n",
      "284.00       1\n",
      "217.00       1\n",
      "Name: hp, Length: 72, dtype: int64\n",
      "========================================\n",
      "displacement\n",
      "--------\n",
      "1.97    2342\n",
      "2.00    1543\n",
      "1.98    1293\n",
      "1.40     792\n",
      "1.50     559\n",
      "1.33     507\n",
      "1.00     459\n",
      "2.00     403\n",
      "1.50     402\n",
      "1.39     306\n",
      "1.60     276\n",
      "1.95     258\n",
      "1.80     209\n",
      "1.59     202\n",
      "2.14     187\n",
      "2.97     180\n",
      "1.50     176\n",
      "1.99     145\n",
      "1.80     127\n",
      "1.60     121\n",
      "1.50     106\n",
      "1.20      77\n",
      "0.90      64\n",
      "1.99      29\n",
      "2.15      28\n",
      "1.42      28\n",
      "2.00      25\n",
      "2.70      21\n",
      "1.90      18\n",
      "2.00      16\n",
      "3.00      14\n",
      "1.50      10\n",
      "1.00       6\n",
      "3.20       6\n",
      "1.40       3\n",
      "1.00       3\n",
      "1.97       3\n",
      "1.40       3\n",
      "0.00       3\n",
      "1.78       2\n",
      "0.65       2\n",
      "2.00       2\n",
      "1.99       2\n",
      "1.60       2\n",
      "1.50       1\n",
      "2.27       1\n",
      "1.58       1\n",
      "2.20       1\n",
      "1.59       1\n",
      "1.96       1\n",
      "0.85       1\n",
      "1.12       1\n",
      "1.80       1\n",
      "Name: displacement, dtype: int64\n",
      "========================================\n"
     ]
    }
   ],
   "source": [
    "for col in df[['fuel', 'hp', 'displacement']]:\n",
    "    print(f\"{col}\")\n",
    "    print('--'*4)\n",
    "    print(f\"{df[col].value_counts()}\")\n",
    "    print('=='*20)"
   ]
  },
  {
   "cell_type": "code",
   "execution_count": 107,
   "metadata": {},
   "outputs": [
    {
     "data": {
      "text/html": [
       "<div>\n",
       "<style scoped>\n",
       "    .dataframe tbody tr th:only-of-type {\n",
       "        vertical-align: middle;\n",
       "    }\n",
       "\n",
       "    .dataframe tbody tr th {\n",
       "        vertical-align: top;\n",
       "    }\n",
       "\n",
       "    .dataframe thead th {\n",
       "        text-align: right;\n",
       "    }\n",
       "</style>\n",
       "<table border=\"1\" class=\"dataframe\">\n",
       "  <thead>\n",
       "    <tr style=\"text-align: right;\">\n",
       "      <th></th>\n",
       "      <th>make</th>\n",
       "      <th>model</th>\n",
       "      <th>price</th>\n",
       "      <th>fuel</th>\n",
       "      <th>mileage</th>\n",
       "      <th>gear</th>\n",
       "      <th>registration</th>\n",
       "      <th>hp</th>\n",
       "      <th>owner</th>\n",
       "      <th>body</th>\n",
       "      <th>car_condition</th>\n",
       "      <th>consumption</th>\n",
       "      <th>emission</th>\n",
       "      <th>color</th>\n",
       "      <th>car_id</th>\n",
       "      <th>displacement</th>\n",
       "      <th>drive_type</th>\n",
       "      <th>class</th>\n",
       "      <th>car_age</th>\n",
       "    </tr>\n",
       "  </thead>\n",
       "  <tbody>\n",
       "    <tr>\n",
       "      <th>115</th>\n",
       "      <td>BMW</td>\n",
       "      <td>120</td>\n",
       "      <td>41690.00</td>\n",
       "      <td>Other</td>\n",
       "      <td>1412.00</td>\n",
       "      <td>Automatic</td>\n",
       "      <td>2023.00</td>\n",
       "      <td>131.00</td>\n",
       "      <td>1.00</td>\n",
       "      <td>Sedan</td>\n",
       "      <td>Demonstration vehicle</td>\n",
       "      <td>1.40</td>\n",
       "      <td>24.00</td>\n",
       "      <td>Black</td>\n",
       "      <td>2945886</td>\n",
       "      <td>1.40</td>\n",
       "      <td>Front</td>\n",
       "      <td>Small family car</td>\n",
       "      <td>0.00</td>\n",
       "    </tr>\n",
       "  </tbody>\n",
       "</table>\n",
       "</div>"
      ],
      "text/plain": [
       "    make model    price   fuel  mileage       gear  registration     hp  \\\n",
       "115  BMW   120 41690.00  Other  1412.00  Automatic       2023.00 131.00   \n",
       "\n",
       "     owner   body          car_condition  consumption  emission  color  \\\n",
       "115   1.00  Sedan  Demonstration vehicle         1.40     24.00  Black   \n",
       "\n",
       "      car_id  displacement drive_type             class  car_age  \n",
       "115  2945886          1.40      Front  Small family car     0.00  "
      ]
     },
     "execution_count": 107,
     "metadata": {},
     "output_type": "execute_result"
    }
   ],
   "source": [
    "df[df['fuel'] == 'Other']"
   ]
  },
  {
   "cell_type": "code",
   "execution_count": 108,
   "metadata": {},
   "outputs": [],
   "source": [
    "# Drop One Value \"other\" in col['Fuel']\n",
    "df = df.drop([115])"
   ]
  },
  {
   "cell_type": "code",
   "execution_count": 109,
   "metadata": {},
   "outputs": [],
   "source": [
    "# restrict car age range for 10/11 years, as there cars only with first registration in 2022\n",
    "df = df[df['registration']>2011]"
   ]
  },
  {
   "cell_type": "markdown",
   "metadata": {},
   "source": [
    "### clean price column"
   ]
  },
  {
   "cell_type": "markdown",
   "metadata": {},
   "source": [
    "- there are prices less then a 3500\n",
    "- after checking on AutoScout its clear, that these are ranges for leasing\n",
    "- this cars can be deleted"
   ]
  },
  {
   "cell_type": "code",
   "execution_count": 110,
   "metadata": {},
   "outputs": [],
   "source": [
    "df = df[(df['price']>3500)]"
   ]
  },
  {
   "cell_type": "markdown",
   "metadata": {},
   "source": [
    "### Clean owner values"
   ]
  },
  {
   "cell_type": "code",
   "execution_count": 111,
   "metadata": {},
   "outputs": [
    {
     "data": {
      "text/html": [
       "<div>\n",
       "<style scoped>\n",
       "    .dataframe tbody tr th:only-of-type {\n",
       "        vertical-align: middle;\n",
       "    }\n",
       "\n",
       "    .dataframe tbody tr th {\n",
       "        vertical-align: top;\n",
       "    }\n",
       "\n",
       "    .dataframe thead th {\n",
       "        text-align: right;\n",
       "    }\n",
       "</style>\n",
       "<table border=\"1\" class=\"dataframe\">\n",
       "  <thead>\n",
       "    <tr style=\"text-align: right;\">\n",
       "      <th></th>\n",
       "      <th>make</th>\n",
       "      <th>model</th>\n",
       "      <th>price</th>\n",
       "      <th>fuel</th>\n",
       "      <th>mileage</th>\n",
       "      <th>gear</th>\n",
       "      <th>registration</th>\n",
       "      <th>hp</th>\n",
       "      <th>owner</th>\n",
       "      <th>body</th>\n",
       "      <th>car_condition</th>\n",
       "      <th>consumption</th>\n",
       "      <th>emission</th>\n",
       "      <th>color</th>\n",
       "      <th>car_id</th>\n",
       "      <th>displacement</th>\n",
       "      <th>drive_type</th>\n",
       "      <th>class</th>\n",
       "      <th>car_age</th>\n",
       "    </tr>\n",
       "  </thead>\n",
       "  <tbody>\n",
       "  </tbody>\n",
       "</table>\n",
       "</div>"
      ],
      "text/plain": [
       "Empty DataFrame\n",
       "Columns: [make, model, price, fuel, mileage, gear, registration, hp, owner, body, car_condition, consumption, emission, color, car_id, displacement, drive_type, class, car_age]\n",
       "Index: []"
      ]
     },
     "execution_count": 111,
     "metadata": {},
     "output_type": "execute_result"
    }
   ],
   "source": [
    "df[df['owner'] == 0]"
   ]
  },
  {
   "cell_type": "code",
   "execution_count": 112,
   "metadata": {},
   "outputs": [
    {
     "data": {
      "text/plain": [
       "5.00    3\n",
       "6.00    3\n",
       "7.00    1\n",
       "Name: owner, dtype: int64"
      ]
     },
     "execution_count": 112,
     "metadata": {},
     "output_type": "execute_result"
    }
   ],
   "source": [
    "df_owner_over_4 = df[df['owner'] > 4]\n",
    "df_owner_over_4.owner.value_counts()"
   ]
  },
  {
   "cell_type": "code",
   "execution_count": 113,
   "metadata": {},
   "outputs": [],
   "source": [
    "df = df[df['owner'] <=4]"
   ]
  },
  {
   "cell_type": "markdown",
   "metadata": {},
   "source": [
    "### clean fuel values"
   ]
  },
  {
   "cell_type": "code",
   "execution_count": 114,
   "metadata": {},
   "outputs": [],
   "source": [
    "df = df[(df['fuel'] != 'Electro/Diesel') & (df['fuel'] != 'Electro/Petrol')]"
   ]
  },
  {
   "cell_type": "markdown",
   "metadata": {},
   "source": [
    "# create column make-model"
   ]
  },
  {
   "cell_type": "code",
   "execution_count": 115,
   "metadata": {},
   "outputs": [],
   "source": [
    "df[\"car\"] = df[\"make\"] + ' ' + df[\"model\"]"
   ]
  },
  {
   "cell_type": "code",
   "execution_count": 116,
   "metadata": {},
   "outputs": [
    {
     "data": {
      "text/html": [
       "<div>\n",
       "<style scoped>\n",
       "    .dataframe tbody tr th:only-of-type {\n",
       "        vertical-align: middle;\n",
       "    }\n",
       "\n",
       "    .dataframe tbody tr th {\n",
       "        vertical-align: top;\n",
       "    }\n",
       "\n",
       "    .dataframe thead th {\n",
       "        text-align: right;\n",
       "    }\n",
       "</style>\n",
       "<table border=\"1\" class=\"dataframe\">\n",
       "  <thead>\n",
       "    <tr style=\"text-align: right;\">\n",
       "      <th></th>\n",
       "      <th>make</th>\n",
       "      <th>model</th>\n",
       "      <th>price</th>\n",
       "      <th>fuel</th>\n",
       "      <th>mileage</th>\n",
       "      <th>gear</th>\n",
       "      <th>registration</th>\n",
       "      <th>hp</th>\n",
       "      <th>owner</th>\n",
       "      <th>body</th>\n",
       "      <th>car_condition</th>\n",
       "      <th>consumption</th>\n",
       "      <th>emission</th>\n",
       "      <th>color</th>\n",
       "      <th>displacement</th>\n",
       "      <th>drive_type</th>\n",
       "      <th>class</th>\n",
       "      <th>car_age</th>\n",
       "      <th>car</th>\n",
       "    </tr>\n",
       "  </thead>\n",
       "  <tbody>\n",
       "    <tr>\n",
       "      <th>0</th>\n",
       "      <td>Volkswagen</td>\n",
       "      <td>Polo GTI</td>\n",
       "      <td>34690.00</td>\n",
       "      <td>Petrol</td>\n",
       "      <td>10.00</td>\n",
       "      <td>Automatic</td>\n",
       "      <td>2023.00</td>\n",
       "      <td>152.00</td>\n",
       "      <td>1.00</td>\n",
       "      <td>Sedan</td>\n",
       "      <td>Demonstration vehicle</td>\n",
       "      <td>4.20</td>\n",
       "      <td>138.00</td>\n",
       "      <td>Gray</td>\n",
       "      <td>1.98</td>\n",
       "      <td>Front</td>\n",
       "      <td>Small car</td>\n",
       "      <td>0.00</td>\n",
       "      <td>Volkswagen Polo GTI</td>\n",
       "    </tr>\n",
       "    <tr>\n",
       "      <th>1</th>\n",
       "      <td>Volkswagen</td>\n",
       "      <td>Polo GTI</td>\n",
       "      <td>34950.00</td>\n",
       "      <td>Petrol</td>\n",
       "      <td>1500.00</td>\n",
       "      <td>Automatic</td>\n",
       "      <td>2023.00</td>\n",
       "      <td>152.00</td>\n",
       "      <td>1.00</td>\n",
       "      <td>Sedan</td>\n",
       "      <td>Demonstration vehicle</td>\n",
       "      <td>6.60</td>\n",
       "      <td>138.00</td>\n",
       "      <td>Black</td>\n",
       "      <td>2.00</td>\n",
       "      <td>Rear</td>\n",
       "      <td>Small car</td>\n",
       "      <td>0.00</td>\n",
       "      <td>Volkswagen Polo GTI</td>\n",
       "    </tr>\n",
       "    <tr>\n",
       "      <th>2</th>\n",
       "      <td>Volkswagen</td>\n",
       "      <td>Polo GTI</td>\n",
       "      <td>29990.00</td>\n",
       "      <td>Petrol</td>\n",
       "      <td>9000.00</td>\n",
       "      <td>Automatic</td>\n",
       "      <td>2023.00</td>\n",
       "      <td>152.00</td>\n",
       "      <td>1.00</td>\n",
       "      <td>Sedan</td>\n",
       "      <td>Demonstration vehicle</td>\n",
       "      <td>7.40</td>\n",
       "      <td>138.00</td>\n",
       "      <td>White</td>\n",
       "      <td>1.98</td>\n",
       "      <td>Front</td>\n",
       "      <td>Small car</td>\n",
       "      <td>0.00</td>\n",
       "      <td>Volkswagen Polo GTI</td>\n",
       "    </tr>\n",
       "    <tr>\n",
       "      <th>3</th>\n",
       "      <td>Volkswagen</td>\n",
       "      <td>Polo GTI</td>\n",
       "      <td>33989.00</td>\n",
       "      <td>Petrol</td>\n",
       "      <td>3511.00</td>\n",
       "      <td>Automatic</td>\n",
       "      <td>2023.00</td>\n",
       "      <td>152.00</td>\n",
       "      <td>1.00</td>\n",
       "      <td>Sedan</td>\n",
       "      <td>Demonstration vehicle</td>\n",
       "      <td>5.80</td>\n",
       "      <td>138.00</td>\n",
       "      <td>Black</td>\n",
       "      <td>1.98</td>\n",
       "      <td>Front</td>\n",
       "      <td>Small car</td>\n",
       "      <td>0.00</td>\n",
       "      <td>Volkswagen Polo GTI</td>\n",
       "    </tr>\n",
       "    <tr>\n",
       "      <th>4</th>\n",
       "      <td>Volkswagen</td>\n",
       "      <td>Polo GTI</td>\n",
       "      <td>37980.00</td>\n",
       "      <td>Petrol</td>\n",
       "      <td>211.00</td>\n",
       "      <td>Automatic</td>\n",
       "      <td>2023.00</td>\n",
       "      <td>152.00</td>\n",
       "      <td>1.00</td>\n",
       "      <td>Small car</td>\n",
       "      <td>Demonstration vehicle</td>\n",
       "      <td>5.70</td>\n",
       "      <td>138.00</td>\n",
       "      <td>White</td>\n",
       "      <td>1.98</td>\n",
       "      <td>Front</td>\n",
       "      <td>Small car</td>\n",
       "      <td>0.00</td>\n",
       "      <td>Volkswagen Polo GTI</td>\n",
       "    </tr>\n",
       "    <tr>\n",
       "      <th>...</th>\n",
       "      <td>...</td>\n",
       "      <td>...</td>\n",
       "      <td>...</td>\n",
       "      <td>...</td>\n",
       "      <td>...</td>\n",
       "      <td>...</td>\n",
       "      <td>...</td>\n",
       "      <td>...</td>\n",
       "      <td>...</td>\n",
       "      <td>...</td>\n",
       "      <td>...</td>\n",
       "      <td>...</td>\n",
       "      <td>...</td>\n",
       "      <td>...</td>\n",
       "      <td>...</td>\n",
       "      <td>...</td>\n",
       "      <td>...</td>\n",
       "      <td>...</td>\n",
       "      <td>...</td>\n",
       "    </tr>\n",
       "    <tr>\n",
       "      <th>11017</th>\n",
       "      <td>BMW</td>\n",
       "      <td>i3</td>\n",
       "      <td>24500.00</td>\n",
       "      <td>Electro</td>\n",
       "      <td>41800.00</td>\n",
       "      <td>Automatic</td>\n",
       "      <td>2018.00</td>\n",
       "      <td>135.00</td>\n",
       "      <td>2.00</td>\n",
       "      <td>Small car</td>\n",
       "      <td>Used</td>\n",
       "      <td>0.00</td>\n",
       "      <td>0.00</td>\n",
       "      <td>Gray</td>\n",
       "      <td>1.50</td>\n",
       "      <td>Rear</td>\n",
       "      <td>Small car</td>\n",
       "      <td>5.00</td>\n",
       "      <td>BMW i3</td>\n",
       "    </tr>\n",
       "    <tr>\n",
       "      <th>11018</th>\n",
       "      <td>BMW</td>\n",
       "      <td>i3</td>\n",
       "      <td>19750.00</td>\n",
       "      <td>Electro</td>\n",
       "      <td>35846.00</td>\n",
       "      <td>Automatic</td>\n",
       "      <td>2018.00</td>\n",
       "      <td>125.00</td>\n",
       "      <td>1.00</td>\n",
       "      <td>Sedan</td>\n",
       "      <td>Used</td>\n",
       "      <td>0.00</td>\n",
       "      <td>0.00</td>\n",
       "      <td>Black</td>\n",
       "      <td>1.50</td>\n",
       "      <td>Rear</td>\n",
       "      <td>Small car</td>\n",
       "      <td>5.00</td>\n",
       "      <td>BMW i3</td>\n",
       "    </tr>\n",
       "    <tr>\n",
       "      <th>11020</th>\n",
       "      <td>BMW</td>\n",
       "      <td>i3</td>\n",
       "      <td>19999.00</td>\n",
       "      <td>Electro</td>\n",
       "      <td>34300.00</td>\n",
       "      <td>Automatic</td>\n",
       "      <td>2018.00</td>\n",
       "      <td>125.00</td>\n",
       "      <td>1.00</td>\n",
       "      <td>Small car</td>\n",
       "      <td>Used</td>\n",
       "      <td>0.00</td>\n",
       "      <td>0.00</td>\n",
       "      <td>Black</td>\n",
       "      <td>1.50</td>\n",
       "      <td>Rear</td>\n",
       "      <td>Small car</td>\n",
       "      <td>5.00</td>\n",
       "      <td>BMW i3</td>\n",
       "    </tr>\n",
       "    <tr>\n",
       "      <th>11021</th>\n",
       "      <td>BMW</td>\n",
       "      <td>i3</td>\n",
       "      <td>21999.00</td>\n",
       "      <td>Electro</td>\n",
       "      <td>46000.00</td>\n",
       "      <td>Automatic</td>\n",
       "      <td>2018.00</td>\n",
       "      <td>75.00</td>\n",
       "      <td>2.00</td>\n",
       "      <td>Small car</td>\n",
       "      <td>Used</td>\n",
       "      <td>0.00</td>\n",
       "      <td>0.00</td>\n",
       "      <td>Gray</td>\n",
       "      <td>1.50</td>\n",
       "      <td>Rear</td>\n",
       "      <td>Small car</td>\n",
       "      <td>5.00</td>\n",
       "      <td>BMW i3</td>\n",
       "    </tr>\n",
       "    <tr>\n",
       "      <th>11022</th>\n",
       "      <td>BMW</td>\n",
       "      <td>i3</td>\n",
       "      <td>29490.00</td>\n",
       "      <td>Electro</td>\n",
       "      <td>42295.00</td>\n",
       "      <td>Automatic</td>\n",
       "      <td>2018.00</td>\n",
       "      <td>125.00</td>\n",
       "      <td>1.00</td>\n",
       "      <td>Sedan</td>\n",
       "      <td>Used</td>\n",
       "      <td>0.00</td>\n",
       "      <td>0.00</td>\n",
       "      <td>Red</td>\n",
       "      <td>1.50</td>\n",
       "      <td>Rear</td>\n",
       "      <td>Small car</td>\n",
       "      <td>5.00</td>\n",
       "      <td>BMW i3</td>\n",
       "    </tr>\n",
       "  </tbody>\n",
       "</table>\n",
       "<p>9158 rows × 19 columns</p>\n",
       "</div>"
      ],
      "text/plain": [
       "             make     model    price     fuel  mileage       gear  \\\n",
       "0      Volkswagen  Polo GTI 34690.00   Petrol    10.00  Automatic   \n",
       "1      Volkswagen  Polo GTI 34950.00   Petrol  1500.00  Automatic   \n",
       "2      Volkswagen  Polo GTI 29990.00   Petrol  9000.00  Automatic   \n",
       "3      Volkswagen  Polo GTI 33989.00   Petrol  3511.00  Automatic   \n",
       "4      Volkswagen  Polo GTI 37980.00   Petrol   211.00  Automatic   \n",
       "...           ...       ...      ...      ...      ...        ...   \n",
       "11017         BMW        i3 24500.00  Electro 41800.00  Automatic   \n",
       "11018         BMW        i3 19750.00  Electro 35846.00  Automatic   \n",
       "11020         BMW        i3 19999.00  Electro 34300.00  Automatic   \n",
       "11021         BMW        i3 21999.00  Electro 46000.00  Automatic   \n",
       "11022         BMW        i3 29490.00  Electro 42295.00  Automatic   \n",
       "\n",
       "       registration     hp  owner       body          car_condition  \\\n",
       "0           2023.00 152.00   1.00      Sedan  Demonstration vehicle   \n",
       "1           2023.00 152.00   1.00      Sedan  Demonstration vehicle   \n",
       "2           2023.00 152.00   1.00      Sedan  Demonstration vehicle   \n",
       "3           2023.00 152.00   1.00      Sedan  Demonstration vehicle   \n",
       "4           2023.00 152.00   1.00  Small car  Demonstration vehicle   \n",
       "...             ...    ...    ...        ...                    ...   \n",
       "11017       2018.00 135.00   2.00  Small car                   Used   \n",
       "11018       2018.00 125.00   1.00      Sedan                   Used   \n",
       "11020       2018.00 125.00   1.00  Small car                   Used   \n",
       "11021       2018.00  75.00   2.00  Small car                   Used   \n",
       "11022       2018.00 125.00   1.00      Sedan                   Used   \n",
       "\n",
       "       consumption  emission  color  displacement drive_type      class  \\\n",
       "0             4.20    138.00   Gray          1.98      Front  Small car   \n",
       "1             6.60    138.00  Black          2.00       Rear  Small car   \n",
       "2             7.40    138.00  White          1.98      Front  Small car   \n",
       "3             5.80    138.00  Black          1.98      Front  Small car   \n",
       "4             5.70    138.00  White          1.98      Front  Small car   \n",
       "...            ...       ...    ...           ...        ...        ...   \n",
       "11017         0.00      0.00   Gray          1.50       Rear  Small car   \n",
       "11018         0.00      0.00  Black          1.50       Rear  Small car   \n",
       "11020         0.00      0.00  Black          1.50       Rear  Small car   \n",
       "11021         0.00      0.00   Gray          1.50       Rear  Small car   \n",
       "11022         0.00      0.00    Red          1.50       Rear  Small car   \n",
       "\n",
       "       car_age                  car  \n",
       "0         0.00  Volkswagen Polo GTI  \n",
       "1         0.00  Volkswagen Polo GTI  \n",
       "2         0.00  Volkswagen Polo GTI  \n",
       "3         0.00  Volkswagen Polo GTI  \n",
       "4         0.00  Volkswagen Polo GTI  \n",
       "...        ...                  ...  \n",
       "11017     5.00               BMW i3  \n",
       "11018     5.00               BMW i3  \n",
       "11020     5.00               BMW i3  \n",
       "11021     5.00               BMW i3  \n",
       "11022     5.00               BMW i3  \n",
       "\n",
       "[9158 rows x 19 columns]"
      ]
     },
     "execution_count": 116,
     "metadata": {},
     "output_type": "execute_result"
    }
   ],
   "source": [
    "df.drop(['car_id'], inplace=True, axis=1)\n",
    "df"
   ]
  },
  {
   "cell_type": "code",
   "execution_count": 117,
   "metadata": {},
   "outputs": [],
   "source": [
    "df.rename(columns={'class': 'car_class'}, inplace=True)"
   ]
  },
  {
   "cell_type": "markdown",
   "metadata": {},
   "source": [
    "# DF for Machine Learning and EDA"
   ]
  },
  {
   "cell_type": "code",
   "execution_count": 118,
   "metadata": {},
   "outputs": [
    {
     "data": {
      "text/plain": [
       "(9158, 19)"
      ]
     },
     "execution_count": 118,
     "metadata": {},
     "output_type": "execute_result"
    }
   ],
   "source": [
    "df_ml = df.copy()\n",
    "df_ml.shape"
   ]
  },
  {
   "cell_type": "code",
   "execution_count": 119,
   "metadata": {},
   "outputs": [],
   "source": [
    "#df_ml.to_csv('../data/df_ml.csv', index=False)"
   ]
  },
  {
   "cell_type": "code",
   "execution_count": 119,
   "metadata": {},
   "outputs": [
    {
     "data": {
      "text/plain": [
       "make             0\n",
       "model            0\n",
       "price            0\n",
       "fuel             0\n",
       "mileage          0\n",
       "gear             0\n",
       "registration     0\n",
       "hp               0\n",
       "owner            0\n",
       "body             0\n",
       "car_condition    0\n",
       "consumption      0\n",
       "emission         0\n",
       "color            0\n",
       "displacement     0\n",
       "drive_type       0\n",
       "car_class        0\n",
       "car_age          0\n",
       "car              0\n",
       "dtype: int64"
      ]
     },
     "execution_count": 119,
     "metadata": {},
     "output_type": "execute_result"
    }
   ],
   "source": [
    "df_ml.isna().sum()"
   ]
  },
  {
   "cell_type": "code",
   "execution_count": null,
   "metadata": {},
   "outputs": [],
   "source": [
    "df_ml.info()"
   ]
  }
 ],
 "metadata": {
  "kernelspec": {
   "display_name": "Python 3 (ipykernel)",
   "language": "python",
   "name": "python3"
  },
  "language_info": {
   "codemirror_mode": {
    "name": "ipython",
    "version": 3
   },
   "file_extension": ".py",
   "mimetype": "text/x-python",
   "name": "python",
   "nbconvert_exporter": "python",
   "pygments_lexer": "ipython3",
   "version": "3.9.8"
  }
 },
 "nbformat": 4,
 "nbformat_minor": 4
}
